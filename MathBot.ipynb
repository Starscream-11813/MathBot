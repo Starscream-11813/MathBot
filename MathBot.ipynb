{
 "cells": [
  {
   "cell_type": "markdown",
   "metadata": {
    "id": "Cv0Gv1MfKPLv"
   },
   "source": [
    "\n",
    "# $$\\text{MathBot: A Transformer-based Math Word Problem Solver}$$\n",
    "## Setup\n",
    "Import the required python packages. Make sure to enable Tensorflow 2.x version."
   ]
  },
  {
   "cell_type": "code",
   "execution_count": 1,
   "metadata": {
    "colab": {
     "base_uri": "https://localhost:8080/"
    },
    "id": "XkE-7SXd_clz",
    "outputId": "5b5f06e5-9079-45ae-e76e-6dd786f9b6dc"
   },
   "outputs": [
    {
     "name": "stdout",
     "output_type": "stream",
     "text": [
      "`%tensorflow_version` only switches the major version: 1.x or 2.x.\n",
      "You set: `2.x # enable TF 2.x in Colab`. This will be interpreted as: `2.x`.\n",
      "\n",
      "\n",
      "TensorFlow 2.x selected.\n"
     ]
    }
   ],
   "source": [
    "import pandas as pd\n",
    "import re\n",
    "import os\n",
    "import time\n",
    "import random\n",
    "import numpy as np\n",
    "\n",
    "try:\n",
    "  %tensorflow_version 2.x # enable TF 2.x in Colab\n",
    "except Exception:\n",
    "  pass\n",
    "\n",
    "import tensorflow as tf\n",
    "import tensorflow_datasets as tfds\n",
    "import matplotlib.pyplot as plt\n",
    "import matplotlib.ticker as ticker\n",
    "from sklearn.model_selection import train_test_split\n",
    "from google.colab import drive\n",
    "import pickle\n",
    "\n",
    "import spacy\n",
    "\n",
    "nlp = spacy.load(\"en_core_web_sm\")\n",
    "from nltk.translate.bleu_score import corpus_bleu"
   ]
  },
  {
   "cell_type": "code",
   "execution_count": 2,
   "metadata": {
    "colab": {
     "base_uri": "https://localhost:8080/",
     "height": 36
    },
    "id": "JPbVYWxKAyDe",
    "outputId": "3cd30779-49f8-491c-bd8f-6d981f18c590"
   },
   "outputs": [
    {
     "data": {
      "application/vnd.google.colaboratory.intrinsic+json": {
       "type": "string"
      },
      "text/plain": [
       "'2.8.2'"
      ]
     },
     "execution_count": 2,
     "metadata": {},
     "output_type": "execute_result"
    }
   ],
   "source": [
    "tf.__version__"
   ]
  },
  {
   "cell_type": "code",
   "execution_count": 3,
   "metadata": {
    "colab": {
     "base_uri": "https://localhost:8080/"
    },
    "id": "UvLMZIxABNeg",
    "outputId": "8da2c27f-344f-48ab-f666-69092b6add04"
   },
   "outputs": [
    {
     "name": "stdout",
     "output_type": "stream",
     "text": [
      "Mounted at /content/drive\n"
     ]
    }
   ],
   "source": [
    "from google.colab import drive\n",
    "drive.mount('/content/drive')"
   ]
  },
  {
   "cell_type": "markdown",
   "metadata": {
    "id": "Ec2P_0CSSb-f"
   },
   "source": [
    "# Dataset\n",
    "We used a baseline dataset named [MAWPS](https://aclanthology.org/N16-1136.pdf), consisting of $2,373$ math word\n",
    "problems.\n",
    "A [question generator](https://github.com/RahulSharmaNITT/MathWordProblem) for math word problems was used to generate similar\n",
    "problems."
   ]
  },
  {
   "cell_type": "code",
   "execution_count": 4,
   "metadata": {
    "id": "9lFP37JsBT1d"
   },
   "outputs": [],
   "source": [
    "with open('/content/drive/MyDrive/MAWPS_Augmented.pkl', 'rb') as f:\n",
    "  df = pickle.load(f)"
   ]
  },
  {
   "cell_type": "markdown",
   "metadata": {
    "id": "qND57qXzSSZb"
   },
   "source": [
    "This augmented MAWPS dataset consists of $38,144$ Math Word Problems."
   ]
  },
  {
   "cell_type": "code",
   "execution_count": 5,
   "metadata": {
    "colab": {
     "base_uri": "https://localhost:8080/"
    },
    "id": "J8qPsEXbBuAs",
    "outputId": "58b544d5-ef06-4e31-a3f7-568de2707b1d"
   },
   "outputs": [
    {
     "data": {
      "text/plain": [
       "(38144, 2)"
      ]
     },
     "execution_count": 5,
     "metadata": {},
     "output_type": "execute_result"
    }
   ],
   "source": [
    "df.shape"
   ]
  },
  {
   "cell_type": "code",
   "execution_count": 6,
   "metadata": {
    "colab": {
     "base_uri": "https://localhost:8080/",
     "height": 676
    },
    "id": "uXq9g6ZxB3iA",
    "outputId": "c4a69dc8-c58a-4af9-aeab-3db7c116e506"
   },
   "outputs": [
    {
     "data": {
      "text/html": [
       "\n",
       "  <div id=\"df-eaea3c81-765b-421f-9d83-2fd0e77fc74d\">\n",
       "    <div class=\"colab-df-container\">\n",
       "      <div>\n",
       "<style scoped>\n",
       "    .dataframe tbody tr th:only-of-type {\n",
       "        vertical-align: middle;\n",
       "    }\n",
       "\n",
       "    .dataframe tbody tr th {\n",
       "        vertical-align: top;\n",
       "    }\n",
       "\n",
       "    .dataframe thead th {\n",
       "        text-align: right;\n",
       "    }\n",
       "</style>\n",
       "<table border=\"1\" class=\"dataframe\">\n",
       "  <thead>\n",
       "    <tr style=\"text-align: right;\">\n",
       "      <th></th>\n",
       "      <th>Question</th>\n",
       "      <th>Equation</th>\n",
       "    </tr>\n",
       "  </thead>\n",
       "  <tbody>\n",
       "    <tr>\n",
       "      <th>963</th>\n",
       "      <td>A painter needed to paint 12 rooms in a build...</td>\n",
       "      <td>X=(7.0*(12.0-5.0))</td>\n",
       "    </tr>\n",
       "    <tr>\n",
       "      <th>3897</th>\n",
       "      <td>Brenda had 253 raspberry. John gripped some ra...</td>\n",
       "      <td>X = 253 - 66</td>\n",
       "    </tr>\n",
       "    <tr>\n",
       "      <th>27626</th>\n",
       "      <td>Casey wants to share some Bread among 17 frien...</td>\n",
       "      <td>X = 39 * 17</td>\n",
       "    </tr>\n",
       "    <tr>\n",
       "      <th>32530</th>\n",
       "      <td>Liza had 34 Press. Thomas furnished him some m...</td>\n",
       "      <td>X = 64 - 34</td>\n",
       "    </tr>\n",
       "    <tr>\n",
       "      <th>16266</th>\n",
       "      <td>George wants to distribute 125 mangos among 25...</td>\n",
       "      <td>X = 125 / 25</td>\n",
       "    </tr>\n",
       "    <tr>\n",
       "      <th>21122</th>\n",
       "      <td>Richard has 148 Marbles. Gary gave him 42 more...</td>\n",
       "      <td>X = 42 + 148</td>\n",
       "    </tr>\n",
       "    <tr>\n",
       "      <th>17377</th>\n",
       "      <td>Mary wants to impart 547 limes among 24 friend...</td>\n",
       "      <td>X = 547 / 24</td>\n",
       "    </tr>\n",
       "    <tr>\n",
       "      <th>20997</th>\n",
       "      <td>Juana had some apricot. He hash each apricot i...</td>\n",
       "      <td>X = 149 / 9</td>\n",
       "    </tr>\n",
       "    <tr>\n",
       "      <th>2745</th>\n",
       "      <td>Timmy had 86 watermelon. Kandi took 40 from hi...</td>\n",
       "      <td>X = 86 - 40</td>\n",
       "    </tr>\n",
       "    <tr>\n",
       "      <th>2080</th>\n",
       "      <td>William had 99 pear. Martin took 67 from him. ...</td>\n",
       "      <td>X = 99 - 67</td>\n",
       "    </tr>\n",
       "    <tr>\n",
       "      <th>1004</th>\n",
       "      <td>A worksheet had 2 problems on it. If a teache...</td>\n",
       "      <td>X=(2.0*(14.0-7.0))</td>\n",
       "    </tr>\n",
       "    <tr>\n",
       "      <th>17624</th>\n",
       "      <td>Lin wants to divide 535 limes among 27 friends...</td>\n",
       "      <td>X = 535 / 27</td>\n",
       "    </tr>\n",
       "    <tr>\n",
       "      <th>16437</th>\n",
       "      <td>Lucille wants to share 170 mangos among 28 fri...</td>\n",
       "      <td>X = 170 / 28</td>\n",
       "    </tr>\n",
       "    <tr>\n",
       "      <th>999</th>\n",
       "      <td>James had 162 watermelon. Louise took 118 from...</td>\n",
       "      <td>X = 162 - 118</td>\n",
       "    </tr>\n",
       "    <tr>\n",
       "      <th>3242</th>\n",
       "      <td>Laura had 263 kiwi. Betty lay hold of some kiw...</td>\n",
       "      <td>X = 263 - 2</td>\n",
       "    </tr>\n",
       "    <tr>\n",
       "      <th>13396</th>\n",
       "      <td>Denise had 31 raspberry . He slice each raspbe...</td>\n",
       "      <td>X = 19 * 31</td>\n",
       "    </tr>\n",
       "    <tr>\n",
       "      <th>8767</th>\n",
       "      <td>Robert had some mango. Kristin took 59 from hi...</td>\n",
       "      <td>X = 82 + 59</td>\n",
       "    </tr>\n",
       "    <tr>\n",
       "      <th>33663</th>\n",
       "      <td>Omar had some lemon. Mary gave him 9 more. Now...</td>\n",
       "      <td>X = 46 - 9</td>\n",
       "    </tr>\n",
       "    <tr>\n",
       "      <th>31893</th>\n",
       "      <td>Frank had 30 Watch. Bruce gifted him some more...</td>\n",
       "      <td>X = 199 - 30</td>\n",
       "    </tr>\n",
       "    <tr>\n",
       "      <th>34895</th>\n",
       "      <td>Deloise had some lemon. Peter gave him 1 more....</td>\n",
       "      <td>X = 43 - 1</td>\n",
       "    </tr>\n",
       "  </tbody>\n",
       "</table>\n",
       "</div>\n",
       "      <button class=\"colab-df-convert\" onclick=\"convertToInteractive('df-eaea3c81-765b-421f-9d83-2fd0e77fc74d')\"\n",
       "              title=\"Convert this dataframe to an interactive table.\"\n",
       "              style=\"display:none;\">\n",
       "        \n",
       "  <svg xmlns=\"http://www.w3.org/2000/svg\" height=\"24px\"viewBox=\"0 0 24 24\"\n",
       "       width=\"24px\">\n",
       "    <path d=\"M0 0h24v24H0V0z\" fill=\"none\"/>\n",
       "    <path d=\"M18.56 5.44l.94 2.06.94-2.06 2.06-.94-2.06-.94-.94-2.06-.94 2.06-2.06.94zm-11 1L8.5 8.5l.94-2.06 2.06-.94-2.06-.94L8.5 2.5l-.94 2.06-2.06.94zm10 10l.94 2.06.94-2.06 2.06-.94-2.06-.94-.94-2.06-.94 2.06-2.06.94z\"/><path d=\"M17.41 7.96l-1.37-1.37c-.4-.4-.92-.59-1.43-.59-.52 0-1.04.2-1.43.59L10.3 9.45l-7.72 7.72c-.78.78-.78 2.05 0 2.83L4 21.41c.39.39.9.59 1.41.59.51 0 1.02-.2 1.41-.59l7.78-7.78 2.81-2.81c.8-.78.8-2.07 0-2.86zM5.41 20L4 18.59l7.72-7.72 1.47 1.35L5.41 20z\"/>\n",
       "  </svg>\n",
       "      </button>\n",
       "      \n",
       "  <style>\n",
       "    .colab-df-container {\n",
       "      display:flex;\n",
       "      flex-wrap:wrap;\n",
       "      gap: 12px;\n",
       "    }\n",
       "\n",
       "    .colab-df-convert {\n",
       "      background-color: #E8F0FE;\n",
       "      border: none;\n",
       "      border-radius: 50%;\n",
       "      cursor: pointer;\n",
       "      display: none;\n",
       "      fill: #1967D2;\n",
       "      height: 32px;\n",
       "      padding: 0 0 0 0;\n",
       "      width: 32px;\n",
       "    }\n",
       "\n",
       "    .colab-df-convert:hover {\n",
       "      background-color: #E2EBFA;\n",
       "      box-shadow: 0px 1px 2px rgba(60, 64, 67, 0.3), 0px 1px 3px 1px rgba(60, 64, 67, 0.15);\n",
       "      fill: #174EA6;\n",
       "    }\n",
       "\n",
       "    [theme=dark] .colab-df-convert {\n",
       "      background-color: #3B4455;\n",
       "      fill: #D2E3FC;\n",
       "    }\n",
       "\n",
       "    [theme=dark] .colab-df-convert:hover {\n",
       "      background-color: #434B5C;\n",
       "      box-shadow: 0px 1px 3px 1px rgba(0, 0, 0, 0.15);\n",
       "      filter: drop-shadow(0px 1px 2px rgba(0, 0, 0, 0.3));\n",
       "      fill: #FFFFFF;\n",
       "    }\n",
       "  </style>\n",
       "\n",
       "      <script>\n",
       "        const buttonEl =\n",
       "          document.querySelector('#df-eaea3c81-765b-421f-9d83-2fd0e77fc74d button.colab-df-convert');\n",
       "        buttonEl.style.display =\n",
       "          google.colab.kernel.accessAllowed ? 'block' : 'none';\n",
       "\n",
       "        async function convertToInteractive(key) {\n",
       "          const element = document.querySelector('#df-eaea3c81-765b-421f-9d83-2fd0e77fc74d');\n",
       "          const dataTable =\n",
       "            await google.colab.kernel.invokeFunction('convertToInteractive',\n",
       "                                                     [key], {});\n",
       "          if (!dataTable) return;\n",
       "\n",
       "          const docLinkHtml = 'Like what you see? Visit the ' +\n",
       "            '<a target=\"_blank\" href=https://colab.research.google.com/notebooks/data_table.ipynb>data table notebook</a>'\n",
       "            + ' to learn more about interactive tables.';\n",
       "          element.innerHTML = '';\n",
       "          dataTable['output_type'] = 'display_data';\n",
       "          await google.colab.output.renderOutput(dataTable, element);\n",
       "          const docLink = document.createElement('div');\n",
       "          docLink.innerHTML = docLinkHtml;\n",
       "          element.appendChild(docLink);\n",
       "        }\n",
       "      </script>\n",
       "    </div>\n",
       "  </div>\n",
       "  "
      ],
      "text/plain": [
       "                                                Question            Equation\n",
       "963     A painter needed to paint 12 rooms in a build...  X=(7.0*(12.0-5.0))\n",
       "3897   Brenda had 253 raspberry. John gripped some ra...        X = 253 - 66\n",
       "27626  Casey wants to share some Bread among 17 frien...         X = 39 * 17\n",
       "32530  Liza had 34 Press. Thomas furnished him some m...         X = 64 - 34\n",
       "16266  George wants to distribute 125 mangos among 25...        X = 125 / 25\n",
       "21122  Richard has 148 Marbles. Gary gave him 42 more...        X = 42 + 148\n",
       "17377  Mary wants to impart 547 limes among 24 friend...        X = 547 / 24\n",
       "20997  Juana had some apricot. He hash each apricot i...         X = 149 / 9\n",
       "2745   Timmy had 86 watermelon. Kandi took 40 from hi...         X = 86 - 40\n",
       "2080   William had 99 pear. Martin took 67 from him. ...         X = 99 - 67\n",
       "1004    A worksheet had 2 problems on it. If a teache...  X=(2.0*(14.0-7.0))\n",
       "17624  Lin wants to divide 535 limes among 27 friends...        X = 535 / 27\n",
       "16437  Lucille wants to share 170 mangos among 28 fri...        X = 170 / 28\n",
       "999    James had 162 watermelon. Louise took 118 from...       X = 162 - 118\n",
       "3242   Laura had 263 kiwi. Betty lay hold of some kiw...         X = 263 - 2\n",
       "13396  Denise had 31 raspberry . He slice each raspbe...         X = 19 * 31\n",
       "8767   Robert had some mango. Kristin took 59 from hi...         X = 82 + 59\n",
       "33663  Omar had some lemon. Mary gave him 9 more. Now...          X = 46 - 9\n",
       "31893  Frank had 30 Watch. Bruce gifted him some more...        X = 199 - 30\n",
       "34895  Deloise had some lemon. Peter gave him 1 more....          X = 43 - 1"
      ]
     },
     "execution_count": 6,
     "metadata": {},
     "output_type": "execute_result"
    }
   ],
   "source": [
    "df.head(20)"
   ]
  },
  {
   "cell_type": "code",
   "execution_count": 7,
   "metadata": {
    "id": "a6CML8sJB5YW"
   },
   "outputs": [],
   "source": [
    "X = list(df['Question'].values)"
   ]
  },
  {
   "cell_type": "markdown",
   "metadata": {
    "id": "Ls5PaQghTuM3"
   },
   "source": [
    "Padding with spaces."
   ]
  },
  {
   "cell_type": "code",
   "execution_count": 8,
   "metadata": {
    "id": "std_orA3bMTh"
   },
   "outputs": [],
   "source": [
    "def spacify(s):\n",
    "    return ' '.join(list(s))"
   ]
  },
  {
   "cell_type": "code",
   "execution_count": 9,
   "metadata": {
    "id": "fS6xiYr4DR44"
   },
   "outputs": [],
   "source": [
    "Y = list(df['Equation'].apply(lambda y: spacify(y)).values)"
   ]
  },
  {
   "cell_type": "code",
   "execution_count": 10,
   "metadata": {
    "colab": {
     "base_uri": "https://localhost:8080/"
    },
    "id": "VNtMcQptm8zz",
    "outputId": "f165e337-6817-48bc-a0d7-38ac36cb845b"
   },
   "outputs": [
    {
     "name": "stdout",
     "output_type": "stream",
     "text": [
      "[' A painter needed to paint 12 rooms in a building. Each room takes 7 hours to paint. If he already painted 5 rooms, how much longer will he take to paint the rest? ', 'Brenda had 253 raspberry. John gripped some raspberry. Now Brenda has 66  raspberry. How many did John grippeds?', 'Casey wants to share some Bread among 17 friends.If each friend get 39 Bread, then how many Bread john would have?', 'Liza had 34 Press. Thomas furnished him some more. Now Liza has 64 Press. How many did Thomas furnish him?', 'George wants to distribute 125 mangos among 25 friends. How many would each friend acquire?', 'Richard has 148 Marbles. Gary gave him 42 more. How many Marbles does Richard have altogether?', 'Mary wants to impart 547 limes among 24 friends. How many would each friend obtain?', 'Juana had some apricot. He hash each apricot into 9 slices. If total 149 apricot slices Juana make, then how many apricot Juana had?', 'Timmy had 86 watermelon. Kandi took 40 from him. Now How many watermelon Timmy have decreased by?', 'William had 99 pear. Martin took 67 from him. Now How many pear William have left over?']\n"
     ]
    },
    {
     "data": {
      "text/plain": [
       "['X = ( 7 . 0 * ( 1 2 . 0 - 5 . 0 ) )',\n",
       " 'X   =   2 5 3   -   6 6',\n",
       " 'X   =   3 9   *   1 7',\n",
       " 'X   =   6 4   -   3 4',\n",
       " 'X   =   1 2 5   /   2 5',\n",
       " 'X   =   4 2   +   1 4 8',\n",
       " 'X   =   5 4 7   /   2 4',\n",
       " 'X   =   1 4 9   /   9',\n",
       " 'X   =   8 6   -   4 0',\n",
       " 'X   =   9 9   -   6 7']"
      ]
     },
     "execution_count": 10,
     "metadata": {},
     "output_type": "execute_result"
    }
   ],
   "source": [
    "print(X[:10])\n",
    "Y[:10]"
   ]
  },
  {
   "cell_type": "markdown",
   "metadata": {
    "id": "EXwtQnVmT25-"
   },
   "source": [
    "## Data Preprocessing\n",
    "• **Lowercase alphabets** —\n",
    "\n",
    "`‘John has 20 apples.’` → `‘john has 20 apples.’`\n",
    "<br/><br/>\n",
    "• **Padding Spaces and removing extra whitespaces** —\n",
    "\n",
    "`‘john has 20 apples.’` → `‘john has 2 0 apples .’`\n",
    "\n",
    "`‘X = (7.0 ∗ (12.0 − 5.0))’` → `‘x = ( 7 . 0 ∗ ( 1 2 . 0 − 5 . 0 ) )’`\n",
    "<br/><br/>\n",
    "• **Tokenizing** —\n",
    "\n",
    "`‘john has 2 0 apples .’` → `[‘john’, ‘has’, ‘2’, ‘0’, ‘apples’, ‘.’]`\n",
    "\n",
    "`‘x = ( 7 . 0 ∗ ( 1 2 . 0 − 5 . 0 ) )’` → `[‘x’, ‘=‘, ‘(‘, ... , ’)’]`\n",
    "<br/><br/>\n",
    "• **Converting to Tensor Sequences** —\n",
    "\n",
    "`[‘john’, ‘has’, ‘2’, ‘0’, ‘apples’, ‘.’]` → `[104, 2454, ..., 69, 911]`\n",
    "\n",
    "`[‘x’, ‘=’, ‘(’, ... , ‘)’]` → $[2, 1, ..., 6]$\n",
    "<br/><br/>\n",
    "• **Zero Padding for equalizing sequence lengths** —\n",
    "\n",
    "$[104, 2454, ..., 69, 911]$ → $[104, 2454, ..., 69, 911, 0, ..., 0, 0, 0]$"
   ]
  },
  {
   "cell_type": "code",
   "execution_count": 11,
   "metadata": {
    "id": "0s8VKTOtnFYT"
   },
   "outputs": [],
   "source": [
    "def preprocess_X(s):\n",
    "    s = s.lower().strip()\n",
    "    s = re.sub(r\"([?.!,’])\", r\" \\1 \", s)\n",
    "    s = re.sub(r\"([0-9])\", r\" \\1 \", s)\n",
    "    s = re.sub(r'[\" \"]+', \" \", s)\n",
    "    s = s.rstrip().strip()\n",
    "    return s\n",
    "\n",
    "def preprocess_Y(e):\n",
    "    e = e.lower().strip()\n",
    "    return e"
   ]
  },
  {
   "cell_type": "code",
   "execution_count": 12,
   "metadata": {
    "id": "IdHhHPSVIgaN"
   },
   "outputs": [],
   "source": [
    "X_pp = list(map(preprocess_X, X))\n",
    "Y_pp = list(map(preprocess_Y, Y))"
   ]
  },
  {
   "cell_type": "code",
   "execution_count": 13,
   "metadata": {
    "colab": {
     "base_uri": "https://localhost:8080/"
    },
    "id": "BQXzmnYnKKz5",
    "outputId": "77f4bc52-e4a5-4177-f764-8263d8041b68"
   },
   "outputs": [
    {
     "data": {
      "text/plain": [
       "['a painter needed to paint 1 2 rooms in a building . each room takes 7 hours to paint . if he already painted 5 rooms , how much longer will he take to paint the rest ?',\n",
       " 'brenda had 2 5 3 raspberry . john gripped some raspberry . now brenda has 6 6 raspberry . how many did john grippeds ?',\n",
       " 'casey wants to share some bread among 1 7 friends . if each friend get 3 9 bread , then how many bread john would have ?',\n",
       " 'liza had 3 4 press . thomas furnished him some more . now liza has 6 4 press . how many did thomas furnish him ?',\n",
       " 'george wants to distribute 1 2 5 mangos among 2 5 friends . how many would each friend acquire ?',\n",
       " 'richard has 1 4 8 marbles . gary gave him 4 2 more . how many marbles does richard have altogether ?',\n",
       " 'mary wants to impart 5 4 7 limes among 2 4 friends . how many would each friend obtain ?',\n",
       " 'juana had some apricot . he hash each apricot into 9 slices . if total 1 4 9 apricot slices juana make , then how many apricot juana had ?',\n",
       " 'timmy had 8 6 watermelon . kandi took 4 0 from him . now how many watermelon timmy have decreased by ?',\n",
       " 'william had 9 9 pear . martin took 6 7 from him . now how many pear william have left over ?']"
      ]
     },
     "execution_count": 13,
     "metadata": {},
     "output_type": "execute_result"
    }
   ],
   "source": [
    "X_pp[:10]"
   ]
  },
  {
   "cell_type": "code",
   "execution_count": 14,
   "metadata": {
    "colab": {
     "base_uri": "https://localhost:8080/"
    },
    "id": "rZidO61VKOYP",
    "outputId": "62dca002-e16e-4bf3-fb7c-d6ab0ad1f418"
   },
   "outputs": [
    {
     "data": {
      "text/plain": [
       "['x = ( 7 . 0 * ( 1 2 . 0 - 5 . 0 ) )',\n",
       " 'x   =   2 5 3   -   6 6',\n",
       " 'x   =   3 9   *   1 7',\n",
       " 'x   =   6 4   -   3 4',\n",
       " 'x   =   1 2 5   /   2 5',\n",
       " 'x   =   4 2   +   1 4 8',\n",
       " 'x   =   5 4 7   /   2 4',\n",
       " 'x   =   1 4 9   /   9',\n",
       " 'x   =   8 6   -   4 0',\n",
       " 'x   =   9 9   -   6 7']"
      ]
     },
     "execution_count": 14,
     "metadata": {},
     "output_type": "execute_result"
    }
   ],
   "source": [
    "Y_pp[:10]"
   ]
  },
  {
   "cell_type": "code",
   "execution_count": 15,
   "metadata": {
    "id": "tWN-cKX2MiGW"
   },
   "outputs": [],
   "source": [
    "def tokenize(lang):\n",
    "    lang_tokenizer = tf.keras.preprocessing.text.Tokenizer(filters='')\n",
    "    lang_tokenizer.fit_on_texts(lang)\n",
    "    tensor = lang_tokenizer.texts_to_sequences(lang)\n",
    "    return tensor, lang_tokenizer"
   ]
  },
  {
   "cell_type": "code",
   "execution_count": 16,
   "metadata": {
    "id": "H0uSjv85tKTu"
   },
   "outputs": [],
   "source": [
    "X_tensor, X_lang_tokenizer = tokenize(X_pp)"
   ]
  },
  {
   "cell_type": "code",
   "execution_count": 17,
   "metadata": {
    "colab": {
     "base_uri": "https://localhost:8080/"
    },
    "id": "rPV5DMaGtTuE",
    "outputId": "dc8d1cc3-245b-470a-ae99-7c1ca34eff9e"
   },
   "outputs": [
    {
     "data": {
      "text/plain": [
       "5887"
      ]
     },
     "execution_count": 17,
     "metadata": {},
     "output_type": "execute_result"
    }
   ],
   "source": [
    "len(X_lang_tokenizer.word_index)"
   ]
  },
  {
   "cell_type": "code",
   "execution_count": 18,
   "metadata": {
    "id": "ctOL4qqvtYDd"
   },
   "outputs": [],
   "source": [
    "Y_tensor, Y_lang_tokenizer = tokenize(Y_pp)"
   ]
  },
  {
   "cell_type": "code",
   "execution_count": 19,
   "metadata": {
    "colab": {
     "base_uri": "https://localhost:8080/"
    },
    "id": "v8tgdmUatlgj",
    "outputId": "0d34aa9e-e57d-4f98-a04e-1a026bdbac41"
   },
   "outputs": [
    {
     "data": {
      "text/plain": [
       "45"
      ]
     },
     "execution_count": 19,
     "metadata": {},
     "output_type": "execute_result"
    }
   ],
   "source": [
    "len(Y_lang_tokenizer.word_index)"
   ]
  },
  {
   "cell_type": "code",
   "execution_count": 20,
   "metadata": {
    "id": "zvnLxSPSttVx"
   },
   "outputs": [],
   "source": [
    "previous_length = len(Y_lang_tokenizer.word_index)"
   ]
  },
  {
   "cell_type": "markdown",
   "metadata": {
    "id": "NW7B33EEWeug"
   },
   "source": [
    "Add integers for `<start>` and `<end>` tokens for input problems and target math expressions."
   ]
  },
  {
   "cell_type": "code",
   "execution_count": 21,
   "metadata": {
    "id": "YfOwXSN_t8Z0"
   },
   "outputs": [],
   "source": [
    "def append_head_tail(x, last_int):\n",
    "    l = []\n",
    "    l.append(last_int + 1)\n",
    "    l.extend(x)\n",
    "    l.append(last_int + 2)\n",
    "    return l"
   ]
  },
  {
   "cell_type": "code",
   "execution_count": 22,
   "metadata": {
    "id": "S8wwk6peTuCO"
   },
   "outputs": [],
   "source": [
    "X_tensor_list = [append_head_tail(i, len(X_lang_tokenizer.word_index)) for i in X_tensor]\n",
    "Y_tensor_list = [append_head_tail(i, len(Y_lang_tokenizer.word_index)) for i in Y_tensor]"
   ]
  },
  {
   "cell_type": "markdown",
   "metadata": {
    "id": "uTPk_A9WW-uZ"
   },
   "source": [
    "Padding the sequences with $0$'s to make them equal in length."
   ]
  },
  {
   "cell_type": "code",
   "execution_count": 23,
   "metadata": {
    "id": "PczsB9o3UGqg"
   },
   "outputs": [],
   "source": [
    "X_tensor = tf.keras.preprocessing.sequence.pad_sequences(X_tensor_list, padding='post')\n",
    "Y_tensor = tf.keras.preprocessing.sequence.pad_sequences(Y_tensor_list, padding='post')"
   ]
  },
  {
   "cell_type": "code",
   "execution_count": 24,
   "metadata": {
    "colab": {
     "base_uri": "https://localhost:8080/"
    },
    "id": "3v8KC9JxUffC",
    "outputId": "1f668430-74e9-4b3e-a506-63c6abdc62fa"
   },
   "outputs": [
    {
     "data": {
      "text/plain": [
       "array([[5888,  104, 2454, ...,    0,    0,    0],\n",
       "       [5888,  280,    6, ...,    0,    0,    0],\n",
       "       [5888,  811,   43, ...,    0,    0,    0],\n",
       "       ...,\n",
       "       [5888,  380,   12, ...,    0,    0,    0],\n",
       "       [5888,  167,    6, ...,    0,    0,    0],\n",
       "       [5888,  404,    6, ...,    0,    0,    0]], dtype=int32)"
      ]
     },
     "execution_count": 24,
     "metadata": {},
     "output_type": "execute_result"
    }
   ],
   "source": [
    "X_tensor"
   ]
  },
  {
   "cell_type": "code",
   "execution_count": 25,
   "metadata": {
    "colab": {
     "base_uri": "https://localhost:8080/"
    },
    "id": "V-y9x-a2UjQu",
    "outputId": "fb75c186-c41b-4ac6-81f0-316b69661e17"
   },
   "outputs": [
    {
     "data": {
      "text/plain": [
       "array([[46,  2,  1, ...,  0,  0,  0],\n",
       "       [46,  2,  1, ...,  0,  0,  0],\n",
       "       [46,  2,  1, ...,  0,  0,  0],\n",
       "       ...,\n",
       "       [46,  2,  1, ...,  0,  0,  0],\n",
       "       [46,  2,  1, ...,  0,  0,  0],\n",
       "       [46,  2,  1, ...,  0,  0,  0]], dtype=int32)"
      ]
     },
     "execution_count": 25,
     "metadata": {},
     "output_type": "execute_result"
    }
   ],
   "source": [
    "Y_tensor"
   ]
  },
  {
   "cell_type": "markdown",
   "metadata": {
    "id": "m7O8qJrcXRji"
   },
   "source": [
    "Increasing the vocabulary size of the target by including some fodder words which won't be used. This is done to avoid problems later which manifest due to short vocabulary size."
   ]
  },
  {
   "cell_type": "code",
   "execution_count": 26,
   "metadata": {
    "id": "VpdLKc7AUkkX"
   },
   "outputs": [],
   "source": [
    "keys = ['10', '11', '12', '13', '14', '15', '16', '17', '18', '19', '20', '21',\n",
    "        '22', '23', '24', '25', '26', '27', '28', '29', '30', '31', '32', '33',\n",
    "        '34', '35', '36', '37', '38', '39', '40', '41', '42', '43', '44', '45',\n",
    "        '46', '47', '48', '49', '50']\n",
    "\n",
    "for idx,key in enumerate(keys):\n",
    "    Y_lang_tokenizer.word_index[key] = len(Y_lang_tokenizer.word_index) + idx + 4"
   ]
  },
  {
   "cell_type": "code",
   "execution_count": 27,
   "metadata": {
    "colab": {
     "base_uri": "https://localhost:8080/"
    },
    "id": "Rus-G6s5Vn8W",
    "outputId": "12c30c70-7639-4e1d-8b76-47650b5b32a8"
   },
   "outputs": [
    {
     "data": {
      "text/plain": [
       "86"
      ]
     },
     "execution_count": 27,
     "metadata": {},
     "output_type": "execute_result"
    }
   ],
   "source": [
    "len(Y_lang_tokenizer.word_index)"
   ]
  },
  {
   "cell_type": "markdown",
   "metadata": {
    "id": "FkYvPm_6XoAC"
   },
   "source": [
    "#### **Train-Test Split** → 95 : 5"
   ]
  },
  {
   "cell_type": "code",
   "execution_count": 28,
   "metadata": {
    "id": "X6bAZFntVq67"
   },
   "outputs": [],
   "source": [
    "X_tensor_train, X_tensor_test, Y_tensor_train, Y_tensor_test = train_test_split(X_tensor, Y_tensor, test_size=0.05, random_state=42)"
   ]
  },
  {
   "cell_type": "code",
   "execution_count": 29,
   "metadata": {
    "colab": {
     "base_uri": "https://localhost:8080/"
    },
    "id": "3PtyJJ7HYNdj",
    "outputId": "e32013fd-49d3-4790-9d92-b6582622ad52"
   },
   "outputs": [
    {
     "name": "stdout",
     "output_type": "stream",
     "text": [
      "36236 1908 36236 1908\n"
     ]
    }
   ],
   "source": [
    "print(len(X_tensor_train), len(X_tensor_test), len(Y_tensor_train), len(Y_tensor_test)) "
   ]
  },
  {
   "cell_type": "markdown",
   "metadata": {
    "id": "dSj6TDPIYjBs"
   },
   "source": [
    "## Hyperparameters\n",
    "\n",
    "• Number of Encoder-Decoder layers, $N = 4$.\n",
    "\n",
    "• Embedding dimension of input/output, $d_{model} = 128$.\n",
    "\n",
    "• Number of Self-Attention heads, $h = 8$.\n",
    "\n",
    "• Dropout Rate, $P_{drop} = 0$.\n",
    "\n",
    "• Size of each mini-batch = $64$.\n",
    "\n",
    "• Epochs = $17$."
   ]
  },
  {
   "cell_type": "code",
   "execution_count": 30,
   "metadata": {
    "id": "oFsPMpp3YP-R"
   },
   "outputs": [],
   "source": [
    "TRAINING_SET_SIZE = len(X_tensor_train)\n",
    "BATCH_SIZE = 64\n",
    "steps_per_epoch = np.floor(TRAINING_SET_SIZE/BATCH_SIZE)\n",
    "\n",
    "data = tf.data.Dataset.from_tensor_slices((X_tensor_train, Y_tensor_train)).shuffle(TRAINING_SET_SIZE)\n",
    "data = data.batch(BATCH_SIZE, drop_remainder=True)\n",
    "\n",
    "num_layers = 4\n",
    "d_model = 128       # Embedding dimension\n",
    "dff = 512           # Dimensionality of inner-layer of FNN\n",
    "num_heads = 8       # Number of parallel attention layers (heads)\n",
    "dropout_rate = 0\n",
    "\n",
    "X_vocabulary_size = len(X_lang_tokenizer.word_index) + 3\n",
    "Y_vocabulary_size = len(Y_lang_tokenizer.word_index) + 3"
   ]
  },
  {
   "cell_type": "code",
   "execution_count": 31,
   "metadata": {
    "id": "G0CuRW76h1GQ"
   },
   "outputs": [],
   "source": [
    "data = data.prefetch(tf.data.experimental.AUTOTUNE)"
   ]
  },
  {
   "cell_type": "code",
   "execution_count": 32,
   "metadata": {
    "colab": {
     "base_uri": "https://localhost:8080/"
    },
    "id": "7j1ojB1egmlm",
    "outputId": "f5130bf1-1969-4450-fc1c-74c74aae3230"
   },
   "outputs": [
    {
     "data": {
      "text/plain": [
       "<PrefetchDataset element_spec=(TensorSpec(shape=(64, 124), dtype=tf.int32, name=None), TensorSpec(shape=(64, 66), dtype=tf.int32, name=None))>"
      ]
     },
     "execution_count": 32,
     "metadata": {},
     "output_type": "execute_result"
    }
   ],
   "source": [
    "data"
   ]
  },
  {
   "cell_type": "code",
   "execution_count": 33,
   "metadata": {
    "colab": {
     "base_uri": "https://localhost:8080/"
    },
    "id": "X-fw0DvXgAZp",
    "outputId": "781bcaeb-4efa-4a92-c82f-5e361ac8540c"
   },
   "outputs": [
    {
     "name": "stdout",
     "output_type": "stream",
     "text": [
      "tf.Tensor(\n",
      "[[5888  104 1139 ...    0    0    0]\n",
      " [5888  395  794 ...    0    0    0]\n",
      " [5888 1075    6 ...    0    0    0]\n",
      " ...\n",
      " [5888  484  137 ...    0    0    0]\n",
      " [5888 1678    6 ...    0    0    0]\n",
      " [5888  108    6 ...    0    0    0]], shape=(64, 124), dtype=int32) tf.Tensor(\n",
      "[[46  2  1 ...  0  0  0]\n",
      " [46  2  1 ...  0  0  0]\n",
      " [46  2  1 ...  0  0  0]\n",
      " ...\n",
      " [46  2  1 ...  0  0  0]\n",
      " [46  2  1 ...  0  0  0]\n",
      " [46  2  1 ...  0  0  0]], shape=(64, 66), dtype=int32)\n"
     ]
    }
   ],
   "source": [
    "X_batch_example, Y_batch_example = next(iter(data))\n",
    "\n",
    "print(X_batch_example, Y_batch_example)"
   ]
  },
  {
   "cell_type": "markdown",
   "metadata": {
    "id": "Uu2qvMUUahie"
   },
   "source": [
    "# The Transformer Model behind $\\operatorname{MathBot}$\n",
    "\n",
    "![image.png](data:image/png;base64,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)"
   ]
  },
  {
   "cell_type": "markdown",
   "metadata": {
    "id": "TPahcFr7b64W"
   },
   "source": [
    "## Positional Encoding\n",
    "Since transformers have no recurrence or convolution, we use positional encoding to let the model have an idea about the relative positions of the tokens in a sequence.\n",
    "$$\n",
    "$$\n",
    "        \\begin{aligned}\n",
    "        \\text{PE}(pos,2i)=sin\\left(\\frac{pos}{10000^{2i/d_{model}}}\\right)\\\\\n",
    "        \\text{PE}(pos,2i + 1)=cos\\left(\\frac{pos}{10000^{2i/d_{model}}}\\right)\n",
    "        \\end{aligned}\n"
   ]
  },
  {
   "cell_type": "code",
   "execution_count": 34,
   "metadata": {
    "id": "PW91f5mng8M1"
   },
   "outputs": [],
   "source": [
    "def get_angles(pos, i, d_model):\n",
    "    angle_rates = 1 / np.power(10000, (2 * (i//2)) / np.float32(d_model))\n",
    "    return pos * angle_rates"
   ]
  },
  {
   "cell_type": "code",
   "execution_count": 35,
   "metadata": {
    "id": "hPC-lliMhRaf"
   },
   "outputs": [],
   "source": [
    "def positional_encoding(position, d_model):\n",
    "    angle_rads = get_angles(np.arange(position)[:, np.newaxis],\n",
    "                            np.arange(d_model)[np.newaxis, :],\n",
    "                            d_model)\n",
    "    \n",
    "    # apply sin to even indices in the array; 2i\n",
    "    angle_rads[:, 0::2] = np.sin(angle_rads[:, 0::2])\n",
    "    \n",
    "    # apply cos to odd indices in the array; 2i+1\n",
    "    angle_rads[:, 1::2] = np.cos(angle_rads[:, 1::2])\n",
    "        \n",
    "    pos_encoding = angle_rads[np.newaxis, ...]\n",
    "        \n",
    "    return tf.cast(pos_encoding, dtype=tf.float32)"
   ]
  },
  {
   "cell_type": "markdown",
   "metadata": {
    "id": "Ww7C3lcbd8Y8"
   },
   "source": [
    "# Masking\n",
    "We mask all the padding elements so that they\n",
    "are not considered as input to the model. The position of the\n",
    "pad tokens are the positions at which the mask shows $1$ and\n",
    "at the other locations it shows $0$. The subsequent tokens in\n",
    "a sequence are masked using the look-ahead mask and this\n",
    "mask indicates the entries that should be avoided."
   ]
  },
  {
   "cell_type": "code",
   "execution_count": 36,
   "metadata": {
    "id": "78OHKES-hpz5"
   },
   "outputs": [],
   "source": [
    "def create_padding_mask(seq):\n",
    "    seq = tf.cast(tf.math.equal(seq, 0), tf.float32)\n",
    "    \n",
    "    # add extra dimensions to add the padding\n",
    "    # to the attention logits.\n",
    "    return seq[:, tf.newaxis, tf.newaxis, :]  # (batch_size, 1, 1, seq_len)"
   ]
  },
  {
   "cell_type": "code",
   "execution_count": 37,
   "metadata": {
    "id": "h8MzQcEnhwLa"
   },
   "outputs": [],
   "source": [
    "def create_look_ahead_mask(size):\n",
    "    mask = 1 - tf.linalg.band_part(tf.ones((size, size)), -1, 0)\n",
    "    return mask"
   ]
  },
  {
   "cell_type": "markdown",
   "metadata": {
    "id": "o5OUc7coeJE7"
   },
   "source": [
    "# Scaled Dot-product Attention\n",
    "A *“soft”* dictionary lookup which returns a weighted sum of the values in the\n",
    "corpus. This weight represents the usefulness of a particular token in embedding the query token. Then, it is scaled by dividing with $\\sqrt{d_k}$ inside softmax.\n",
    "$$$$\n",
    "    \\begin{aligned}\n",
    "        Attention(Q, K, V) = softmax(\\frac{QK^T}{\\sqrt{d_k}})V\n",
    "    \\end{aligned}\n",
    "\n",
    "![MLReport3.PNG](data:image/png;base64,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)"
   ]
  },
  {
   "cell_type": "code",
   "execution_count": 38,
   "metadata": {
    "id": "o2vY_NcMjIZR"
   },
   "outputs": [],
   "source": [
    "def scaled_dot_product_attention(q, k, v, mask):\n",
    "    matmul_qk = tf.matmul(q, k, transpose_b=True)  # (..., seq_len_q, seq_len_k)\n",
    "    \n",
    "    # scale matmul_qk\n",
    "    dk = tf.cast(tf.shape(k)[-1], tf.float32)\n",
    "    scaled_attention_logits = matmul_qk / tf.math.sqrt(dk)\n",
    "\n",
    "    # add the mask to the scaled tensor.\n",
    "    if mask is not None:\n",
    "        scaled_attention_logits += (mask * -1e9)  \n",
    "\n",
    "    # softmax is normalized on the last axis (seq_len_k) so that the scores\n",
    "    # add up to 1.\n",
    "    attention_weights = tf.nn.softmax(scaled_attention_logits, axis=-1)  # (..., seq_len_q, seq_len_k)\n",
    "\n",
    "    output = tf.matmul(attention_weights, v)  # (..., seq_len_q, depth_v)\n",
    "\n",
    "    return output, attention_weights"
   ]
  },
  {
   "cell_type": "markdown",
   "metadata": {
    "id": "itVRHkDtezu2"
   },
   "source": [
    "# Multi-Head Attention\n",
    "It is a combination of $h$ self-attention heads, where each head is sandwiched between two linear layers.\n",
    "![MLReport4.PNG](data:image/png;base64,iVBORw0KGgoAAAANSUhEUgAAAVwAAAGxCAYAAAAuzA5wAAAAAXNSR0IArs4c6QAAAARnQU1BAACxjwv8YQUAAAAJcEhZcwAAEnQAABJ0Ad5mH3gAAJNKSURBVHhe7Z0HmFRF9vY//+YsiopEUSQpooKoRAETiJizgIICEgTJQXLOSXLOOcOQc845g+QkZl3XXXf3fPdXM3W503MHJvVMz/R5n+d9YLqrb98+99Rbp06l/ycKhUKhSBao4CoUCkUyQQVXoVAokgkquIqg488//5SpU6dG/aVQhC9UcBVBx4IFCyR//vzy3//+N+oVhSI8oYKrCCr+97//Sc6cOeW6666TXbt2Rb2qUIQnVHAVQcWxY8fkmmuukf/3//6ffPHFF0aAFYpwhQquIqioWrWqEVt44403ym+//Rb1jkIRflDBVQQNv//+u9xxxx2u4MIRI0ZEvatQhB9UcBVBA+LqFVuYK1cu+fvvv6NKKBThBRVcRVBArvbhhx+OIbjkczds2BBVSqEIL6jgKoKCnTt3yrXXXhtDcGHp0qWjSikU4QUVXEWSg+iWwTKiWTtDAdq/mSL2ww8/RJVWKMIHKriKJMdPP/0kt99+u9SsWVOqVKniCm7u3Lll1qxZkjlzZmnfvn1UaYUifKCCq0hyREREyMGDB02kO2DAAFdw8+bNa15jqe/gwYPlP//5T9QnFIrwgAquIqjwE1yFIlyhgqsIKlRwFYrLUMFVBBUquArFZajgKoIKFVyF4jJUcBVBhQquQnEZKriKoEIFV6G4DBVcRVChgqtQXIYKriKoUMFVKC5DBVcRVKjgKhSXoYKrCCpUcBWKy1DBVQQVKrgKxWWo4CqCChVcheIyVHDDAP/4xz9kwoQJ0rhxY7NtYnKSE3ut4N5yyy1SuXJl33LBZN26dWXIkCFy8eLFKIsoFCkDFdw0jH//+9/SoUOHWDcCD0eWL19efv311ygLKRTJCxXcNIq//vpLihYt6is64c57773XHN+uUCQ3VHDTINhn9tVXX40mMjfddJMUcQS45le1pXadOmHDWg7Llisnd999TzR7ZMyYUf74448oiykUyQMV3DSIyZMnRzva5rkiRWTp6pVy5vsLcuGnS2HHcz9clB17d8sHH30czS7kk3UQT5GcUMFNYyC65ShyKyo5nf8fOHbYV4jCjacunJPX33zTtQ2DeJrPVSQnVHDTGDhP7IYbbjCCQjQ3atwYX/EJV67bvFHuuOMOV3TnzZsXZTmFIvhQwU1j2LBhgysm9957n+zct8dXeMKVpy+ek8cez+faaNCgQVGWUyiCDxXcNIYVK1a4YpIpU2bZf+SQr/CEM58qWMC1EQszFIrkggpuGoMK7tWpgqtIKajgpjGo4F6dKriKlIIKbhpDQgT37KWLsnjFUtm6a4fv+14ePXlcFixdbHKhfu+nBqrgKlIKKrhpDAkR3ONnT0vu3LmlQePGvu97uWDJYsmUOYvsO3zQ9/3UQBVcRUpBBTeNIdiCu2z1Kin1woty4GjqndurgqtIKajgpjEEW3BZtXXqwlk5/+P3vu+nBqrgKlIKKrhpDMEW3KOnTsiGbVvcHC7Ciwjz73enT8qocWOlR+9eMnv+PKfM+Rift5/ZsGWz9Onfz3DLzh2+As5ruw/ukwFDBplrTpkxXb47czJa2ZPnz8jAoYPl2OkTkdfdutmUP3LyeLRreamCq0gpqOCmMSR3Drd7r55S8OlCZkXbIzlzyRNPPSVPFypkFl3kzpNH1m7aEO3zuw/sk1dfe03S3X2387mC8lSBAnK38//3PvzQCLYth4DWqFVL7rzrLlPmmWefkezZH5L06dPLrPlz3XIHjx2RjBkzyYo1q+T9Dz8w31u8RAnZuX+vWyaQKriKlIIKbhpDSgjuwzkekZKlSsnCpUvkzPfnTcTLjIe8jz4qL79Sxv0s77340stSuEgREyVT7uylC7Ji7RpHpJ+Rjyt8ImejNthp0bqVZH/oIVmzYb0pw2sHvzsqX1SvZoT8yMnvIl+LEtwPP/5EKlSqJDv27TbXtd/pRxVcRUpBBTeNISUEl++aMXd2jLKDhg01G8R8d+aU+XvC1Mly3333yaYdW2OU3egI8F3p0smy1SuNYOZ97DHp1rNHjHIbtm6RW2+9VdZtjoycreC++NJLzu+I/J6rUQVXkVJQwU1jSAnBzfFITjOQFrPsIrn++utlf9SMhqpffulEoh/Hmq8tXLSodOnezQju4hXLnM/FvPf5ixfJ//3f/8nyNSvN31ZwydsGlo2NKriKlIIKbhpDSuVwbbffy6WrVriCy/uFixaRDA88IAWeLuhLItyKn31qPosAE7HOmjdXOnXtYjYSL1e+vDzz7HNmF7RAwV26ckW0774SVXAVKQUV3DSGUBVcZjUUevYZeaVsGen9bd9YOTtinhHbXv36StZs2eSNt96Sdp06yPgpk0xeeNvuXeaMtkDBXb5mdYzvj40quIqUggpuGkOoCi4iWv6N1+XTylVilIO8f+i7o2amAp8j1ztp2lTzurfc1l07VXAVqRYquGkMoSq4/N26XTvJlSu3HD4ROcPAy5Pnzki2bA9KP0cAe/bpIw9mf9B3tsGYiRN8UwoquIrUABXcNIZQFtxd+/fK3ffcI1WrV4+2+Q3Txb5p2VIeejiH7HPud8SY0XLXXXc5IroqWoTLaQ0lS5c2gsugGq+p4CpSE1Rw0xgSI7gPZMzoO5hl+XWDBokSXDh89Ci57bbb5JUyZaRzt67SuXtXc85YunR3y+Tp00wZFj0wh5cot3nLFtKtVw+pXqOGmZc71olws2TNKsWfL2Gur4KrSE1QwU1jSIjgEmGOHDvadxDLS+baIrRDRgyXE+dOm88yH3bcpAm+3X8Or+w74Fuz/Nb7OnNpa9etK0WKFpFnnn1W6tT7WtZv2RStzAFHSNu0by/FiheXZws/JzVq1zKLIHhv5bo10rNvb9m8Y6u59pARw4zwej9/JargKlIKKrhpDAkR3HCjCq4ipaCCm8aggnt1quAqUgoquGkMKrhXpwquIqWggpvGoIJ7dargKlIKKrhpDCq4V6cKriKloIKbxrBp0yYzTxUxueuudLJ5xzZf0QlXnjh7WnLlyeMK7vDhw6Msp1AEHyq4aQy//fab2RLRCkrbjh19hSdcOSdivtxw443GNjRMGzdujLKcQhF8qOCmMfzvf/+TYsWKuYLLngQr166JsSdBOJI5xI/ly+fahtMj/vnPf0ZZTqEIPlRw0yBIK7BnrBWWLFmymD0K6E4jvOHGMxfPy9SZM+Tx/PldmxDd9u7dO8piCkXyQAU3DYIot1mzZm4u15Kc7lMFCkrBQoXCh08XkoyZMkWzAyxZsqT8+9//jrKYQpE8UMFNo/j777+lRYsWZivDQLEJZ9IIPffcc/Lnn39GWUqhSD6o4KZhEOmuWrVKcubMGSPaDUfef//9Mn36dPnPf/4TZSGFInmhghsG+O9//ysnT56UpUuXSteuXZOVXbp0kTx58siNN94ojRo18i0TbEZERMiRI0dM1K9QpCRUcBVBBWLPoB2DeDoFSxHuUMFVBBV79uxxu/Rvv/22SXMoFOEKFVxF0IC4fvDBB67gXnfddXLx4sWodxWK8IMKriJo+OWXX+TWW291BRe2bds26l2FIvyggqsIGrp37x5NbGHGjBnlr7/+iiqhUIQXVHAVQQGDZZl8FhzA5cuXR5VSKMILKriKoGDNmjXRlhd7+cQTT+jgmSIsoYKrSHIgpqWjjjO/4YYbXKHlBF/I6rezZ89GlVYowgcquIokBzMR7rzzThk4cKBZXmwFN2/evLJt2zYpWrSoNG7cWKNcRdhBBVeR5GC3MmYoIKicqOAVXF5jae3ixYtNnlehCCeo4CqCCj/BVSjCFSq4iqBCBVehuAwVXEVQoYKrUFyGCq4iqFDBVSguQwVXEVSo4CoUl6GCqwgqVHAVistQwVUEFSq4CsVlqOAqggoVXIXiMlRwFUGFCq5CcRkquIqgQgVXobgMFVxFUKGCq1BchgquIqhQwVUoLkMFVxFUqOAqFJehgqsIKlRwFYrLUMFVBBUquArFZajgKoIKFVyF4jJUcNMA/v77b/n999/l559/Djk2atTIFdwHH3xQLl265FsuJfnrr7/Kn3/+qY2BIuhQwU2lQBwQr/r16xshu+mmm8wZYlbclHHnddddZ44EeuGFF2T+/PnmRAqFIhhQwU2FQGw5L+zGG2/0FRBlwkmj9fLLL5vGTKFIaqjgpjIgth06dIhxBDlCcccdd8hdd92ljCe9JwtbZs+eXUVXkeRQwU1l4NRbjhm3wkCUW63q27J4QR85uG+SHDk4VRlPbt04XAYPbCa5cj4UTXTLlCmjeV1FkkIFNxWB3GLOnDldQbj77jtl+ZL+8t9/rVQmAX++tEDeefulaKK7a9euKOsrFImHCm4qwpEjR9xUAv8OHtRM/vPXCl/xUCaMF87MkewPZnYFt1atWhrlKpIMKripCBMnTnSFIMP96eX3n5f4ioYycWzVoqpr52zZsplpdwpFUkAFNxWBaMsKwQsvFPUVC2XiOXVyO9fOTBf717/+FfUEFIrEQQU3FaFmzZquELzySglfsVAmnrNndnTtzMwPFVxFUkEFNxVBBTd5qIKrCBZUcFMRklpw//WP5fLj9/Pl7MkZcu70TPnzt6W+5cKNKriKYEEFNxUhqQSXmQ2zpneVF198Vh544H5zPZa3FijwqLT8pqp8f26e7+fChSq4imBBBTcVISkE99cfF0r1au9Khgz3SuNGlWTPzvHy48V5cubkTJkwroM880x+yZ49s2zfPNr386mFNWu8L/XqVvB972pUwVUECyq4qQiJFVwi28aNPjNR7ZaNI33n8F66MF9Kl3pWnnwir/z0/YIY76cWVv7sTfmy+vu+712NKriKYEEFNxUhsYK7ecMIueWWm2X6lC6+71vu3TVBbrvtVhk5vKXv+6mBKriKUIQKbipCYgSXaLZG9ffk2Wfyyx+/XHnBBGX792soc2d1ixYF/3hxvrRvW10KP5dfHnooo5Qq9YwM7N/ELIn1fn7EsOayaf0wObR/ktSt87EpmzNnVvm8yluyZ9e4GJH1v/6xTObM7CpvvVnalM2fP5fU/7qCHDkwOVpZynFPb735gikHP/n4VVm5rL9bbt3qIdK+zedS4Km8UqhQPvP/MSObu9eIC1VwFcGCCm4qQmIE97efFstjj+WURg0q+r5/NR4/Ms0RsMclb96HZcigZo7wdZa+vRs4QppdihYtID9cjHDLPvvsk1K/XhV5PF9uad70c1N27KhWUrTIk5IlywNyYO9Et+y//7HcEdeKkj79PdKkUSWZOb2jTBzfRt54o5Tcmz6d7No+1i3bqcNX8kCG+6Rzx1qOQHeSqZPayeeV35R06dLJkoX9TJkZ0xzhfqO4ZMvmCHL2zOb/3zSL329WwVUECyq4qQiJEdyLZ+cYUZs5vbvv+1fiX38skzffeEFKFH9afrgwP1rUefLYDMnnCHm1qu/I3/9cbl5DcO+7/15Zs3JwQIQc4USlWaXlN1+4r40b0865r3SyfOmAaGX/+GWxvF6+pJQtW0z+ciLb40dnmIG++XN7BUS9y+WjD8vIhx+UdV+DmlJQhCJUcFMREiO4J49NNZ9bvnSw7/tXIjld9oxds3KQ7/uzZ/aQe++9R44dnmr+RnDff+9l+fefkQLsJeL41hulzf+Z91u0SAGpXfODaCJqudoR7LfeKmMG8kgVvPXmS45oxxzIa92yuhR4Kne011RwFaEIFdxUhMQI7rnTs4x4zJ/b2/f9K7Ff73ryaN6c8vvPi33fZxOdO+64TaZFDcYhuD27149RDtap/Y68Ub6U+f+5UzPl5ptvljWrhsYodzX+fGmhnDo+S5Yu6i3PFHpcnnjikWjvq+AqQhEquKkIiRHcX35YKDlzPiRtW1fzfT+QC+Z1kxHDvjGRZ+OGlaR4sadMasGvLMyXL68MH9ba/B/B7du7UYwy0Cu4u7aPM7/l6MEpMcoFkvvYuW2MGYQrVqyAPPVkbvng/VelZo135eOPXlPBVaQKqOCmIiRGcP/+5wr58INX5KWXipi8p18ZL8uWKSHvvvOiEbrWLavI0wXzxbr0l2tny5ZZxoxuZ/6Oq+AyC4Hfsmv7+BjlArl00beSMeP90q5NdXNKw7886Yr2bWuq4CpSBVRwUxESI7hwwbzepuu/cvlA3/ctD+6d5JS7XSaMa2/+XhjRV+688w459d2MGGXhgT2T5cYbb5C1qyLzw3EVXFa9PfzwgzJ08DcxysF9uyc7Qp7JzJB4841SUsuJZv1yvU0bV1HBVaQKqOCmIiRWcEkJvF6+tDz1VF65cHaur3j949cl8vZbL8qTT+Y1aQheY/5ttqyZpGWLajE+Q7TMUuECTz0qv/20yLwWV8ElMmbA7Ikn8siP31+eVgb5njatqkvRIk+ZKW0liheU+l9/FOP7+R158jzsK7hVv3g32mtxpQquIlhQwU1FSKzgwvOnZ5ulu3ny5JCJ49rKDxcihe6fvy+TDeuGSblXn5dMmTLI1k2jon1u8oQOku6uO6Vj+5runNvzZ+ZKk8aVjSgtWtDXLRtXwYXnTs2WPLkfllfLFnci2vFmZsOvPy6S/v0ayT33pDNROSLLHN2MGTPIssX9jciT3ti4briUKVNc3n3nZXnwwQfk4L7J7nXr16tkhHj+3G6ybfMw9/W4UAVXESyo4KYiJIXgQiLXNq2qSZYsGcz5XQ9lz+hEsBlMjpT5tkwDC4wkiUanTOokDz2UOWpRQUbJmpVVYbll3pye0cqXdcRz2OAW0T5vySKETyu+Fu21g3snStkyxeSBB+5z7ucBc33ubezotuZ7KXPRiWTLv1ZS0qe/Wx7M9oDz/ZnMIOAAR5iPHZ4mjz6aQ/I/fjnKPbB3grxQurBkuP9uefP1Yu7rcaEKriJYUMFNRUgqwbWkq7510wizEmze7M5O9DvXt5yXpA3WrR5kPrNl4wiTgvArF18i2Pv2TDDXXb60b4zlwpDod39UmWVL+kabk8vnAxuJhFIFVxEsqOCmIiS14Cr9qYKrCBZUcFMRVHCThyq4imBBBTcVQQU3eaiCqwgWVHBTEVRwk4cquIpgQQU3FaF27dquEJQsWdhXLJSJ55RJbV0733nnnSq4iiSDCm4qwsKFC10hYI7qpag5tMqkIzMdGjao5Nr54Ycflv/85z9RT0ChSBxUcFMRjhw5Itdcc40RAv7t2rmOO09VmTQ8cWyGmQ9sBffLL7+U//3vf1FPQKFIHFRwUxH++9//yvPPP++Kwa233iITx3eI02Y0yquTXctYSmztCw8ePBhlfYUi8VDBTWXYt2+fXH/99a4g3HjjjVL+tedl0oROsmTRAGUCGDG/rzRvVkWyZMno2pUeRPny5TW6VSQpVHBTIbp16ybXXnutKw7KpGfBggXlzz//jLK4QpE0UMFNhSDqWrZsmdxzzz2+YqFMOGnIPvvsM/nnP/8ZZW2FIumggpuK8euvv0qfPn0kV65cJs1w3XXXKRNI5tt++umnsnPnTk0jKIIGFdw0AuaK0gUORZ4/f14mT57s+14g//jjD1m6dKn84x//8H0/kIcOHTINj9978aGKrCI5oIKrCDpIfxQuXDhOokbDwQKPf//731GvxA6uhzj//vvvUa8oFKENFVxFUIEoFipUyByzfurUqahXY8eqVavkk08+kT179kS9EjuIgqdMmSKbNm2KekWhCG2o4CqCijNnzriLNerWrXvFKJd5xs2bNzeC27Zt26tGxNu2bZNJkybJ1KlTdTWYIlVABVcRVLRo0cKdAXDLLbdccV+CkydPSsWKFY3gVqpUSc6ePRv1Tkz8/fffMm3aNCO48Pjx41HvKBShCxVcRdDAYFT69OldwYWkAGJDhw4djNhajhgxIuqdmECcrdjCRYsWxSlHrFCkJFRwFUEDIugVW5gvXz7f7j/5WBvdWjIf9q+//ooqcRkI64IFC6IJLrMgfvrpp6gSCkVoQgVXERQgiohroOCysMBvfwJ2QvOKraXfgBjTwBBYr+BCBtwUilCGCq4iKKDLH9vy4zfeeCOqVCSIeBlQ8xPcRo0amcE0L1avXh1DbCGDZ34RsUIRKlDBVSQ5iG7r1atnxNXOULD/h0wRY4GDxdGjR2MIbYUKFQxJM5w7dy6qZORgGcJKhOsX5bKFpUIRqlDBVSQ5fvvtN7ntttukZMmS8uabb7qCmz17dmnfvr15b9CgQaYs4sxgWbVq1WTChAmu4JK/HTZsmHzxxRfSq1cvUxYgqAju5s2bZcaMGa7QknqIiIiQ2bNnx4iIFYpQgQquIsmxZMkSswIM4RswYIAruHnz5jUCe+HCBWnSpIl5n1ViEydOdJfyWsGtXLmy+Zv3x48f7y6/3bp1qynL/2fNmuUK7s8//2yux1Jf/q9QhCJUcBVJDm+E6Se4gH8hZe1rgYJr87HecrYs/wYKroX3+xWKUIIKriKoiE1w/RCb4PrhSoKrUIQqVHAVQQVLdL2Ce6WVZqwW8wqud7AsEMxs8AqurjRTpAakGcG13U26k1RGZWjwm2++iSa4RLF+5eCBAwfk448/NmTQDBH1KwcRbgbNGGiDzO31K6dM+wxMN4UyUr3gYmSMznQhKiHdUHbrp2IrU55NmzZ1BTdPnjzyyy+/+JaDu3fvlg8//NCQvRQOHz7sWw4ymMYy4TFjxhiyu5hfOWXaJnWdOk/dRwPQglAW3lQruDaaZd9UjM68TqYjUaHJ57HM88cff1SmMBs0aOAKbu7cuc1m5H7l4JYtW+S9994zJK2AiPqVg5cuXZJx48bJ8OHDDZm94FdOmXZJHaeuU+ep+2gAWoAmhOrAaaoUXBvV0rJhZIxOBWS6ERWaXabYFhCePn1amYJkBZkV3Jw5c8qxY8d8y0FWkL399tuGRLnMtfUrB1nJhtAyKAfXrFnjW06ZNmnrN3WdOk/d/+GHH4z4oglEvKEY7aY6wfWKLd1KWjoMv3//fnMeFdyxY4ds375dGQJk4YIV3Icfflg2btzoWw4yCFa2bFlDlv+yQY1fOcheuKNGjZKhQ4caslGOXzll2ia9IBrxEydOGCFGeNEEr+iGElKd4NJVwJB0IYhy2LCEwRNWHylDj++8844ruFmyZDGLHPzKwb59+0rx4sUNS5UqZVaj+ZVTKr2k/q9YsUL27dtnNIGol2iXgAytCKX0QqoSXKJbEuO0XhiXiMjvAShDhyq4yuTizJkzTS6f2S2kGcjxMrCGZoRKaiFVCS4tFakEpgBNnz7d1+jK0KIKrjI5SbRLuonz8y5evGh6wkS5KrgJAPkYugq0ZNbAHLOyZvV6OXH8nJw/+7NcOPuLMoTYvWtfV3CffvoZOXv6R99ycN+e76R+/UaGjRs3l0MHTvqWUyoh9f34sbOyetVaowNWE+j5sqcGqQUG1Jm5ECpphVQjuDadwMi1NSzctXO/fH/hd7l08Q9lCLJXz8tLe5955jm5cO5X33Lw0IFT0qhRU8PmzVvKsSNnfcsplV5S/7dt3eVqggnComatEKCRVgiVGQupRnBpoUiCz5s3zzXsmjXrHWP/5hgdwVWGInv17B8guL/4loNEtDEF17+sMq3TX1xjIzqwYsUqVxvmzJljZi4wXZQxn1DJ44a04GIghBYymZkpH6wuYuNp/j144JhcPP+rMoTZo3s/V3ALFXpWzp35ybccPLDvuDRs2MSwadMWcvjQad9yyrRNxPMy4y7Chw585wouUS4b23///fcquFcDAksXAJFlkIwuAclvNp9mdRFk8OXY0dNy+tQlZQizS+deruA+/XQhOfHdBd9ycNeOQ1K/XkPDxo2ayb49R33LKdM2z5z6Qc6e+VHOnf3J9IgiRfjqonv65EVXcCF5XCu4aIkKbgAwCC2RXarrXUHG4gYmOg8ZMsSQVUZ7dh+SQwdPKEOYrVt1dAX3qacKyv59x3zLwfXrtslXtesaIrpbNu32LadMuzx88KQcOXRKjh05I8ePnZOTJy7KmdM/mAGy768ivCq48YBNG7CbP/Pn2JqPHAwbmLCKjI1Nli1bJj169DDs3bu3U0G3ytYte5QhzMaNmruCmz//E7Jpw07fcnDxopVSrdqXhrVq1pZlS9f6llOmYW7dK9sd7txxwAmoDsvB/cflqCO+CO85J+q9UrSrghtHYAgMwqAYBmLi8q5du2TlypVmkIxzqph3yxlXbIZSv359c5rr9GlzZO6cRcoQZtWqX7qCmzt3Hpk1M8K3HBw7ZpJUqfKFYbWq1WXihGm+5ZRpl/PnLZWlS9bImtWbTI+HXs6uHQfl0IETTsR73kwrvCy6KrgJAmkEjELqgLQBE+Br1Khhtuiz+6NCDiQsVqyYYYkSJZyuZx1p1LCJMoRZvPjzruDed999Ur9eA99ysEGDxvJ13QaG9b5uIA2dv/3KKdMuGzNDpVlL6datl0yZMktWLF8n69ZudaLefXJg/3dy4rvzZuDVzE4KEF0V3DiAwTEGxcjVMrJYpUoVef/9931Zvnx5KVy4sGHRokWlZo1a7iCLMjRZrFgJV3DvvfdeqVu3nm85pTIG6zeSHj36yIKIZbJ2zRbZvm2fiXRPnbgo58/9HCm6Krhxh00lsKUaU73Yks9PaC1VcFMfVXCViaIjum3bdpSFC5abFMPunQfNgBqphUjBvRzlquBeBQyUMSOBjadJH3jFtVXLdjJ96kJZunCTLFu8RZYt2iwR89bKxHHzXC6J2CzLF+1QhjBrVKvnCm7evI/JYn1myitwwdx1MmLYJGna5JtootunV39ZuWK9bNm8Ww4eOO5Eud/LRXcRjQpunEA6gVkJLVu2dIX2o48+kkkT58iB3Rfk4N6Ll7nnguzeflrWrtzjcsfm07J76zllCLNhvVau4D7xRAHZvumkbzml0st1q/ZL+/bdXNFtUL+xzJwRIRvWbzfzs8nlXmCqmCePq4J7FTBYhlEYELOC26/vEEdszxuB9ZLXdm07JWtW7Ha5Y9Mp2bX1rDKE2aBey8uCm7+AbNt4wrecMu1zt0t/kQ3kquW7zUCaFd1v+w0yA2i7dx2S746duzx4poIbO/jRdiUZ6QSmfdlzrCpUqCDrV++RfbvOxuTOs7Jjy3FZtWyXy60bjjsR0yllCLP+1y1cwc2f/ynZvP4733LKtEsCI3qjO7aclp0Od209YxgX8e3XZ6gruK1btzODZ7vI4x49q4J7JXiX6pJGYKkuMxMGDx4sb731luGXX9ZyKuQh2b7ZqZQB3Lb5mGxce0AWL9jsct2qA7JxzWFlCLNO7cau4D7++JOydsV+33LKNMy1h2XT2iOyed1R2eIESfRydmw+JTu3Ir5XjnqnTIxwBbdZsxaycsUGMy+XgTMVXB94V5CxVJdNgVmmy+IGNhLv0qWLvPrqq4aff15Nli/ZKiuX7YjJpTtkycLNMnPaMpcL52+SxRFblCHMal9cPkQyb958smDuRt9yyrTLJQu2OtwmyxftlNXL9ppAaZMjvtsc8Y1MC8Ye7c6YtuSy4Db9xszLVcGNBTZtgNCyGTDLdFlBxp627Fe5dOlSady4sZQsWdLwgw8+limTFsr0KYt9OWn8fBk2eIrL8aPnyYSxEcoQ5icffe4Kbq6ceWTsqLm+5ZRpkxPHLpBJ4xbKlAlOHZ68TOZMXy0L526S5Yt3GeHdvP7YFUVXBTeOILJlQQMbAH/33XfmJF2W6nJaw4QJE8yJq2xCU7lyZXn66acNy5YpJ9/2HSkDvh0Tg/2/HS19e42QLp2+ddmr+3Dp03OEMoT5evn3XMF96KFHpEe3Yb7llGmUvUZK396jZeC3E2TooMkyavhMI8Kzp68y0e+aFfuuKLoquHEAYkuuFrFlT8olS5ZInTp1pGDBgpI5c2a5//77zTJPJsLfcccdctNNNxnedtttkjVLNsma1Z9ZsmSVTBkzu8ycKatzPWUo88477nIF9/rrb9BnFobMljW7FCzwjHxaqYb06DpEBvYb7wjvLJk6caksnLfJEd39smWDE5Rtjpx1pIIbT/DjWD2G2Hbq1EnSp08v11xzjVvxlEpl+BENyJAho1T/4muntzpKRgydLtMmLZUlTqRLeoHBNGYxqODGA/woUgkcU8yuXjfccIOv8ZVKZXgSTfj4o8+lX6/RMtqJdGdPXy0rluyKTC04Ua43raCCexWwmOHXX3+VoUOHyrXXXusamf8/+UQhqfZ5PalXp5VSqQwHftVKPq9cR/Lkfjya6N54441Su0ZjGdh/gkwav0gWzd8sG1Ydku0bT0blclVw4wTOgGeQLFeuXK5xb775FmlUr72sWHRQ1i0/rlQqw4zLIvZJw6/bOkJ7k6sL2bPnkD49hsuYEXNk3qx1JpfLVDEV3DiCH8Q0sBEjRrhGJW9DK7d22Xe+D0KpVIYPq1b5Opo21PmqmYwYMl1mTVslq5buMQsjIvO4kWkFFdwrgB9E/rZixYquURmlXLHwgK/xlUpleHHB7O2SMWNmVx/Kv/auDBs0VWZOXSErl+6WLeu/SzLBLV68uLRv396IbpoUXKaDsaKsdOnSrkFfeuE1X8MrlcrwIz3dUs+/4urDU08WcgR3isyYkvSC+9BDD5nvYO9szkVMk4JL+M6qMWvQV8u87Wt4pVIZnnz7zY9dfciX76mgCy7Mnj272UogpaGCq1Qqk5XJJbjegXtYpEgRo1EpCRVcpVKZrEwuwYVPPPGE+12QxVgpCRXcK5B80+ypG6R9m2/l3bc+NWzasJOMHDpPVi856vuZpCTfP3H0Mlk0d5fv+4nh4nl7ZOyIRbJm6ZV/x7QJa2T00IgYnDphtSxfsN/3M8lBbDN1/Crfe4PYbXkKDdbOmbZJpoxbpTNzYmFyCS6zFDZu3CjXXXed+32jR4+OUquUgQpuLFyz9Ji0adFb7r33fsn32JNS/tUP5I3yH0vh554384pLPV/WjLj6fTapSIXNkSOndG4/0Pf9xLB75xFy553pZMn83b7vW5Yo/pJcc83/mX0QvLzrrnSS/cFHpFKFGjJn+qZEi0vvbmNl2MCZvu/5kYbimUJF5f/+L+a9wVtvvU1y5XxUWn/TK9mFr+InNaTQ00Wu2pgllkP7z5A+Pcb5vhfKTE7BZYYC+7XY72vTpk2UWqUMVHBjYc+uI82D6tpxiBFf73ujh82TbFkfkmefKeZEecGLokJFcF/0mWkyZ9pG6dCmvxGWdOnuluGDZscoEx++/GJ5qfxpbd/3/GgF9/XyH/i+HzFrm3xWsZaZaM99+pUJFpNLcD91Grsyr7zp+14oMzkFd+HChaZRtt8XERERpVYpAxXcWFi6VFl55eU3fN+DQwfOMF2VPj3G+L6fFAxlwbVcGrFPypV9R7JkyS5zp2/2LRMXJrXgQhpK3n/s0SdlxcLkW+WogntlJpfg7t27V1555RWzwILvYnuBCxcuRKlVykAFNxbmzv2Y1KnV3Pc9SAV+6aXXpGmjzjHeWzJ/j/TsMkratugn40YulNWxVDzywKOGzTfl2rX8VubP3Brt/SsJLumMbp2GS/tW/WXK+BWxdpt5fd6MzdKx7SDp2mGoifx4PakEFy6et1vuuSe9Y69vYry3NGKv9O053vzG4YNny6rFh2OUgcEQXEgP5b777ndsG/m7+zn3QnTO/40NOw6LZneeXZ/uY839jhwy13lGR9z3Arl22TGZPG6ZKfttrwnmt/J6Uggu3ztq6Dxz7b49xpv7CiyjgntlwW3Xrl20/Vyef/75FJ+Lq4IbC597trgULVI61sExhIxK4U03ICb167aWuxwhezBbDsnxUG7JlCmrPJo3v4x2hNX72VHD5pkNPbJkeVAedspRHgH84L3PZOWiQ265QMFdufiQfFqxpsktk0N9OHsuSZ/+PkcUy8WIMBfO2Snvv1NJ7r77Hnkoe07J8XBu8310tbt0GJJkggvLl3tPChR4zv0bsWnZvIfcc/e9ki3bw8YWmTNnc35PbunRdaRbruaXjU1OnIpx3XXXm/+XLFHWfT82xlVwe3Qd4djqPldUn3ziaaehGiq1vmwi99//gLHLyCFzzPWaNuok6dLd4zyLqPt1nl3OnHmdBiNmnnTq+JUmpcQ1eH4PP5TL7A3QpmUfqfBxdVdwYfYHc0i/Xv651tIlyznCWdP9m2c+wmmYyD+zlSHX5vMPZMgk9eq0Nv7YrnUfYyfshd34f97c+aNdN5SZHIKL2N56663u99x8882yfPnyKKVKOajgxsJ2rfrK9ddf70QQbzkOMUuWLdgva5yIxq8spKLUqtHEifTudQRykLucmYr+yktvOBUnpyycu9O8RkSYLdtDUuGj6rLIeY3PItYD+002Fb51i17uNb2Cy/dX/6K+ZMqYRb7tPcER38NOhT5mItxiRUvL0wWLyKolkREkn339tfeNwBIpEWXbss8WKi4vOQKdlIKLuN5+2x2mEeK7WzTrbgbWmjfpamxHGRqAzz+rI3fccacM/naqeY0R/eED5zjiVdwR7ffN/yePXRHt2n6Mi+ByHzRgOR/J694DgvvuOxWkoNM4YBfsTrnGDTuYXDSDbMsXRpZdMHuHE61+6fyOu40P2OvyOx579AkpWriUzJi01nye6zDo90iOPFKk8PPRBPeBBzLFmnoqVuRF+eTDqu7fE8csMT700Qefu4OR+FLbln3lNse+NBYLZm03diKVwyAu/x83YlG064Yygy24AwcONIcc2O8gpfDVV18ZfUppqODGQipKlw6DnMqax0QRt912uxP1lpCa1RvLgL5TnCg0ek5w4pilRsA6th0Q7XWIqFLpWjTtbv7u3mmYI7jZfbuJr5V71xHKSBGhsnkFd9qE1UasEGbvZ2DErK1OZPaQc8+Dzd/DBs00ZUcOnRuj7NL5e80eF0kpuETMN95woyyat9M0Mvfdm0Ea1W8Xoxx2feuNj43gefOqSZ1SWDxvl9kekOjP2h0iuFmdRsg7w2TWlA0mJUIjYV+zpKHChxE2ehe89vVXrSRr1uyy2Md2iPgtzncmRHD5rmJOr6rk86/4pl4+fL+K04t41u11aUohpuBydFeePHnc68MXX3zRHIigS3tTAZnLOWb4AmlYr728WLqc0z3NIDfddLMRYsTVOn/Deu2c6Ca3b0WBzGyYNnGV+f/MyetMt5HK6C3D3y+UflWKF33Z/B0ouG1a9pY8ufPF+Jzle+98Ku+/+6n53BdV6jqiVthEnIHleL9G9UZBE1xE/+6705tI3q/s5HHLhU2oyW/b1xIquAhqhvszxeD99z1guuS1azRznxFEcIkevdfCrqRlYts+dPTw+Wa2A2kE/uZ7P61YK0Y5SC+E3kZCBHfmlHXmPvwaVDjXiXiHDpzuXDOyp6WCG11wTx6/IMWKFTMRrb1+jhw55NixY2l385q0JriBJCob6ES4L7/4ukk5tInq/r/84hsmdRBY/kqcN3OLGcgiN8fG7M8UKmZEIjbBffftSqZ7W6hgMV9mzpRNnsxfyIjsS46Affh+5Wjf5yWNRVIKbvvW/YworVh0wBGQavJ0QUfsY2kYaJTuvz+Dya/a1/wEF7sE/kabT7WCS6+jZ5fRMTio71TfHgSC26pFz2ivvfNWRZMGwN7e1y0ZDEMI+/eZYP7mGXXy5NUD+cF7lRMkuAwu0oAsnBO3+d0quJcF9/sLv8u3/Ya614WcmcjJ4GiSCm4Ik9zduJGLfaNDS0Tj1bJvy4MP5jDphdIly5qBI7+ygWSmAAJDlEzl/Lp2Kxk2cIYZ9Hrz9Y9iFVzey5Ejj9Sp2VLq1vJnu1bfRolRCanwcbVo3+tl147DklRwP/7wC3n00ciBm/ffrex0wUu6kVggub+HHsohXTsNcV/zE9x+vSbE+H0TRi8171nBvdqgWSAR3Lat+kR77Y3yH5pufGyCSy8na9YHHUGMFM2bb75VunUaFqOc5ScfRR80i01w+b6ihV9wBZe537c41162IHK2w9WogntZcOfOXmp6nva6nCjBqeBpej/ctCK4rZv3MgMXdOH83rds2bynKYeAfvTBF06UVDLWSst0pP69J5n333z9Q6dsKSeS2RGjHPnN2AT3i8pfm9wn05G8n7FctfiIaQj4HINF5INju59vmnZLMsFloI4j0D/5KFLgv6rZXPLmeTzW9AqpBlIK/ftMdF9L6hxubPQT3KpV6svjjz/lXNPfrnNnbDa9meGDIlfC5c2TT5o36RKjnGX5196PIbi9u4+OUY4GvcBTz7mCO2rIPLn99jtk+qTVMcpCBhibNuzspkhUcCMFd+umvWYmir0mYy4VKlQwu4Op4KYCjh2xwLSQ5CX93ocIGQNoTPtiT4Fe3UY5AnaXb2WhYj315DNSv24rEy0x7ahFk5gDNAgUghqb4PbtOVZuueVWM6/W+zlIxS71fBn56P3Pzee+adJNMmbM4ivqCMsLpcomieByrbq1W8gdd9wlE0YtMa8xBY5FId6pcF6yN0Vkg3b5d6Sk4A4ZMN3c76Rxy6K9btmiWTe5774MpufD38z+YMqgX8NnZqBkfSia4BIdkycOLDvfaaiZ3mcFl9TFQ9kfMQ2WX0OJyCP2diaKCu5PcvjAKcmd+1H3evCFF16QKVOmpP0TH9KK4FJJyA0++ODDMm3i6hjOz8AIk+KpLJ9Vihw8YcXVE/mfdsSpnJkFYMtSKTu07S/3OxWWayGquXM9Kh+8+1m0HCei3KRRR7nPuWbRIi+a7wwU3CXz9phpR4gT32c/C+mOMt+WxoK/mbqU8YHMUqlCzWipEQSyY5sBkiVLNiN6CRVcctn8HvZSoBEgYrZ2Yh7x88VfdkSnqCtSlpPGLjPzcSt+Uj2aXcu+8pZTET+54tQ7L5NScPktzEIoWqRUjI2Cxo9aZObAflG5rnu/Q/pPN41rp/aDnNcu3y/PtoIT5TMD5bLgHjO9GVIW3udAlFr183rmmVnBhfXqtjZ+xUCt/T7+ZbEGc5jrfdXSfb3Kp1+ZXhXfYz+fGphUgnvsyFkpX/4t91oMlrE72JgxY8z0sKQQ3HXr1knt2rWj/ko8VHBjITMJOGX4nrvTS7lX35PGDTqaVT/NGnWR115911S4kiVejlZBJ4xZYkSazW4a1+8grZv3NgMy6cz8zssDNcxNveGGG036oPU3vc0OZMyAKOyI/NdOhWI6V726bUzF8gouZLUWA2cMsDVr1NX5fB+zECKd89pXNZu65SB5RubCvvzS69KyWU9zP+++XdFE5e1a9zVCEhfBZfFC4OBVrlyPmQEebNSjy0hXBCxnTVkvefM+bhYWNPi6rbFdjWqNzXdyTTsv1pLfTQ6uwFOF5bMKX0V7z49JKbiQ+bTMMmHObsN67c39Vq/a0IgfDY53ZzRE9MuqjUz3nxkPbb7pK80bd5XSJcvIE48/7fyWb1zBpTyNIbYqW+Ytadm0p1O+j4mSS5cqI598/EU0wWWmBCmn9OnvNc+1TYu+ZhpaFqeRolfCYYy2bKd2A0xP7MknnpHXy33ovh7qTArBPXLolNSsUdeIrL1Wzpy5ZNiwYe7ih6QQ3Llz55oVakkFFdwrkIUFPboMlw+dbvrjjxWQHA/nMavDGIwi/+idbgQRHSJLKiqVgPKI8+Bvp0cTJCpi987DjMhSBvFkhdqyBftMxWa5cIsmPc1nWjXvZRYreL9nxqQ1UuWzOvLYo0+ZzxMd9u0xzgiBtxyf57MMaOXJ9bjkz1fQubcGJjcdMWu7EWw7tzQ2dus4PMbAFezgRMnTnfvwRm2BXOJE+nVrt3TEp5i5z9KlXpX2rb/1nX6FLUmZcO0u7YfGeD+QRJad2g0yv9vv/djYoXV/mTTGP3VAOoBpZAULFDH3i9CyiMWu/PMSWw/oO0necASfskTITRp2NII4cfRSc282+uU5DOgzyTR8lMUe9Z0GlY2PunUeKl06Rs6dtqTn07n9YPP9lGehSiOnAQ88G5B7YLEFNmvVLHK2TGpgYgV3x/b90rlzz2himy3bg7J2zWZXbFVwlUql0mFiBHf5snUyaNBIpzd0+bh1/r9syXp3pVmwBJfPe5kQqOAqlcpkZWIEd8SIceLd35bBzlEjJsqlC78HVXA5HLdp06Zy5513mu998MEHZfLkyUbz4gMVXKVSmaxMqODW+LKmZM2azf0sKYV69RrLudM/yYVzv8jxY2dl4sSJLtme8cyZM/LTTz8ZXfrrr7+MRgVGqlcSYgT3ySeflMKFC8vIkSON8HKdefPmCRvijB07Nqpk3KCCq1Qqk5UJEdzatepItmyXxRYiuM8+W1hKlXrRsHjxksJSXst8+fIZsSxQoIAULFhQnn76aV9eunQpSsFiAsFlXu+cOXNiCPOAAQPkscceu6JgB0IFV6lUJivjK7h169aXfI89Hm2QLFOmzFK0yPNSolgpKVG8tGGRwsVNV9+STWwQxMcff1zy589votT33nsvBomAYwOCmyFDBt/UwZ49eyRdunTyr3/9K+qVq0MFV6lUJivjI7jTpy6R50uUjCa2GTI8IKtWbIyxec2J4+ei5XA5offnn3+Wf/7zn76CGRcguMWLF4/6KzrYgeyuu+4yKYa4QgVXqVQmK+MjuJ3a9Yl2JhnzmcePmxpjLwW4dctOV2xnzJgh586dk99++81EoPHp9nthB838oIKrVCpDnnEV3FnTV5pFQ7YswvtN8zay02fzmlMnLpg8qxXcZcuWyY8//mgGuf7++28VXKVSGZ6Mi+CuWLxTcuaMvpH4M888J8uWro2xeQ2zEyLmL3DFdvr06WZK2O+//26i24SmE4AKrjJRZNXTu29VNMtoWSnlVwZGzNwmk8etNOW9r7NPxPiRS2Ld6zapyXcFbmTOiq6iRUtFe02ZeugV3EcffUIG9Bsrk8ZFyKL5m2T1ir2O8O6UokUuawj5W5aov/32OzJkyHCZNm2mLFywRFauXCtLly53/p7mii1cs2aNK7b/+c9/otQpYVDBVSaKHH+TIUMms3kNy44DBdWyYb22UVtBRn9/QJ+J5oia2E5zSGpyFFD3LsOjvcbRPRzy6X1NmXoYTXDz5pd+vUfKuFGzZd6sNbJ44Rb56MNPow2SMd+V6VsIX+vWraVv374yfPhwmTBhgtkVzAotwrtixQozUGbFNqGpBAsVXGWi2KRBR+PkHB/O9oyx7fkbyoLLGXFzp0ceda5MfYxNcOfOXCVf1WrkvgdZtmundF1JcGfNmiXbtm0zOVtWlSUmjeDF/v37zaGUfmD2Q4sWLUyOOK5QwQ0jstlJ/vwFpXGDDsLxM+xs1qheO98oNyGCS1k23+FQRhjbGWGWpCXmTt8iMyevN7uu+d2Hn+CyDaL3AEpLPr947m5zvTnTNse6AbqlKe/8DspzH1faiEeZdPQKLqcf9+83RiaOmyft2/QwsxDse5yRV6tmPSO08OWXX5bu3bubgyLJ00ZERMjKlStl3759JqpF+NCgxEa1wYQKbhhx6MCZZrtBtp7kb/by5aQD725YY0ZEmO0X2SSdbSKfLlBUShR7RebO2GTO38qTK5/cdONNUuDJ50y5iJmR52+tcsSqgSPS7NnKaDKrcx7P95R0aNPfvTbs3G6QVPjkS3Mg40svvia33HKb8ZMHHshsjiS32zZWrlTbXJ9z0nI+8qj5P9tL8h6beb9ePvpxRjQgHDufKVMWc73IrR6fM5G8txwplZIlysjMqeukdo2mkjlTVlOePX05qp39b73llUlPr+Cyh/ToEdNlwLdjzJan9nX2SOjS6VuZPnWBvP/++4affvqpmX3ASQ4XL16UP//8052BEMoi64UKbpiQrQLZC5dz12wkOX7UYuGomxFDZrvlZk3dIHVrtZJSJctKFieSZeu/RvU6mEiwQd328u5blczeuzWqNjHlls7fZ67HvrAZM2aWju0GmGiVY4cY3OKkhKaNOrnfyb63+R8vIM89W8y8TznKsw3irbfe5p760LXjUHN9Bks4c4z/Dxswy7xH9F2oUBH3nhFb9uUlWvq21wRzr/NmbDGCSiVmL2P7/TOnrDd5t3ffrSDlXn3XnCDMb2BjdLbU5LQGv8MnlUnHQMHt02uo2bTdvgZr12oo+3edl5nTFkUTXHK0zEBgOS6506RKHSQXVHDDhBxnwwkPA/tePoKbyLbAU88aIbaCZBmflMLY4QskXbp7ZFC/KdHKwm6dhpqo2h6ng+Bef/0N0rpFr2jX5v81qjUyEaq3a++XUvAKLp+rWb2RZM2aXWY7jYW3HI0Mewvf7dybPfoIwWXHpxLFX4y2qThEfBF4Ngz3vq6MP9nfONB3LL2Cy0Gqjz/+pPs3g2WvvFxOdm45IQf3XowhuKtWrZIjR46YObb/SsSChpSCCm6YkPOwcjycK8Zm2s2c1+9Nf5+JCL2vx0dwiUpLlyobYwN0SKohV65HpUuHQeZvBDdTxuiiatmr22i57bbbZfH8y6doXE1w7Tlg9eu0jlbGkjzuI4/kltpRp2FYwe3VfVSMsmzGzlHziHTge8q4k7RNkedKmjP//Da49wpuIB/P96RsXn9IDu65aAR30oTZruBWrlxZNmzYIN99953Z/yChWy6mJFRww4CIzmOPPikVPq4uMyetj8ZRQ+eafGeLZtEPtYyr4CKy5EqfevJZqVKpbgxWrlTHKZ/dfDflEVxvOsDLgX2mxltwp4xbaXLGpAS8ZSy5f4454qw5/o5MKaRzIt5VMcrCbFkfVsFNILE1ufl8jz1l6j7PpfCzz8tIx8c4PDWyzDFzSobVBy9piOfOXCn7d593BbdDuy6u4NasWVN27dolp0+fll9//TVeswNCBSq4YcChA2eYs6+8zh3Ip54sFO0zcRVcjiFiao85Quf5crHSihiC+8wzxaJd0zIhgjt6WIS5f6Iqbxkva33ZREqUeNH83wrujMlrYpSDKrgJJ77SsF4bufba66L51nXXXW/Oinu6YDFzZh1jAN734T33pJeJ4+fJ7u2nXMFdtWy7VKhQ0RXcbt26uZuKM2CW2vK3QAU3jZNKwKATBzcyOORHBprIq44budD9XJwjXCdiebpAEfm0YuTpxVdjUgvu1AmrzIj2xDGRR7QHkvt/8/WP5KWXIk8eVsENLsndNmvUycxw8QrqlZgrV14ZOmSSrF+9L0pwz8mKpVulRo1arth+8sknsnz5cje6TY3pBKCCm8bJMeUcxd2xbfTpWV5yeGXuXI+ZwzGtwMZVcCFHpXOsPPlab1lIrvalF16TLh0ip2clteByaCO5aWYkBN4rJGedPfsjJsrlbxXc4JPnwPQ6GnkaQ6+4BjJz5izStnUXGTp4nEyZNF8mT5wr3bv1NQNkVmw/+OAD6dmzp5w4ccIMliVmu8WUhgpuGmej+u3NXNNFc3b6vm9Zp1ZzM61rwezIebUsn2UebaCIDew7KarcDve1EYNnm+WXndpdPs7dklOPI3Oma83f8RVcliAz1cxbziu48Kuazr0/kFmmTYyciWBJfpnvY8cpThjmNRXc5CO+w6nRDJ6VLvmqGUd4PF8ByXB/RlcfmKJXpEgRefHFF+X111+Xd955xxVay1atWsmxY8eM2JJKSOz+CCkJFdw0TFZ6PfHE0/Lxh1V9oz8vWeJ7/fXXu5EwQskcXY6I/7JqY7ccgyIsRij7yjtmUGzJvD3m2hzFfvvtdxiBnzZhtVNulTRt2MnMw61Xt7X7/fEV3EJPF5FcOR8139W/d+SUtkDBZbFE0cKlTKTbse1AmT5xjUwYvVQ+rVjDLF/2TkFTwU0ZYn8Gb+nxeGcpXElwSSP069dPTp48afYtILJNiv0RUhIquGmYRHVlX35bxo9c7Pu+l1SIzz+rK1/XbmX+piv+TdOuTmRSTsqVib6qi0i2zMtvmfcWzIqMdBk8a9a4szz6aH53w+jHHy8gLZv1cCLNyzuL9egyUqp90cD928sJo5bKq46QL1u4z31t4pil8pEj+nxXxzaREXTv7qOl6uf13TKQxQrVv2hopojx3awcK1qktPTtOS5auYhZ2+W1V9+X+bP8B9nef6eK9Os53vc9ZdLwSoLLkTe1a9c2+yVs2bLF5GvZH4E5t+hLahZbkOSCi3FKlSrlGlQFN3yIaBPBLI2IHIzzm2sbTPL9CD/fvXzBAd95wcqUp1dwOXOMk28ZEGPJ7vnz543IsooMkU0N+yPEB0kquBiFHIsKrlKpjI1eweWAR7ZV3Lhxo5mBwD62qW1/hPggyQWXPEvp0qVVcJVKpS+9gsvWizNnzpStW7eaM8hS6/zauCJJBRfQDXjhhRdcg5Z95S1foyuVyvAkGyhZfXjyySdl/vz5snPnTrMDGKmEtBjZWiS54NIdePvtt12D5n+8oK/RlUpl+JGZM6w6s/rAAPvSpUvlwIEDZtpXal3QEFckueDSHejRo4drUCY+D+gT+9lZSqUyfNijywh36S87gzEjgfwtixrI36bmObZxQZILLmC0kekeVnSZqjNlfMwDCVOG3IOXfmWUSU+1e/Iz0OYpZ3fqPvsvZ3wgcoN4eMcdd5j8LcfY2P1t03J0C4IiuLRSTZo0iXYQXPr095n9TseOWCBzpm80E+1Tgny3l35llElPtXtKMLrNU8ruo4fNN0urb7/98v4KaEO1atVkz549cvbs2bCIbkFQBJdW6rfffpMSJUpEE13IVoDswq9UKsODHATp1QDIQgcWNpw5c8bMu2WwPa1HtyAogmvBJOZ33303hrGVSmV4krPuypUrZyLbCxcumMg2XMQWBFVwAXkZjjEuXry43H333TEiXqVSmbZJnWdMp1ixYjJ69Ggz35a9EbyHQIYLgi64gJkLLIg4fPiwWcI3Y8YMs7okuYjgc4Y9Z9mzKUbXrl0NWa89YsQI896gQYPkm2++Mf//9ttvzWo5GgnYsGFDs/lxs2bNpF27djJ+/HiZPHmyORN/0qRJ5nP16tUzbN++vQwdOtQc5Txx4kRTxu+ewoHYHRuMHDnSbLFn7d6nTx/zLLA1bNCggYwZM0bGjRsn5cuXd+3OFn3YvUOHDuYZeO3OtbmWtXvTpk1l8ODB5rpch3KU8buvtE7sg62wMzbs0qWLsWP//v1dv+Q9fBn787q1OWlAbM1MI2zKZylj7Q5539q9c+fOMmTIEPOM7fMJtDsn7RLRcpQ5e62gBUz/SssLHGJDsgiuBS0ZRiY5DmndkoM8YM5AmjVrlmTPnl1mz54tS5Yskc2bN5vzkXAEytC1sQ0Djvrxxx8b4kCshDl69KgZTbWbaeA0/H/evHnG2SCH3LG7EZO46S4R4fvdUziQ345td+zYIdmyZTMVc/HixeZcKrvdnrU7Zcn7U4mt3an05Pk4NJBd/qms1u5w06ZNrt15tsePHzcDMDxroifK+N1XWie/HT8dNmyY5MiRQxYtWmREb/v27XLq1KloexVgf/za2rxChQrG33lm2NNuiWjtzr+IqrX7+vXrzZQu0gNcl+v52d3Weep/OEW0gUhWwU0J8HBxLios0S07WdFCMx2FI5eZcP3DDz+YMrZBQIQ/++wzsz0cJCLnLCW7TRwORVmIAy5YsMBEunDt2rWm0lsxCYeRVz9Y22AHoiTszm5Q2JLKv2/fPvNMsBE2hzwDol1r9169epkVSFR8hJvrcV17fRpBa/e5c+eatfg0dAi3fUbhBuyIQCKA9NKwO70uggx8E3HFltY++Cd+bW1esWJF84yISBnQwpYIprUl1ydqtXYnaKEcdYjgw1tWERNpXnBxECIjWndyyOSU8uXLZ7qwVFIqLQJJGdsCU8FjE1xaca9TqeD6AztSAamMTzzxhLF7unTpTLefaJSKajcrsXbHlrEJrrehA/yrghsT+Ca/f/Xq1XLLLbcYuxctWtSkWfBT/Bgx9jZ0RL3W5oGCy/PhmhaUV8FNONK84FLxaNFbtmzpJvHZaLt169bGYVauXGm6rLbVx6FUcBMPbIRIEll5B0pJ1ZATpHfBgYDYydpdBTdx4PdiQ9IJX375pWv32267zeRaEUpSANjTRq4quMmLNC24PHhEj4qYJ08et9LjiMwDJNFvN86wrT4CqYKbOGAb0gOIHxtKW7vDRx55xORyyXvT67A7RGFTFdzEATGkp8ZKzyxZLq/ogm+++abZd5axC9I5No2Gf6rgJh/StODiTDgMERVRrdcB6d4yKBPY6lNRVXATB34zFZ/KmD59+mh25zmQQ2e0G1sxeIZNsfuVcrgquFcHfklPjVkHXpvDDBkyyMCBA02Pg4FIm0bDTlfK4argJi3SrODy0BFDHOG1116L4YCwUqVKRoxJKxAVIJJU+isNmqngXh1UYpvG8Zt3zXxMRrgZPGMdPc8IW6ngJhz8VuxHT40jawJtzoKDWrVqmRkI+Cg+jk35jApu8iFNCy6VGMexgweBzJkzp1vx7ag5TkPUpYKbMNiKjy1z587ta3eeB3OVmSLG80EkibawlwpuwoAQkpphq8PY/L1gwYJmShdTFxm3wEf5DNO6rM1VcIOLNCu4OAYVmMnbfs4HOZWWKUtr1qwxEa4KbuJh7c60O7bm9LM7Ue8XX3xhKj4RrhVcKr8KbsJg0zjY1c/mEH8nf+6dB62Cm7xI04KLQzFYxjZwrKCxjkf3irOUEIQ33njDTPJGTJkwj1io4CYc2IXfzR4aVPDnn38+WqVnh/+bb75Z8ubNayo+YmorPp9TwU0Y8HdEj5z5PffcI88884xrc2YpYG/m5FauXNkVU2yKzVVwkw9pOqUwZ84cs3oGQWXVjXVABm4YQGBC+LPPPivbtm2LtoJMc7iJAw0WG5QsXLjQiKq1O2zRooUMGDDAnHtH99b2KrCj5nATDn4rs26IcBFLfNvaHBEmsm3VqpWxO+/b1XjYHb+2NlfBDS7SrOACG7HiCCx0sA6I4OKACAK7zSOwdsQWgaSCJ1Zw7XeHo+BSSSEVmsbO2h1S6SMiIkxFZZUf5azdsWViBRcBD0fBBfgcjRa+TKrM2hzBZc8QxiqwGQLJs8GPsbtOC0s+pGnB5cHjIFRkBsesAyK4DNqwxhzHopIijpRVwU08rN0RPexr7Q4RXOyFPRlRp+JjIxXcxMPaHdFlsxprcwSX6JeNo+xsHGxt/V0FN/mQpgSXB22JY1iHwgEDBddGuLt37zbdUNviU1HpEns3r5k+fbqJ1IiEbRRBWa7N51g8wfQyyJJK64BEGji2FZRg0f5W+9uTG342h/x27GvtDm2Ei5CyX7KtpBBb1q9f37V7z549zeII1v/bFI21O/9S2a3dSR/RICLiNjdpywaLKWl3+51+due3BwqujXARXHzT+jD+ToNmbc7mNQiqDTCwJWXttSnPHGprd3qI3oaOZx5Mu6ekzZMCaUJwrdPxQHAIHASng1RiHIF9OK0D2hwuq53I3yKQOBaVH5HEKWnpP/zwQ0NyjVRudhGzOULKcm0iXio7q3ggc3qJGKj4zEXlepQLFu3vhDg7v986ZrAdkuvzXVQwvjvQ7kRH2NfaHbKVJfZi8j12snaH/L9u3bqu3RENdgTjeWBPbG3tzr8sWLF2Z1YEgz/0LhAU7zMKBu3v5Dd7RSbYdg/0db7ba3OInVjKa22O4Hp7dDR01j74J35tbY7oErnSeyDwYGyDsvbalGd7R2t3ngHCzDUJRmwqKRi0vxMmt68nFVK94GJsnB3Hx4F44FRcxA4HgLS+OJx1QASX/UDpOuEwRFBUaKIoKivRF47HslSIY61Zs8ZEazgX16Ms10aAiQjYhxUyD5KIARHnPa5n7yOY5PdS0azDYw/sEgxHtEKLw+P8VEIqZaDdqazY19odctYd9iL1QkW3dof8n1Ncrd07duxoegw8D8QUe1q78y/7MVi7E3UhEDwflgvz3bZsMMnv5bfbhhUhwDbBsLufr/PMvTaH2Mk7aMasBVafkXahocM/rQ/jn/i1tTn7FuPv69atM3PTbfRqr015ghdrd54PPT/K8fywu/degsHk9PWkRqoWXBwQB8f5eAA4EM5Ba0ulI9pB+KiE3uWOCC7REy01eS1afZwQpyHqopuE47399tuGzHBgDTrRFgM9VH7K2muTriBihuQnmVSOE/KeLRdM8jv5vTi8rUjYA7sgikkZAXAdW+kRGUSWSkglx+7ci9fu2NfaHZIywF40TFR0W1kh/69evbprdzYYYnEEz4P5uvYZ2d9NSsjand2wEHAaT+/zCRbt78Tu/HYrNFYEkloAYvN1nrnX1yF28m7WhOCSD2eVGYEDtrQ2wt/pvVmbM50Pf7cDbNiU5+j97QQv1u483+T0d2tzP1/HPknp68FAqhVcoggMjIPj6FR2nIPcE3k/urIQp8GhiJasAyK4dnoSkRHORaWm9YdEApw8ULZsWcPu3bsbcSYFwWR9hJdy9tpUdpyQvDBbD/I+r9sywSS/kfwyDQEVDafHKREBIgFE0TpiYmHFlqiWqA6hpeISCXEPfnanklu7Q05q5UQN0jSILtPGrN15BuQQrd0RZ/KEPA9SNfYZ2d+Ora3dicp439relgkW+Y001FbgES6EABGgEUpK0Q30dcQGkQv0dWt3bPD111+7NmffEBovtsYk9YItrQ9DxiCszZnOh7/zfAgeEOhAe5IPtnbns9g9Ofyd34ef2cbXNgT4OnZJSl8PFlKl4OLERG4YGCfngVP56KpCKrmXOA+5QeuALHggkkJ0GZhhBBdBRXwhQhx4xA5OSIvO9DJyXJQL/B77eb/3gkn7u8mNImBURpzR5tVspJvYyo8jE9kiKDg9ESYDileyO5GVtTuk29q8eXOzcRBdUq/d+b/fETs8D7qxtmzg99jPWwa+Hwza34yA0WDv3bvXjcARAGxEw5TY9ILX1xFahI3nHJvNIf7JPiHW5iz8qVmzphFdjpXCltaHIX5tbW6P2KFeINDe44oCmdw2h/Z3swkPaQ8bgSe1rwcLqVJwiRyIIHBwok6/B+NlcgluqJBZAAgijkgl9Vb+hMJWfK5F3i62yu5lcgluKBDhpeG3KRJSDESkiY24eGb4Os+S5+r33YFMLsENBRJh09glpa8HE6lOcHFeKj5dOKLawAeA49MF9ZLWsHGTJq4DIrh16tSRDh06OpV5oKnIfI7IASLA7DBmu1mtWrV2D+CbMmWq+V7KBX5PStFP/PjNjO5T+en6EyElpouL3bkGA1WB3wX97ot7GDhwkGt3+MknFczhhdiTXK7X7vz/ww8/cu2OSHzrlON5TJ48xS3r913JTT/f4znQVScQoOdFxIVYJjTKtb5O9Ob3fQz6xnZvpG6szRFc0jP2wEcE1PowxK+tzV999VXj7zw3ggsbTfp9T0qQHlWgHbg/O8BHQ5dYXw8mUqXgkj+kO+s1+spVK+WUY/BffvtVfvvjd5e//v6b/Oy0egsWLXQdkBzueEdklznisXP3Hjl99oz8+PNPpiyfP332rAwbMUqGDB1uuMGpRAfpujjX//6HS/Lzr7+Yst7vSUn+9MvPcsyJrBhg8tqEgT4qPy0/AwukAxIabeHA5Ay94k4F2H/ggFz68Uf5zYnmvPdk7O7Yifet3WFvJ8JasnSZ7Ni5y7HnKfnhpx+NzSnP75g6bbpr9wWLFhu7n3Aa14tOReI5Ui4UbM89n3OEcIMT1XptQqNAxEVAYKPchHZxbSNHrtteHy5dtkyOOxEd9g28L2yDL490RNTaPHPmzDJ5yjRZuXqN7HOex1m6346tKWt/h7X5kGH4+2Y5fOSoqQeXfvzB+Z7I5xP4XSnBn537Pn7ihGOD6DZBD+hdJIWvBxOpSnBxWqIFusteJ9+0ebP8459/yj//9Zcv//jzH464Xh4tZ1OVKc7nV61Z6zjgQbnw/UXzMP/865+GFy99L2PHT5BRY8YZbmPRg/OQzzkPEyfnepTz+66UJL+BARFrF6IBRJJBNKKthHa1sDuNHJGEvTapnEtO5Ox3H5bY6cjRo67dYX+nR7Fi1SrZs2+/Y8/zpiJbu//+jz9k9tx5rt2XOb/lmNNgIBCIbSjanfuhUbF2geR0GUizlT8haQXr6+Tjvb5Ojv6Pf/zD916gteM4z0KfrFmzyoyZs2Sd89lDjpASNFDG2p0G09p81Fj8facR9Avff2+eD3Ur1OzO/a9es8a1CzZiADGxvh5spDrBJVogcrOG5v9e5/Ej7y8NENzJUyNb/L1OZTl/8aLrWBBH8wru1u2O4NJNdCrQT1R8x+GtEwaTfo52NRK5zJ49x7UPKQBGcpk+Y7u38QViweCEvSbOTW/C7569xO6Hjx5x7Q6/dQR3+UoEd5+JrH51hNza/XcnmosmuCsuCy6/i+sF2+5+No0LiXStfeiuYy/SCuQUExJtWV/3NqDkcH91Ima/+/aShjdQcKfPnCVr1yO4R0xvwdoSEsVam0cK7o4owb1oImDb0AWTgfaMC/GdefPnu/ZBC0grJMbXg41UIbg4Hw6LARmFxLjkoeBep+LiEFciYrrY6ZZZB0RwJ02ZEhVp7YuMoJzIFSeERF6jHccbMXqM4dZt2+Wo0105e/6c0wX+yek+/2bK+X1XUtFWhoQ4prfyE4naPC62i2tuizLW7lR8Iitr84gFC0yl9rtvL7H7wcOHXLvDfv37m1TOrj17TZeVyNXanco902ksrN2XLF9u7H7GES5SD1wvmHa3Nv+HEx3F1+Znzp11bU7PgiljRFtMzYtPtGXtTnk+R57W2n27I4R+9+2lteMYx3+tzbM4gjtt+gxZvW6dHDh0SC4wi8IpY+1+0QkwrM1Hjh7rBBjb5diJ404gQoDxs3nWvzu+4/d9ScHE2H2bc6/W7vTASOXE19eTEyEruN7KToRAi2WnxjByaknuEqeIjT86pAWf54iEdUAEd/zESY4IL5PtrGJyWnPSCOS+IDnD4aNGy9DhIw03bdnqRGpHTQ6XVp/Kz3X9vi/p+ItpBH5xWvFIh48e3fk5n+WBgwddJySnaPOJV3NCa3PK0A2mwvMZ8pDkEa3NVzhRl/89X2ak3X+UPXv3unaHvfv0lUVLlkb2GpxuN3b/IcruPKepjsBYu1OOLjDPg17IJezOqqqA70o6Wpv/anLS1uZWCPxsbcnnvSkXVsfFtXsb6OuUx9eZ08s8ZGv3g45Yxrzn6MQ+pAyGjxjp2jxz5ixOgDHV6VmslN3kl50ez/eOKFl/ZwzD2nyY8zn8/cixY6aceT5B93eP3ePp6/Q8rc1NzyuOvp5SCDnBxUA4JxUeo3lX1dBFo6vGSKslFfqU4zCx0nGa485DYDDGOiCCO3zkKJk7L8LktRhIoPJTFu5zBGvQ4KHSf+AgwzXr15uc40FW1DjlEF5T1u/7koBEfkR1RN4IDRUIUbJRiXVGPweER53KYp2QaCsuTmgrPA0b+VqEgs/QwJGSQEyszec7XVu/+45G5zMI5cbNm127wy7dupu0wRon2tq7f380u2NXUjnW7nPnR0Ta/fARk1pILruTOkJoEHiEIDKav7IAIBzxFdyr+Tr5W1Z9Wbvv2r3b976j0bEP6QB6EtbmmTJlktFjxkrEwkXO89hiolzKRNr9tBmYtDYfMHCw4+8bTKqNIINywbT7ZV8/ZyLqi/H0dQbQrM1VcOMJjIORqPTkvphAjgFZI88UJ0Z/mXbDHEHLdRs2GueIlU6l3uV8boRn1JZZCuQSJzut/qLFS2Tjps2y03Fmyu7df0A2btniRGL9pEevPoZ0bbds2+ZEw7ucrvAeIwKU8/2+JCKNwH6nYuD0tOI4POJLRELX+kqOGB/BtZWeyAqhpRwCy4gvjRsDlCzBZSWXtfnkKVN87zka+Zxjd2YkWLvDNm3bycTJU8wMhPUbN0WzO+kdRsqt3adOnxll953JYndj84OHTMNKKoNZFKSXiLwRAHL3sYlufAXX+jrvxebrLHLo3bu3a/e1NFIB9xyDji2ZedPZs1vYAw88IAMHDzFphaXLV8imrVtNSifS7vsdG293bd6zdx9ThrTCjl2Ovzv3kSx2j/J1Glbr66TvjK9fobFTwU0grAPSlSIHw0RmKjubnJAMZ5kh05DIZbEBCmzcuLHMmDXLOEisXLbCpA66duvhOuC1110n7dt3dFrzQTKOrf3mzjfd1yVOWcrPmT9fOnTqLO07dpL2HTo5FX+GLFy8OKrM8shyft+VBFxmuNLptq+SdRs3msqw3XF8KgbdPCKC740AXHbEQCeMj+AiBDRw5BoRCESWis5IO1NtyAEzV5MNra3N+/bt53vvgcTuEyZOcu0Ov65X32nsBphIdtacuY5dl7h2598evXq7dmdq3mW7Lwua3a3Nl69Y6UTe62Uzy0h37DQNBuJ7whFeIl6b50+s4Ab6Os+HpdmsnPL6OosSmjVr5tp9mvMs/e4/Gh0bYa/GTS6f5Zc+/b3SsVMXGTxkqExyGjt6DpSxNp8fsSDS5g47dOwc5e9Lgu7v0XzdCZy8vn7Y+rpjHxq72HxdBTeBwCExEsaihWe9dr169cwZTKyvtxsks6mMXRUDv/yypjRp2vSKbNS4qbz11juuA3K20+uvvyEVK1Yyn69Xr4E0auSIeFR5nLVho0bSoGEj8y/vcQ1e9143mGzarLm0adfOifiGGeEiCscZ6f6RcyPqYsTaL9KNq+CSRiCyRWwpg8CyGqlq1apme0prc/jyyy+7NuccOL97DiQ2q1b9S9fusFSp0vJJhYpSvXoNI77Y1mvXRo0ae+zeONnt3rJlK+nlRHmM6iMC5JqJwuhaM7j0M5GuT+WPj+BaX0dsaeDoPbDxup+vs/LL2r26Y0u/ew5ko8ZN5OVXyrg25xTfN998WypV+kxq1fpK6tdvaMrY8int7/h66zZtZeCgIU7PZ1Gkrzu9yQOHDptoN9LX/Xt1KrgJAEah4uOcTIP58ssv5f333/clOxoVLlzY5RdfVJX6DRpemY6DlXcE1joggluu3Gvy0UcfO5+vJl99Vdep/A38PxsCxClHjRlrpvUwZYeoi7zXj7/85BtxxUVwITlb0ghU+k6dOvna25KzsKzNX321nO99xqBj9yqfRz9FtnjxEo6QfCiff171st2dcr6fT0EiPt169HAiseUm4qXbSy6T3gU5XQbSvDaPi+Bau1tfJ6L96quvfO0N8fUiRYq4dq9S5XPfew1kvfoN5IUXX3JtzqGdLJn++OMKpqGrU/drU8bvsylNGoLhI0eaHL/xdcc3mQFCKs3P11VwEwAMw0g4YsvRNn7OZxmOggsRgKHDhjuiu97k6Mh10c21Lb/XCeMiuES3pBJ4j+4q0ZSfvS3DTXAt23XoYLrVRLo0dHYKIdOZvJU/roJrfZ19gqtUqeJra8twFFyIr7NAhvTOjt27TT49Nl9XwY0nbIvPyhxOHPU6XH2nmzVn3jxZt3GDbNi0UdY7/65ev1amz5rlct2G9bJ1x/YrctO2rdL3229dB2Qvha49esqI0aNl5pw5smLNKtmwZbNs2bHN9/MpwZVrVsvgocOM81lHpLs3Zeo0M+jB4A5RrlmIEVD5rya4duoXo+JsxO4VW7q1w0aMkFXO92Nza/f5Cxe4No9YvND3ngO52bH77HlzXbvDxs2ayTAngpnhiNOKVStDyu4bt26WaTNmSIsWLV2bw+6Or6zfuFF2790nx0+dNNPdAqOtuAiuTeEwA6FGjRrRfL1O3boyfeYM48/RfH32ZV9fs36d730Hkt/RvGUL1+b33XefyY2PHjdO5kZEyKp1a506scX3synBVWvXmKi2YaPGrs3xe8ZXNm3ZIvsPHDRRLjYO9HUV3HjCRlpsZnLZAT8wlf7ij5fk599/jcYfnG70gaNHXJ6/dFF+/PXnWPnDrz/JxZ8i53daB7z++htk9PgJsmDpEqeyb5djJ4/L+R+/l0tOWb9rpBQvOb+VyerNmjV3HbFlq9am5Wf0mGlXzJEMrPxxEVymIrHs96OPPnLtzo5qB48cjmFzePz0Kdfmx06d8L1fL7H7947dt+3a6doddu/dR+YvXiSbtm+Toye+k/M/hJbdue/jp09KT0egvJWfnC4DaQxcksuNjLbiL7j4Ort1Xfb196WfEwzgx4E2j+Hr31/Z1yH3f8Hx5V79+ro2z5Q5s4ybNFmWrFwhO/bslhNnTzl14pIp63eNlCD3ssXxiRYtW7l2b/5NC7MalBkq+LpfQ6eCG0/giLT4bJdoHbBDx46RcyADHPCn336RSz//KPsdUbA8//0F87BiI6J1wXGuKY7wWAdEcEeNGy8RSxbLZie6OnbyOznnVPzvf/nR9xrBop/jBZJyCxyBsk4IZzlROYMKpBWYo0tOMT6Ci80RAbblszZnkGb/oYMxbG7t/p0T2VmbHzt5IsZvCSQiSqXeujP6MendHCGbt2ihbHSi3yPHj8k5R2iS0+5+NvYj99bCadyszVmwQS6XOcHM0zUj555BnLgILmSgjIbN2r15ixa+Yhvp647genz93FV8HeLvBA+9+vZxbY7gjmWhz4rlsn33Ljl+5qQRZcr6XSMY9LOxH5evWhXN11mCz7TAyBRaTF9XwY0jaO1xQLpY7OSO89kzlViMQOseSMT2giOM+xxhsDx94ZyJYGMjYoujTnIeiHVABHek070i0qLiH/7umJy5eM44od81kopEfN87vwGB8Tq7n+N5efb789K6TRvXCYcOH+50xXZERltRua24CC65Q+xNdMtgGacC2LOsevTs4WtziN2Pnjju2vywI0Z+vy86HbtfuiCbnajF2h127dVL5i5cKBucruKhY0fM8wu63bF5lN3jIwATp0xxbU7ktW79BpPKsXncuAguCxmo/HblHlMdOazR2p0l57HZPIavnz/r+/u8vPDT98ZfevS+vA8xgjtm4gRZtHyZ0+PYJUedHh11grrhd42kYEJ9Hb9p36Gja/f+TlBA/tzbs/jT07NQwb0CEFmMgPPRtUIAiACY5/nWW28ZEmkdOHLIOJcfmROJ01gecbqlJ8+diZ1nT5vobMyECa4DsvBh+JgxMmfBAlm7cYPsObDfpBXoavleI4l46vwZ5zecMxWCyI7KgWMSDV7JGXFY5q5aJ+zTp59xwsNHj5mlxlcSXJzQ7s9KdMUke6aB8Rr5Wmt3dk/zs7fl3oMHXJvvYcTe5/dFI3Z3uuZrN0Y/RLJrjx4ya/58WbNhvezev9ep/N8F1e6noHP/NKg0AJHifilSCK5i9zUb1rk2Z/R89drI3eXInUcOnMUuuOxcZTfFxsexO+LLEU3W5u87wcXOvbt97Q1PnInu6zR0fr/RyxPY3emBdPEsfGCl2ajx402AQUO37/ABUyd4Rn7XSArG6utXEV9eHzpsmGv3Hj17mUUYLIpwfV0F98rgR/PjEVkGajAIAoBDsnyRDZA5Swm+50S625zogAoek/tl1749stJxfEtyhLv374uVu5xKvWPvHhk8fJjrgAjuUOc7ZzhCv3TlCuOE25yuFmX9rpFURNj3HjogB48eNvlLKtSZi+dNF/D7n68svIOHDnGdsFefPrLFOOGVBdduesKkeqZ+sXoMcg4XZ0SRv7V2H+tUSH+bw/2yfvMm1+brNm3y/X2BxO4Lly5x7Q47d+su02bNliVO93b9ls2Rdt8XZLs7v4FGHMGiETjFMlJSSB4B8LM5vQhrc2i387yS4LJYgdMUOP2B+eTYmsbNrtyjjLX5m47o0uDHZvPdjl28vk56xu/3eWn8fc9uM4fb2jyjI7gjnACDhm7Z6tWmV8ezCaa/J8bXGb+xNkdwWRCB4JLDVsG9Cohq6cYitLT2OB7LFqnwTI1h+0COUeFIG4gjLli8RJY7jhHIZU50sMQpT4W1XLBkiRkMuBIXL18uXXv2dB0QwR0wZIiMc8RoulMByCkuYiWTz2eTjisdZ18lK9aukbWbNsqm7Vtlp9N4HHS61UR4dPGuFO3GV3Cp9Gx4QmPGTl/YGrJyj+l39Co41cLavW///r42h9h99vwI1+az5s3z+X0xSc5w/OQprt1hu46dZKxzb9NmzTKphUXLlhrx9ft8UnDpasfua1bLakb/nYaVHOa+wwdNFEjUS7Qbm+jGFFw28I5dcNmWkdNDOCnBHpCJzZlvy2GMnHDLngjW5iwmme3YMjabB/o6Yw5+vzGQpA7qN27s2jxjxkwyaOgwmeCIEkHG/EWLnDoRTH/3+LrToLi+7ojvcUd4r+brMQV3mwpuXGDF1q5kYss6Kjz7epJbxDkZseUMpWeffdawZMmSMmb8BJkwZWpMOpV33MRJxnks6SohnFciFbx5q9Zm/i288cYbpWffvjKIs/WdyjFqwgQZ69yL32eTguOhE/ng8FNmzpSZc+cap8cpNzoNz14nGkAAruSIXsFlAMdPcC0PHYlcvcTJqv369TPiijMiwuw+hSDYc9us3Vu3betvc+jYfdio0a7Nh4wc5fs7A4nd+w0a7NodftOylQwaNtxcb5TznI3daRx8Pp9Yjp8y2bn/KTJ5xnSZ7thg7sIFphGgwSPCI+KNHAPwF924Ci5kYj4+jT8PGjTICAACbCNejhPivbaOna3NixYtJkNHjoxp7yibG193bBUfX4cMkFWvUcO1eaZMmaWX4weD8XfHL0Ybfw+SzWEsvk6DZ9N3Z6/g6yq4CQA/lFwtYsscW1r7Nm3amKWK2bNnN8d+kFvKmDGjOTefydmQZYg5cuSQRx7J6cscjzwiDz38sMscOR7xLRfI7A89JPffn8Hh/ZIhQwbnsznkYeezfJ5r+n0mqZkn76PyStmyjvi3MtPSpsyYYZyR6Itu9XenHNH1jNp7nfBqgmu3EGSeIicQEElxUCPngtFryJkzp2tviA1uvfVW1+5USr97tnzYeSbW5g87tvMr40c+Z+0OeQ7JafecOXNJ4aJF5UvHDojXRKdizna61sudqJd0lB0wpfInRnBZfkoAQUPGkfzMsy3qfG+2bNmi2f3ee+91bQ6xp999wxwOvXaPq6/DbA8+6NqdzWt4Zsbujs25rt9nkpK58+SRl155RRo3by4jHZGfHM3X90T5uiO6Pr6ugpsAMAOBkXAMQLc2d+7cprX1di/Dlddee60UKPi0SXPQ5Z7jRF4ml3eIwajTZvSYlt/rhFcX3MhNnNlfYeeuXWapbsGCBc1WlH73EG685pprJIMjPLXrfm0ixRlO5EXXfYfT6zKV3zMt0No8roJLI8em3hx2ycwPTlhQX48kdsiXP7906NLFRMAMVDNgSp460tcjp6d5fV0FN57gR5JKYF9PurW33Xab78MId9533/3S3nFEumALzJxgR0Sdbq5JLfwcvfLHRXCp+OQS2caPyAqR8fvecCaN3YeffGK61US6pBf2HzloZjIERrlXF9zI0wo4GoidrRo1amR6aH7fG+5Mly6dtHB6uAQYZv77dkdEY/F1Fdx4guiWKV+LnC7EXXfdFc3wdGk+r1pVGjZpHFZs0LixfFKxounKe+3xgNPN/HbQIJk2e7asXLfW7EzlV/mvJrhUfiaF8ze7PHm/g2Oyy732mtStX0/qN2po7sXvHtMia9etK08+9ZT8nyO01h40RF87diTPSE6XmRJMk7KLAazN4yK4RLksgth3YL/punvtni3bg+aZ12vYQOo3biQNfO4vrbLy55+bkya89rjnnvTSq28/M2C6cu0ak89l2h45dBXcRIAfSu72xRdfdI1NZFHtyy/l4HdHTZc5XLl11w4p9/rr0Rzx7XffMy0/sykYRWfqkqn88RRcKj47+r9a7jX32pmzZHHEfKbsP3pYTjhduDPfR07N8bu3tMoTTqUmfXP77be7dmExwMBhw00Xd+PWLXLI8UubP7c2j5vgRvYqOF6cnCzXRtDfeOstWbNxfeQ88Qtn5OylC3Le6T773V9a5e4D++TjChVcm8NXypQ1qQWzCMM0dCdi+LoKbjzBYBmDZIisNXSFSpVMZfd7MOFGhO/ZwoVd29x7731mxgSDCkyhYTHAuR8uxktwWWPOuVP9BgySMmVfjbruvTJgyFDZuX+v09AdCVvBhfzm7r16RsutfvX112b2wpqNG0xawQyexVNwsTvH1HxZs5YruM88+5yscHorew7uD2vBhfjbCy9d3rnsjjvulL4DBpopgWZ5t2MfGjoV3ATC5m8ZtLE5RCKLjdu2+D6QcOXkGdPMfGDsg51atG4tsyMiZP2WLZG5rYBo66qCywGb338v9Ro0cgWXXCWpChXcSJ48f8aktGzlL1n6BTN1ie4tgzhMEWNSvu3eXk1wf3cElzQOz6LKF9WM4LITXbfevWXNpg0quFGMWLJIbrrpJtfXGzZuYhZhsPDlMD0L8rieAcvECi4rKsNKcFkzzibi1rHzP/GEcXa/hxGuZDOS9E4Eam1EtDVr/jyziuvQsZjd26sJLhWf9eZ16zVwBbenU44IDsE9dPxopOBeCl/Bhd4ubr7HHzfTlVasWR2ZT7xwNn6C60S3vzp2j1i02BXcrFmzmS6zEdxDjuA6vRUjuD+Er+AeO33CpLas3T+r8rmZn+v6ehIK7unTp43gsqqVsaRQQ5ILrt2Crlq1aq6Bny5USE6zOYzPwwhXsoHI/Z4BtFp16pgVXIkR3P0HD0YT3MHDRxjB3X1wnxw+cUxOOI2eibTCWHCr1bgcCOTN+6hMmj7dzMlNjOByBp4VXCLoSdOmm9kPew8fkKOnjpvrkiIKV8HF3x7O8bBr948rVDTT8tY5NkpqwQ3coS3UEDTB5Vwsa2AV3JgMpuA+V7iIueaQESOdSGKeqfhHnO9zu7YquIZJKbifVv7czHm2grtuyyYzUHns9Enj++EsuDDHIzlcuyel4B46fNgVXFb6nT9/3mwURFoTLQo1qOCmEIMluHW+ri/Zsz9krongMhB34BgV/4Sc0oofNMEt91p5c00juM41t+zcbtI4x8+eMnnzcz+yY5b/PYUDgyW47FNhBXe+8xwYMGNKKuf1hVr+FoSU4LKtW4s2rWThsiW+73u5bvMG6dC5U6oV8mAJ7tvvvOfODkFwV65fa/KI5G+Jbqn4gYI7fPRI6Tugf7TX/Mh0tZZtWpucsN/7qYHBENwZs+eYZbRcE8Gd7vxt0gk0cs41/XoVJ8+fldbt28q8RQuive5HBpzbdeqQqsdBgiG4586fkxkzZriCi/gyHTVU0wkgpASXEd377r9fuvbs4fu+l2Mnjjfr5Ikg/N4PdQZDcDnp9JZbb3WvyQYxuw/ul+/OeLq1PumEd99/T0qULBXj9UCyy1aGDA+YxQJ+76cGJrXgcsQRZ83ZayK4bNRy2PFlOyvEr1dx9FTkQFK7jh2jve5HZrSwlwI+4/d+amBSCy5LqRcsXOiKLcLLni1//PFHyEa3INUK7rLVK6Vp829MJfF7P9QZKLhsrsJmNlT+Xfv2mXPD2ISaPURhp86dpWLFSobNmjeXeRERZkPsHewd7JRftny5fPPNN+714Kx5843Y2ijLL7qFcRVc8sBfN2jgdJd3+L6fGugV3Dx58prdyhYuW2r2mmU6HlHkmQvnjM1Z81+xUqTNIQd4Ll+xUrZs3Sb79u93/t1iKnrZsmXda7JpC43c8XOnjM+b2QlOI5cYwV3l9FI4fJPNxf3eTw30Cu77H34kk2nonIYpmq9H2Z3j6a3NmzRpKvPmz5fVa9aao3aw+xrH772RLdy8ebNJJbAGIBRztxapVnBTOwMF94tq1c36/nmLFsl6x3nYPWz/4UPuAYI1HEG2x2W/8cYbZkcqtl5kwxS2XIRNm0Zf0svAzamLjiPHEmVZxlVw0wK9gpsrV26zET1TlFavX2c27t5/yLH5kcPG5hHOs7A2h82dhq5Xr15mfxC2W7TbLnoFl6lmzAgxYnuFRi4+gpsW6BXcd959z5wpOM+JUKP5epTdOcHY2pzj3Tt06GB8fYQT+bIjG1teWqFlZgJ7arPfNmJLKiFUo1uQagV3w9bN8u2gge51yXMtWbnciMsUpwv2ScUKUv6N16XpN81l7eaNMT4Pt+3eKe07dZQ33nrTiM4gp9vONJ7AcmwS3vvbfvLWO2+ba37doL6ZzO0tQ87u0yqVTWvNZsvtO3WSSpU/M5XPW84yOQR3045tkZX+KgNlcRVcomX2Ed51YJ/5m+c1c+5sExWyjBW7YJ8vqldzuupTzfcGXoPBuyEjhstHFT6R1998wyz4YIApsNxpJ9IZN2mCY5eq5poVP/tUho8eZXKf3nJNmjeTuQvmm+hv6MgR8tEnH8ui5UujlfEy2IL7+BNPyDHHTlcSWxgfweU59h0wwM3hcvApv5HvYNl2xU8rGRs1dp4/zyHw83DHvt3Sweklvfn2W/LOe+/KgCGDTG4/sBxRft/+35oyXLNOva8dYYyIVubA0cNSyXke1BWW73bs4vS+Pv3ULK7xlvMyGIJLlMtBBjaNgPaEstiCNJPDbdS0iZR+8SWpWr26FHrmWfnq67pmsxa+myWu3sEJungTp001+5QWLVZMGjRqKDW/qm26mM88+6zs2LvbLbt20wYTtTzz3HOOoNQzG3OUcSrY3ffcI/0HD3JzoogG6/OnzZopOXPlcu7lRWndrm3kvghR1/IyUHCrOoI7ZsJER8iXmE3JySkePHpUDn13zLBW7dpSzLlX+M4770j37t3NnrcILY43b9486d27t3s9uHX3jitWesuE5nA5NYANW3o435s7dx6zYQn2ef3NN82uWc1btowmujv37zH25bmRQqnfqIE8X6qUEZ7xkye55XimH3z0odk7t+qX1c01P/u8imOv++W9Dz+I5kslni8pPfv0NnuvPp4/v3mO62JpYGGg4A4bPdrkztds2CA790aeSkBeEZsvdJ6FtTlkP2f2u2UDdyIrNnbnFIcKnsUULPIhd+uXRvAyMTncFq1bSfHnn5eajk8UfLqQ1K5bx/gmtmWDmJlz57if5T6mOj6ZxfmuwkWKmI10atX5SvI++qg8VbCgCTps2Q3bNsuTTz4pTz/zjKk72P3V114zO30RcFhfp37w3GfMmW3qTMnSpc1gql+wYhkouOwHHbF4cXRfj7L71853W5tz9pv1dRo3fH2hI9QcPHvp0iUjtKEe1XqRpgT3gQcymqiSuY+2HFFZ0eLFzXpu+xr7zuIwTVs0j3ZfRKOvvf66lC1Xzu2G43BvOQLnjax4vVnLFo6w5jbX5zUEFwEt4jjJqHFjfaM7LwMFt3adujKTQbPNm+Sw43hnnQjP7Bj2y8+Gbdu3M0ILGzRoIKtXrzZHFTHRm5FZWnkEwF4Pbtuz86piCxMjuHfceaeZ90vUZcvx26mA6dPfK9v37DKvYc+3331XijnPgt6ALcvrnbt1NavuuD6vMWMCsSWys+XgouVLHCG/1RzJY19DcAs5AvFlrVrus7gSA3O4kbnE1WYZ7ulzZ6Ns/pOxOYcXWpvDuU4kzOGQDM7Y03jJG9Z2hM9eM66rKhMruOzt+/Enn7ivQYS+ZOlSjo1LuK+xKQ+BRf2GDaP5OtEtz4N6YV9/8+23pVz516LdP8+yTfv25vvJ4fMagsvG5sVLPG96K0Tatnxs9AruR59UML0KO2h22dcj7c54hbU5+wtz8Ca+fubMGTPH1hvNphahtUhTgktLjJgGluWMfsSN7ix/f9OqpamkOGhgWTaPueuudLJ6wzoz2JTbqZSz58+LUW7B0iVmLwQrHggu30+3+mpiCwMF96u6X5v9WUmVHHG6dRyRzYjtz7//atihU0dzlDxs0qSJbNq0yRxQSMVnGgwkyrXXg1bsrsbECC6rqwYPH+pGP5asbmMhwNSZ083fDPzcdtvtvukd7FyyVGlp4nTZuQ4piTr16sUoRwTFaQU8T/sagvtYvsd9n6Ufowlu3rwyZQZ7Kaw1v42KT6X/6bdfjM0ZpLE2h2w3um/fPnM2H2JLxcfXv/rqK/ea+Z0Ike01/b7by8QKLntMY+PAsgOcXtfdd9/tRpvtOnYw21P6NUbbHeGkLKk4RBM7Tol6Xl4ykMseEdafENz06dNLjdq14uTr0Cu4n1SoaM5y27Al0tfPX7pofN3avWu3bq7NOX6LAzk5bJYluyxoSG0i60WaElwqX2A5OG7yRHNdrk+FLuV0geo3amQEOJDkp4hSevfrZ5yJ/K29d/5mFJXvbN+5k/ltrJfnPQT33vvuMxuJe787NsYmuGwVeOT4d3Lxx0uxCi652i1btpgDOYluGSzAEVNCcIl02HIysCy2YsOSiVOnmL/ZqeuJJ58yeT4/uzP7gbQAn0MsrEDwvIiCibr4vnTp7pYu3bu538Mzp5ELFPzY6Ce4qxzBJYfI9CSvzbfvii64HAzJSbxsrE8Dx+YoKSW4zz5XOEY5OHXWDNPwH0LIHJuQ/mLKoZ/N2Sq1YKGnHXt2N2V5NtbXjd2jfL1b1AGs23ZHPmcE9z7H1+csiJ7bvRKjCW7FSo7gOsGFEdzvYgQXXsFlU3dmIFhfD+UpX3FBmhLcl8uUiVEOTpg62RVcIqFHHrm8Y1RsJI/EZ4m+EI1aTqV66ZWX5cWXX5ZiJUqYNAPlvILLZuJ+4uPH+AguLX+79u1cJ2TwZseOHWZnJEZnccKUElzO6WLgJLAsJPq1glu9Zo1o9+bHx/I95nZnmfbXxvnNdHFJ07xS9lXn/+WNzQIFt0uP7u7fV2N8BHfdhg2uzTlSntFwIi16Fdib3GFKCS6578BycPqcWa7gYktytfbeYmONWjXNZ9ktje8iJ/xymVfkhRdfMrnid957z5TzCi4b6W/aHj3lcyXGR3C7dO3q2r1x48YmjXPy5Enj6zRyqRlhJ7jkYnPmymlGt3fs3RUryedy7VfLlXOigEJmRgSDMfuPHnJE+4w5DprflhyCi0PWdiq1dcKujkOS02LduN2Gjig3lAW35le1zMAj9vGzN8SWdG07dukiD2bPbmaYLF6xTHbt3+tEvKfMDJBcufMkm+COGTfWtfnnn39uura24ts8YigLLsHCY/nymd6Dn70t7fzjN958U54sUED6DehvBov3H8HXT5uDH/ltySG4l35mIUlj1+6tW7c2vn7u3DkzThGqK8jiirATXP4mSuXolcBykO7ruEkTZf2WTTJo2FBz+ql3kMeSHC6/LTkEd4kjbNYBIVNjyN/anBZOGOqC27tfX5MP9w7IeLl01QozxWnPoQNmk+opM2LmErEZOdzkENxTZ0+bmSHW5qRxyN/SyNmKH+qCy9/0CqpW/zJGOUjjNmHKJCOuI8aMNvdD4xZYjhwuvy05BHfDpo3ywQcfuHZn2qPN35LGweapGWEpuK2drqoRUp8BNgbL7nIcdtmqlSYKfqpgASPC3jLkGb+q97X5bcEW3I2OUxJdWQesUqWK7N6927T4dpMObB7qgkulvvGmm2TStKkxyjGH9rnChaVxs6bG/ty7rdxesl/wjTfeGHTBZdWTN4/44YcfmrmfRLc2Z04eMTUIbqduXSVz5syyc19MIWXuOmUZd2jVto2Jhsnbesvg6w2bNIn2TIIluLuc63p7cpUqVTLzbJmJwwng+HpqR0gKbrtOHZ3u4/FYSZSUGMHdd+SgEUemfDFwwAABRIBLlCxpXkdkmWh/++23y4y5s43jUYY8F6PkpUq/YH7bui0bzXuJFVwWPoxjmenSpbJ52zYjtMNHjjBLS70VnzmgbLJMxSe6xd5U/sQKbtFixX1tbckgFvZJqOBiz3ec78maLZsTza6MZk+WrWILFlTsc7qx6e6+28wBpUtMGSIxUgulXnjBzCdllgmvcd3ECC77HowYPVbmRESYPSy27dwhs+bMkXr16rk2h4yU2ygL37bd2qQQ3G9atfK1tyW+nhjBZU+HTJkym17dgWNHXF8nXfDiSy/Jy6+8Yuw8duIEM/OB73KfjVNnvx04wORy+W0r1q4y7yVWcJmHa3x9yRLX10c6EfZnn33m2pwol7m3jFOwv6319dSOkBRc+7nYyOKGxAgupAIzD5PFCq853a5XypYxZZjEvftAZDTAPb9StqzceuutTmUv7QhxOTMIUaRYUcfZtsoTTuVCZBevWJpowX3QibiLFi0qLzmV4PXXX5d33303WqWHPXv2NHNAEVvvjkhJIbjez/mRrvwW57clVHAhcz9fe/0N04Mo/eILzv/LG3tmyZrVLBihDBW9Y9cupqHDvqx2Ivolpzt5+jQzn5QNelo6ERnlEyO4LM5gNVNp55m/5jSyb7/9trz33nvRbM7JJcwIuXTpkkkleI9tSQrBtZ+LjZUcEUqM4EL2LCB6zZgpk7xa/jUp82pZI5hFixczqyIpQ4P4muN3zHNmLi/lHn3sMXn2ueeMrxd8+mnjrywgSqzg4jNeX2e+rdfmsG3btmZmQihvJp4QhJTg0nrucsTOL7HvJUl+kvlMVqeC8lkqMwNagdeElOW6XN/7OgNjdHEbN2tiOH/RQlPWW4YIY97CBdKsRXPDabNnmS4w38vn6WZRBoflO8463VLv52NjfASXlUwDBw50J34HOmBiBZepb3529nLPwX3Ob7xgfiNRKZ/jX/Obo6LNQO7ct9tsuel9jWhq6coV0qpdG2nYtLFZjku05S3Dc2IBSOfu3UwZJtcj6ticz7M6ir1mKUtvhSlO3s9fiXEVXCIsItudO3eaSm8HJ63YgsQILr+Rht3P1l6ycAH/Ys6t9V+mzXHoZeA1IWV37d8Tw9epHzRYpG2w6dyFEW6wYoltI5Ysdvz8G2n6TTMzxYyeDXbn89bXed4898BU25UYV8H9+OOPzfJpAgs/X0/tCCnBDSfGRXDJYTEjgUUORLVUeoQ10AETK7jhxKsJrhXamTOdiPvCBZMnpzsbKLYgMYIbbrya4BJUsD+I3dM2Nl9P7UhywcUpcUI90+zKDBRcKnyfPn1k8uTJZn3+nj17TM4Qx6OVZ8AA5wus9IDXeJ8d7+31oApuTHoFl24xDdro0aPN+nxSB3YwEptT4RFahNUP2J1yKrhXp1dw2SMBX2fzH3ydQeC4+npqR1AEF6NVr17dNbAKbkwGCi4tPFEVlZ7UQeAOSFdzPoQhIiLCvR5UwY1Jr+Ayes/mP2vWrJFjx46ZLqyNqqzdrwTeJ/qtU6eOe00VXH96BbdMmTJmExrr697ZNnHx9dSMJBdcgBN6j0lXwY3JQMElfUBKYNeuXXLx4kVjw/g4HoK7YMEC93pQBTcmAwWXbf5Y0MBoOI1cbNFsbECg69at615TBdefXsF99dVXzUZA5MfxdQK0tCyyXgRFcGmtatS4vJRTBTcmA2dkVK5cWRYvXiz79+83S0exYXxAVLZkSeRiDEvmWfp9dziTjXGsfbJmzSqzZ882W/2RSkhIxec5saOVvSZbRAYOFIY7GWR76OHIg00heVu7ERCpBBqtcEFQBJfKz8CDNfAjOXPGayQ5HMh2hnfccYdrI7qlbLnICjK6tkSs8QFCceDAAfd6cMyE8b7fHc5k601rn8cee8xUfJaOMu0rIRUfX+/cubN7TbZNDJx1Ee5kcRAbO1kbEVyw5SJzmxPi66kZQRFcumWszLnmmmtcI48cO8b3YYQjmWbDXrzWNqyeYtoXkRarahLStQU4L91ke13mVcZn6k5a58btW+XmW25x7cNMkLVr15r5ngmt+DwnRJvtC+11e/Xt6/v94Uh8nZWB1jbYqVu3bmYFmR2rSIivp1YERXABcxfvuece19APPfSQWd7JA/B7MOFCfv/siHlmvwBrmzx58siyZcvk8OHDJp1ApJWQnBaCwewQ29Bdd9310rVn9xhzMsORrLhitZW1ORX/22+/NSPkTP9iZk1CKz7LTrNnz+5em9z8ynWr1ded38+GT2ypaW3D9EcaKHzdphPCJX8Lgia4dLU4i8gb5XLKAkd17Ny/N+xyukwYZxUa+zPcedddrk2uvfZa0+LTrbUbW2O7hADHJQfsbeiw/xfVq8uKtat9N6FOy6ShYTkry1bZhNtrk1KlSpl9Vr1bXCYUPK9BgwaZZ2m/g9V0nZ3nysDlqaiFIuFCfi+LU9gngg3OrU3+7//+z5wszZRHu9NdQn09tSJoggvopjG/1Boc4uwIDgNGGR7IEDYkh+XN2UIckH1WcUBSCUyPSWw+iyiNNeictuD9Lib5c4yN372lVRJpUuG93X3IkTNsJm6XSSdFlEXXmJVS3u/B1+nJ3Hf/fb73l1bJ7w30dWzBdDD2cbab0eDr4RTdgqAKLsZkMKJcuXLG4N4HEO5EbD/55BP3yBa7G1JSOCAC0rdvXyOyft8dzsyZM6eZfkf+0G4AlBQ25xqk0VgazLP1++5wJfbgpGmmgRHZJqWvpzYEVXABRmW6DYNCjz/+uDkHzO+hhAvZ0OXpp582q5uo9LGt008suB4TyzlmOjDaCDdS4ZkCxvStQ4cOmdyhnWyflDa3vj527FgpUKBAjF5GuJHfnz9/fhk8eLDZ4S5Yvp6aEHTBtaCrS0SxYcMGGT58uMnvtmrVSlq2bJls/Pzzz82R6Rzbwd8tWrSQZs2amT1maQwsOZqZlV+kQ958802zxp6pLEx1YyNqjrgJvPbVyO/ld/P7mexNK4/zEY0GK4+FU3N98rrMGuG4aXbQT067Y2OiSoTf+xp2ZB8Da3OWe7I9H+WYp8kzIFqsX7++OTQTm/M577WvRn4nkT5LnllJRq6Wrn9seyMkFfB1vos9MEaMGGGePXb3u8dg8pVXXon2NzasWbOmEUFrd3ycnha9UKJQ7M4inMT4Ojt9kdZi6peNaIPt66kFySa4AAfHGTE60QUPAFIBkoMILa0u+Tv+xglodYk2yaVCnI0lsryG04waNcos/2SOK0JJXprPEckEXv9q5Lfyu6ns2ABbJEdLb+3O91q7+91fMEgUzz6rZcuWNX9jN6JLGgEaMWzOPr9sPclyT2YODBs2zNifCsuCBGZu2P0NAq9/NVofs3ZPbptbX09uuzPV7WG2dDx61PzNLAwaAZaPW19HaKdPn258fMCAAaZxIDq3A7h2E5nU5OuhjmQVXD/wEJKDOE+OHJHLCxFVHACnQECJoHA+SMvOEllGnXHE8ePHm4rPSa201HwGB/L7jrgwFOB3X8Fi7969jc3Z35aKjN2pwCzttDavWLGiTJs2zdicRo5N1hFfTljg+VDeRqQJYajA796CRRowxk3Y6pC/8VnEs3379q7diXaJ/mnk6H0htgQj1tcRztTu66GGFBfc5AKV3eaW7rzzTtOCI56sdqEriwOyFyddUJxv6NChxgERguPHj5uKjwMiGIq4AVsVKVLEtTtTgqjARFudOnVyK37t2rXNLmlUfKIsGjmmbBHZIhK20iviBmxFigabM8eb54AN6S2wbar1dXZKw9cZXyG44BnYlY40currSY+wEFwckD03bcWn5cfZqPh0scjX4oT8i+N5K/769evNIAu5PxtlKeIG5rh6p2RxPA49DVIz3kaOHGe/fv3cis8zQRxsj0IrfvxAusbOCmLAkD026N6zuMb6OqQ3QQRsexUrV650T7agvPp60iMsBJcWO3CKFAMGVGoqu634RFreis9OUuQgyX1pdBt/ePdEtqQRo2LbSk8uke4vFd/2KljiTG6dBpHITBE/eLdGhQw+0lMgvWN9nWfD37ZHx0nQ9pQF9fXgISwEF6fyOiCk5cfRmLlgKz75W5zQtviMMtturUa38QOVlsGyQLs///zzZraErfhEuvQ2aOh4HkS3dmRbo9v4A8EMnAZICo0tKNnBz/o6U+R4DgyWcRQ5GyfZnpxGt8FDmhdcnOf+WA6mJMq1FZ+jVZjSQsUnncCgDXMHiW614scf48aN813swjxkptrZik+kRcWnV8HMBPYDJrolh6jRbfzBjJpAm0NWwXl9nRk7Np3AyQs2ulVfDy7SvODSsvs5IGSKGHMPqfjsHMWeBrT4pBPYzYgWXwdt4g8qbO7cuX1tDnmPik9XlyPJbcWfM2eOSfMEY1FCOAC7s8DDz+ZEvUy/w9eZa8v5YTadwDli5G7V14OPNC24OA4H1TFww+R763xsMsKuRURg+fLlMxX/008/NRWfVTFEt6z31ug2YSBKxbacGcYR89bu7BjHVpSQBo5FDkxTshWfPSVI4WjuNmFgsMzaOpCk0IoXL+6ejEsap3///ia6tdPv1NeDjzQtuIyGFypUSA4ePGgiVut8VHii2CeeeMLsrPXyyy+b/C0Vn3QCgzbe6FYRP3zxxRfSrl07M5/T29Cxqo9Ve/fdd5889dRTpvLbXgUnL9iZCRrdxh/Yi/nM+Db+bG2O0D7zzDMmyGDTHhagcOglA5UEF0S3PCc7TqEILtK04BKhWsH0tv44Jcs+aelxQI7JpotFxSe6tTMTtMWPP7AXtgPY3iu42BtRIIf47LPPuhWflWX25FbN3SYM2JwpX/TMoLU5gtugQQMjwvQ4OJ6cZcacmku+10a3OjMheZDmc7gWXsFlAx1Wm5HPYr25XVrKtCS2jyOfpd3axCNQcOnSIrrkEGnkqPj0Ksjd0shpdJtwYGtrN2Z5WJuT2iFlZn2dfSpIJxBc2H09NLpNPoSl4NK9omvLYogSJUqYU1dp8ZmS5N2QWit+4hAouE8++aRp3F588UUjulR8lvOSu6WR09VNSYNAwaUXR84cX+c07R49eph5t+y3wEIUenLq68mDsBFcIlfrhAguFZ4BNXb+J53AtCT26ySfpdFt0iBQcMmZMyuESNdWfPZU0EYuaREouGz8TXTLHGhSaQQXzN4hZ868W/X15EPYCC6bdFgnRHA5G5+KT5RLxWfXJO9orVb8xCNQcJn3TCqBSIt0AqPkNHJ0a2nkNLpNGiCk1uYIrrU56QROGGaONHsmMCOE3K36evIhbASXwTDrhAguYgtr1apl9k5gFkNizxRTRAeV2Su4/B+bMx2sS5cuMmvWLO3WBgHejZoQXGYpsJkNs0eY+shJxTZnrrnb5EXYCC4RrHVCRm6fe+45k05o06aNeY8NqlnhpBU/6UDj5RVcTra1FZ9Gjul32q1NejAP2tocweX0CdIJTMtjrwr2drY5c/X15EXYCC7bLFonRHCZlkQXi70TvGfka8VPOhBBeQWXxSa24jNAGa5HZQcbNGTW5gguc57J4zLnec2aNWYZLzlzjW6TH2EhuFRmdv6yTmgFl12ViG614gcHVOpAweUoF7q1iAJ7VbCMVxu5pIV3kY8VXE7XIHdrT3PQGSEpg7ARXM70sk6I4LIxNgMIHLRIxSca04qftGAA8pFHHnHtjuByfhzzbln9x4wQHbRJeuDT1uY2pcDGTORubc6cGSGK5EfYRrjMTeS4bE58sCuctOInLRDcwAiXGSHMTLA7sWm3NukRGOEyQwH/J3fLlDFy6xrdpgzCNofLfqBMjaF7Re5WK37SIzCHy7QwTtCwR2ZrIxccbN++3bU5gks6gR4FA5R2vrMiZRA2guudpcDuYXRr6VrphsvBQ+AsBTaroTdBpUdsNYUTHNCDsDZHcNmJjQaOBlD3TEhZhI3gcnqDdcKbbrrJrG5CaKn0KrbBAbb1Ci5T8BiYpDehlT548K40ozeH7+Pr2F19PWURNoLr3UsBwSWVoM4XXAQKLkuo1ebBR6DgEvGq3UMDYSu4dGkVwUWg4JLWUQQfgYJLGkcRGlDBVQQNKrgpAxXc0IUKriJoUMFNGajghi5UcBVBgwpuykAFN3ShgqsIGlRwUwYquKELFVxF0KCCmzJQwQ1dqOAqggYV3JSBCm7oQgVXETSo4KYMVHBDFyq4iqBBBTdloIIbulDBVQQNKrgpAxXc0IUKriJoUMFNGajghi5UcBVBgwpuykAFN3ShgqsIGlRwUwYquKELFVxF0KCCmzJQwQ1dqOAqggYV3JSBCm7oQgVXETSo4KYMVHBDFyq4iqBBBTdloIIbulDBVQQNKrgpAxXc0IUKriJoUMFNGajghi5UcBVBgwpuykAFN3ShgqsIGlRwUwYquKELFVxF0KCCmzJQwQ1dqOAqggYV3JSBCm7oQgVXETSo4KYMVHBDFyq4iqBBBTdloIIbulDBVQQNKrgpAxXc0IUKriJoUMFNGajghi5UcBVBgwpuykAFN3ShgqsIGlRwUwYquKELFVxF0KCCmzJQwQ1dqOAqggYV3JSBCm7oQgVXETSo4KYMVHBDFyq4iqBBBTdloIIbulDBVQQNKrgpAxXc0IUKriJoUMFNGajghi5UcBVBgwpuykAFN3ShgqsIGlRwUwYquKELFVxF0KCCmzJQwQ1dqOAqggYV3JSBCm7oQgVXETSo4KYMVHBDFyq4iqBBBTdloIIbulDBVQQNKrgpAxXc0IUKriJoUMFNGajghi5UcBVBgwpuykAFN3ShgqsIGlRwUwYquKELFVxF0KCCmzJQwQ1dqOAqggYV3JSBCm7oImwE99dff5VJkyYZTp061YiBIrj43//+J/Pnz3ftfvr06ah3FMEEwYS1Ofzrr7+i3lGkNMJGcBUKhSKloYKrUCgUyQQVXIVCoUgmqOAqFApFMkEFV6FQKJIJKrgKhUKRTFDBVSgUimSCCq5CkYbA3Od//OMf8v3338vFixfl0qVL8q9//SvqXUVKI80JLg737rvvyttvv23+Hxds2rRJ8uXLJ0ePHo16RZEQULkfe+wxOXz4cNQrseP48ePy3HPPyXvvvSe///571KuKhAJfP3DggDz//PNyxx13mBVmdqVZ+vTp5Z133pETJ07EuU4ogoM0GeEOGjTIOBoCEBeUKVNGMmTIoKvPEolz586ZSr579+6oV/zx3XffyV133SUFChSQP/74I+pVRULx3//+V2rWrCnXXXed5MiRQyZOnChnzpyRn3/+2TRsw4YNk0yZMskNN9wg3bp1U9FNQaRJwf3tt9/k5ptvll69ekW9EjuIrthboV+/flGvKBKKuAju9u3b5dZbb5WyZcvqktMkAOL55ZdfGjEdNWqUEV8//P3339K5c2e59tprpX379lGvKpIbaVJwcULSCqQJrha1zp492wguG34oEocrCS7PZObMmXLLLbdI7dq15d///nfUO4rEYOPGjUZEhw4detXIlfc//fRTuf76603kq0h+pNlBsyVLlpi0wrFjx6JeiQkcsHTp0lK0aNFYIwNF3BGb4GLnwYMHmy5vu3btrioMirgBO5YsWVIyZ84c53QYKRxyutWrV9fnkAJIs4JLd/X222+XatWqRb0SE2fPnjXRATtaKRIPP8GlUnfq1Enzh0HAjz/+aHpnY8aMiXolbmjZsqXcfffdmtJJAaRZwQV169Y1rXls3VdyvDfeeKP8+eefUa8oEoNAwUVciWiJbIlwVWyTFgsXLjS2JXCID3bt2iXXXHON2SNakbxI04J76NAh45AbNmyIeuUySCE8+uij8sEHH6gQJBG8gsvcz6pVq5qKTU9Dc4ZJj7Fjx8qdd95p5t3GB8ze4bmsWbMm6hVFciFNCy55rVy5ckmVKlViiCpzbunm7tmzJ+oVRWJhBXfChAny0ksvyT333GOiMHKMjzzyiPYkkhhM90qXLl28Ty/55ZdfjOAuXrw46hVFciFNCy4YPny4yXNx4oMXtWrVkocffthMl1EkDazgMiWPVM7JkyfN60zIZ3bC66+/roOTSYjRo0eb+czxjXA5cgfBXb16ddQriuRCmhfcn376yaQVOFbHgpwuXbE2bdpEvaJICljBfeihh6LlFeldzJs3zwxQtmrVSlM4SQQGe+mlsYw3PmBlJYKrvbvkR5oXXCp34cKFpXjx4m5Fx+GYMhZfR1VcGVZw161bF/XKZWD7GjVqmDmgpBkUiceFCxeM4Mb3cE4WQLD4JL6RsSLxSPOCC+g6kVZAYKn4lSpVMmvONdJKWngHzfxATr18+fJGJFjXr0gcsCeLe0iNxZaqoTfHrATr6+R7H3jgAfnkk0/U/1MAYSG4DNYwuNClSxczYEDea8qUKVHvKpIKVxNcQIonS5YsZjBTN61JPCIiIkx6gLEKPwHlWRDNNmvWzIgvUyXp3V3pGSmCh7AQXFC5cmW5//77zXpzBnDiO7KruDriIrjg1KlTJsp94YUXdBAtkUBk33jjDTNQuWjRIl/R5Xh6dnFjIBOxrVOnTtQ7iuRG2AjuwYMHTSTAnNCPP/446lVFUiKuggvGjRtnBjNbtGihXdtEgsiVGSDYk0aM+bX0HpgLzY5hRMHZs2c3z4ZgY+/evVGfVCQ3wkZwiaQYPcfptm7dGvWqIikRH8FFZNm1iohr6dKlUa8qEgr8e+XKlWYbRp5BIHPnzm0Gi1nWS4ph1qxZ2tClAMJGcAEOpk4WXMTHxrasPpOkA7Zkni2rLFm6y79EudbG/LtlyxYpVKiQ7kWcAggrwVUoFJGI6+5iiqSFCq5CoVAkE1RwFQqFIpmggqtQKBTJBBVchUKhSCao4CoUCkUyQQVXoVAokgkquAqFQpFMUMFVKBSKZIIKrkKhUCQTVHAVCoUimaCCq1AoFMkEFVyFQqFIJqjgKhQKRTJBBVehUCiSCSq4CoVCkSwQ+f8LmWvhcvzXuAAAAABJRU5ErkJggg==)"
   ]
  },
  {
   "cell_type": "code",
   "execution_count": 39,
   "metadata": {
    "id": "Wj4Cqkmmkb7Q"
   },
   "outputs": [],
   "source": [
    "class MultiHeadAttention(tf.keras.layers.Layer):\n",
    "    def __init__(self, d_model, num_heads):\n",
    "        super(MultiHeadAttention, self).__init__()\n",
    "        self.num_heads = num_heads\n",
    "        self.d_model = d_model\n",
    "        \n",
    "        assert d_model % self.num_heads == 0\n",
    "        \n",
    "        self.depth = d_model // self.num_heads\n",
    "        \n",
    "        self.wq = tf.keras.layers.Dense(d_model)\n",
    "        self.wk = tf.keras.layers.Dense(d_model)\n",
    "        self.wv = tf.keras.layers.Dense(d_model)\n",
    "        \n",
    "        self.dense = tf.keras.layers.Dense(d_model)\n",
    "            \n",
    "    def split_heads(self, x, batch_size):\n",
    "        \"\"\"Split the last dimension into (num_heads, depth).\n",
    "        Transpose the result such that the shape is (batch_size, num_heads, seq_len, depth)\n",
    "        \"\"\"\n",
    "        x = tf.reshape(x, (batch_size, -1, self.num_heads, self.depth))\n",
    "        return tf.transpose(x, perm=[0, 2, 1, 3])\n",
    "        \n",
    "    def call(self, v, k, q, mask):\n",
    "        batch_size = tf.shape(q)[0]\n",
    "        \n",
    "        q = self.wq(q)  # (batch_size, seq_len, d_model)\n",
    "        k = self.wk(k)  # (batch_size, seq_len, d_model)\n",
    "        v = self.wv(v)  # (batch_size, seq_len, d_model)\n",
    "        \n",
    "        q = self.split_heads(q, batch_size)  # (batch_size, num_heads, seq_len_q, depth)\n",
    "        k = self.split_heads(k, batch_size)  # (batch_size, num_heads, seq_len_k, depth)\n",
    "        v = self.split_heads(v, batch_size)  # (batch_size, num_heads, seq_len_v, depth)\n",
    "        \n",
    "        # scaled_attention.shape == (batch_size, num_heads, seq_len_q, depth)\n",
    "        # attention_weights.shape == (batch_size, num_heads, seq_len_q, seq_len_k)\n",
    "        scaled_attention, attention_weights = scaled_dot_product_attention(\n",
    "            q, k, v, mask)\n",
    "        \n",
    "        scaled_attention = tf.transpose(scaled_attention, perm=[0, 2, 1, 3])  # (batch_size, seq_len_q, num_heads, depth)\n",
    "\n",
    "        concat_attention = tf.reshape(scaled_attention, \n",
    "                                    (batch_size, -1, self.d_model))  # (batch_size, seq_len_q, d_model)\n",
    "\n",
    "        output = self.dense(concat_attention)  # (batch_size, seq_len_q, d_model)\n",
    "            \n",
    "        return output, attention_weights"
   ]
  },
  {
   "cell_type": "markdown",
   "metadata": {
    "id": "MoVd9E8lfg6o"
   },
   "source": [
    "# Point-wise Feed Forward Neural Network\n",
    "Every encoder and decoder layer contains a fully connected feed-forward network. It is composed of two fully-connected layers with a $\\operatorname{ReLU}$ activation function in between them.\n",
    "$$$$\n",
    "\\begin{aligned}\n",
    "        FFN(x) = \\operatorname{max}(0,xW_1 + b_1)W_2 + b_2\n",
    "        \\end{aligned}"
   ]
  },
  {
   "cell_type": "code",
   "execution_count": 40,
   "metadata": {
    "id": "R5jQZgbtllmX"
   },
   "outputs": [],
   "source": [
    "def point_wise_feed_forward_network(d_model, dff):\n",
    "    return tf.keras.Sequential([\n",
    "        tf.keras.layers.Dense(dff, activation='relu'),  # (batch_size, seq_len, dff)\n",
    "        tf.keras.layers.Dense(d_model)  # (batch_size, seq_len, d_model)\n",
    "    ])"
   ]
  },
  {
   "cell_type": "markdown",
   "metadata": {
    "id": "yMDwvrBogCre"
   },
   "source": [
    "# Encoder\n",
    "The encoder consists of $N$ layers and each\n",
    "layer has 2 sub-layers. The first sub-layer is a multi-head\n",
    "self attention mechanism layer and the second sub-layer is\n",
    "a position-wise fully connected feed-forward neural network.\n",
    "Each of these sub-layers is preceded by a skip connection or\n",
    "residual connection and succeeded by a layer normalization block. They result in outputs of dimension $d_{model}$\n",
    "to facilitate the skip connections. The residual connections are\n",
    "important as they assist in overcoming the vanishing gradient\n",
    "problem in deep network architectures.\n",
    "$$$$\n",
    "\\begin{aligned}\n",
    "        \\operatorname{Encoder}(x) = \\operatorname{LayerNorm}(x + \\operatorname{Sublayer}(x))\n",
    "        \\end{aligned}"
   ]
  },
  {
   "cell_type": "code",
   "execution_count": 41,
   "metadata": {
    "id": "h8tVH6Cxl2cb"
   },
   "outputs": [],
   "source": [
    "class EncoderLayer(tf.keras.layers.Layer):\n",
    "    def __init__(self, d_model, num_heads, dff, rate=0.1):\n",
    "        super(EncoderLayer, self).__init__()\n",
    "\n",
    "        self.mha = MultiHeadAttention(d_model, num_heads)\n",
    "        self.ffn = point_wise_feed_forward_network(d_model, dff)\n",
    "\n",
    "        # normalize data per feature instead of batch\n",
    "        self.layernorm1 = tf.keras.layers.LayerNormalization(epsilon=1e-6)\n",
    "        self.layernorm2 = tf.keras.layers.LayerNormalization(epsilon=1e-6)\n",
    "        \n",
    "        self.dropout1 = tf.keras.layers.Dropout(rate)\n",
    "        self.dropout2 = tf.keras.layers.Dropout(rate)\n",
    "        \n",
    "    def call(self, x, training, mask):\n",
    "        # Multi-head attention layer\n",
    "        attn_output, _ = self.mha(x, x, x, mask) \n",
    "        attn_output = self.dropout1(attn_output, training=training)\n",
    "        # add residual connection to avoid vanishing gradient problem\n",
    "        out1 = self.layernorm1(x + attn_output)\n",
    "        \n",
    "        # Feedforward layer\n",
    "        ffn_output = self.ffn(out1)\n",
    "        ffn_output = self.dropout2(ffn_output, training=training)\n",
    "        # add residual connection to avoid vanishing gradient problem\n",
    "        out2 = self.layernorm2(out1 + ffn_output)\n",
    "        return out2"
   ]
  },
  {
   "cell_type": "code",
   "execution_count": 42,
   "metadata": {
    "id": "e8dEBDalnnQ_"
   },
   "outputs": [],
   "source": [
    "class Encoder(tf.keras.layers.Layer):\n",
    "    def __init__(self, num_layers, d_model, num_heads, dff, input_vocab_size,\n",
    "                maximum_position_encoding, rate=0.1):\n",
    "        super(Encoder, self).__init__()\n",
    "\n",
    "        self.d_model = d_model\n",
    "        self.num_layers = num_layers\n",
    "        \n",
    "        self.embedding = tf.keras.layers.Embedding(input_vocab_size, d_model)\n",
    "        self.pos_encoding = positional_encoding(maximum_position_encoding, \n",
    "                                                self.d_model)\n",
    "        \n",
    "        # Create encoder layers (count: num_layers)\n",
    "        self.enc_layers = [EncoderLayer(d_model, num_heads, dff, rate) \n",
    "                        for _ in range(num_layers)]\n",
    "    \n",
    "        self.dropout = tf.keras.layers.Dropout(rate)\n",
    "            \n",
    "    def call(self, x, training, mask):\n",
    "\n",
    "        seq_len = tf.shape(x)[1]\n",
    "\n",
    "        # adding embedding and position encoding.\n",
    "        x = self.embedding(x)  \n",
    "        x *= tf.math.sqrt(tf.cast(self.d_model, tf.float32))\n",
    "        x += self.pos_encoding[:, :seq_len, :]\n",
    "\n",
    "        x = self.dropout(x, training=training)\n",
    "        \n",
    "        for i in range(self.num_layers):\n",
    "            x = self.enc_layers[i](x, training, mask)\n",
    "        \n",
    "        return x"
   ]
  },
  {
   "cell_type": "markdown",
   "metadata": {
    "id": "WC-e4NOAgYjZ"
   },
   "source": [
    "# Decoder\n",
    "The decoder consists of $N$ layers and each layer has $3$ sub-layers. Two of the sub-layers are the same as those of the encoder. The third sub-layer utilizes the outputs of the encoder stack and performs multi-head attention over\n",
    "them. Decoder feeds on two types of inputs which are, the outputs of the encoder and positionally encoded target output embeddings. And just like the encoder, decoder also has subsequent layer normalization blocks and incorporation of skip connections after and before each sub-layer respectively. The principal task of decoder is to predict token at position $n$ by looking at all the preceding $n−1$ tokens using the look-ahead mask. The predicted sequence is then passed through a fully-connected neural network layer to generate the final math expression."
   ]
  },
  {
   "cell_type": "code",
   "execution_count": 43,
   "metadata": {
    "id": "EGW_y4ojnvNY"
   },
   "outputs": [],
   "source": [
    "class DecoderLayer(tf.keras.layers.Layer):\n",
    "    def __init__(self, d_model, num_heads, dff, rate=0.1):\n",
    "        super(DecoderLayer, self).__init__()\n",
    "\n",
    "        self.mha1 = MultiHeadAttention(d_model, num_heads)\n",
    "        self.mha2 = MultiHeadAttention(d_model, num_heads)\n",
    "\n",
    "        self.ffn = point_wise_feed_forward_network(d_model, dff)\n",
    "    \n",
    "        self.layernorm1 = tf.keras.layers.LayerNormalization(epsilon=1e-6)\n",
    "        self.layernorm2 = tf.keras.layers.LayerNormalization(epsilon=1e-6)\n",
    "        self.layernorm3 = tf.keras.layers.LayerNormalization(epsilon=1e-6)\n",
    "        \n",
    "        self.dropout1 = tf.keras.layers.Dropout(rate)\n",
    "        self.dropout2 = tf.keras.layers.Dropout(rate)\n",
    "        self.dropout3 = tf.keras.layers.Dropout(rate)\n",
    "        \n",
    "        \n",
    "    def call(self, x, enc_output, training, \n",
    "            look_ahead_mask, padding_mask):\n",
    "\n",
    "        # Masked multihead attention layer (padding + look-ahead)\n",
    "        attn1, attn_weights_block1 = self.mha1(x, x, x, look_ahead_mask)\n",
    "        attn1 = self.dropout1(attn1, training=training)\n",
    "        # again add residual connection\n",
    "        out1 = self.layernorm1(attn1 + x)\n",
    "        \n",
    "        # Masked multihead attention layer (only padding)\n",
    "        # with input from encoder as Key and Value, and input from previous layer as Query\n",
    "        attn2, attn_weights_block2 = self.mha2(\n",
    "            enc_output, enc_output, out1, padding_mask)\n",
    "        attn2 = self.dropout2(attn2, training=training)\n",
    "        # again add residual connection\n",
    "        out2 = self.layernorm2(attn2 + out1)\n",
    "        \n",
    "        # Feedforward layer\n",
    "        ffn_output = self.ffn(out2)\n",
    "        ffn_output = self.dropout3(ffn_output, training=training)\n",
    "        # again add residual connection\n",
    "        out3 = self.layernorm3(ffn_output + out2)\n",
    "        return out3, attn_weights_block1, attn_weights_block2"
   ]
  },
  {
   "cell_type": "code",
   "execution_count": 44,
   "metadata": {
    "id": "69_cfO8Gn6-y"
   },
   "outputs": [],
   "source": [
    "class Decoder(tf.keras.layers.Layer):\n",
    "    def __init__(self, num_layers, d_model, num_heads, dff, target_vocab_size,\n",
    "                maximum_position_encoding, rate=0.1):\n",
    "        super(Decoder, self).__init__()\n",
    "\n",
    "        self.d_model = d_model\n",
    "        self.num_layers = num_layers\n",
    "        \n",
    "        self.embedding = tf.keras.layers.Embedding(target_vocab_size, d_model)\n",
    "        self.pos_encoding = positional_encoding(maximum_position_encoding, d_model)\n",
    "        \n",
    "        # Create decoder layers (count: num_layers)\n",
    "        self.dec_layers = [DecoderLayer(d_model, num_heads, dff, rate) \n",
    "                        for _ in range(num_layers)]\n",
    "        self.dropout = tf.keras.layers.Dropout(rate)\n",
    "        \n",
    "    def call(self, x, enc_output, training, \n",
    "            look_ahead_mask, padding_mask):\n",
    "\n",
    "        seq_len = tf.shape(x)[1]\n",
    "        attention_weights = {}\n",
    "        \n",
    "        x = self.embedding(x)  # (batch_size, target_seq_len, d_model)\n",
    "        \n",
    "        x *= tf.math.sqrt(tf.cast(self.d_model, tf.float32))\n",
    "        \n",
    "        x += self.pos_encoding[:,:seq_len,:]\n",
    "        \n",
    "        x = self.dropout(x, training=training)\n",
    "\n",
    "        for i in range(self.num_layers):\n",
    "            x, block1, block2 = self.dec_layers[i](x, enc_output, training,\n",
    "                                                look_ahead_mask, padding_mask)\n",
    "        \n",
    "        # store attenion weights, they can be used to visualize while translating\n",
    "        attention_weights['decoder_layer{}_block1'.format(i+1)] = block1\n",
    "        attention_weights['decoder_layer{}_block2'.format(i+1)] = block2\n",
    "        \n",
    "        return x, attention_weights"
   ]
  },
  {
   "cell_type": "code",
   "execution_count": 45,
   "metadata": {
    "id": "mHarwZPuoKb6"
   },
   "outputs": [],
   "source": [
    "class Transformer(tf.keras.Model):\n",
    "    def __init__(self, num_layers, d_model, num_heads, dff, input_vocab_size, \n",
    "                target_vocab_size, pe_input, pe_target, rate=0.1):\n",
    "        super(Transformer, self).__init__()\n",
    "\n",
    "        self.encoder = Encoder(num_layers, d_model, num_heads, dff, \n",
    "                            input_vocab_size, pe_input, rate)\n",
    "\n",
    "        self.decoder = Decoder(num_layers, d_model, num_heads, dff, \n",
    "                            target_vocab_size, pe_target, rate)\n",
    "\n",
    "        self.final_layer = tf.keras.layers.Dense(target_vocab_size)\n",
    "        \n",
    "    def call(self, inp, tar, training, enc_padding_mask, \n",
    "            look_ahead_mask, dec_padding_mask):\n",
    "\n",
    "        # Pass the input to the encoder\n",
    "        enc_output = self.encoder(inp, training, enc_padding_mask)\n",
    "        \n",
    "        # Pass the encoder output to the decoder\n",
    "        dec_output, attention_weights = self.decoder(\n",
    "            tar, enc_output, training, look_ahead_mask, dec_padding_mask)\n",
    "        \n",
    "        # Pass the decoder output to the last linear layer\n",
    "        final_output = self.final_layer(dec_output)\n",
    "        \n",
    "        return final_output, attention_weights"
   ]
  },
  {
   "cell_type": "code",
   "execution_count": 46,
   "metadata": {
    "id": "w5YuVU3xoQQy"
   },
   "outputs": [],
   "source": [
    "class CustomSchedule(tf.keras.optimizers.schedules.LearningRateSchedule):\n",
    "    def __init__(self, d_model, warmup_steps=4000):\n",
    "        super(CustomSchedule, self).__init__()\n",
    "        \n",
    "        self.d_model = d_model\n",
    "        self.d_model = tf.cast(self.d_model, tf.float32)\n",
    "\n",
    "        self.warmup_steps = warmup_steps\n",
    "        \n",
    "    def __call__(self, step):\n",
    "        arg1 = tf.math.rsqrt(step)\n",
    "        arg2 = step * (self.warmup_steps ** -1.5)\n",
    "        \n",
    "        return tf.math.rsqrt(self.d_model) * tf.math.minimum(arg1, arg2)"
   ]
  },
  {
   "cell_type": "markdown",
   "metadata": {
    "id": "NEtpclm-hFkZ"
   },
   "source": [
    "# Optimizer\n",
    "We used $\\operatorname{Adam}$ with a custom learning\n",
    "rate scheduler as our optimizer. The learning rate was set\n",
    "according to,\n",
    "$$$$\n",
    "\\begin{aligned}\n",
    "        lrate = d_{model}^{-0.5} \\cdot \\operatorname{min}(n^{-0.5},n \\cdot w^{-1.5})\n",
    "        \\end{aligned}\n",
    "\n",
    "where, $d_{model}$ is the embedding dimension, $n$ is the step number and $w$ is the number of warm-up steps. Here, warm-up steps $w$ simply insinuates that the learning rate rises linearly for the initial $w$ training steps. We set $\\beta_1 = 0.9$, $\\beta_2 = 0.98$, $\\epsilon = 10^{-9}$ and $w = 4000$ for our model's Adam optimizer."
   ]
  },
  {
   "cell_type": "code",
   "execution_count": 47,
   "metadata": {
    "id": "3bOozkA6odRp"
   },
   "outputs": [],
   "source": [
    "learning_rate = CustomSchedule(d_model)\n",
    "\n",
    "# Adam optimizer with a custom learning rate\n",
    "optimizer = tf.keras.optimizers.Adam(learning_rate, beta_1=0.9, beta_2=0.98, epsilon=1e-9)"
   ]
  },
  {
   "cell_type": "code",
   "execution_count": 48,
   "metadata": {
    "id": "ZVdbVtACoqGM"
   },
   "outputs": [],
   "source": [
    "loss_object = tf.keras.losses.SparseCategoricalCrossentropy(from_logits=True, reduction='none')"
   ]
  },
  {
   "cell_type": "markdown",
   "metadata": {
    "id": "ZREk3GGkhtTc"
   },
   "source": [
    "# Performance Metric\n",
    "As output sequences are padded, it is important to apply a padding mask when calculating the loss. We used Sparse Categorical Cross-entropy for loss and Mean for accuracy. In the test-phase we also calcuated the BLEU (BiLingual Evaluation Understudy) score of our model to assess its translation quality.\n",
    "The BLEU score is computed as,\n",
    "$$$$\n",
    "\\begin{aligned}\n",
    "        \\operatorname{BLEU} = \\underbrace{\\operatorname{min}\\left(1,e^{1-\\frac{l_{reference}}{l_{output}}}\\right)}_{\\text{brevity penalty}} \\cdot \\underbrace{(\\prod_{i=1}^{4}precision_i)^{\\frac{1}{4}}}_{\\text{n-gram overlap}} \\\\\n",
    "        precision_i = \\frac{\\sum_{s \\in \\operatorname{Cand-Corpus}} \\sum_{i \\in s} \\operatorname{min}(m_{cand}^i, m_{ref}^{i})}{w_t^i}\n",
    "        \\end{aligned}"
   ]
  },
  {
   "cell_type": "code",
   "execution_count": 49,
   "metadata": {
    "id": "CeVsHFDgowIW"
   },
   "outputs": [],
   "source": [
    "def loss_function(real, pred):\n",
    "    # Apply a mask to paddings (0)\n",
    "    mask = tf.math.logical_not(tf.math.equal(real, 0))\n",
    "    loss_ = loss_object(real, pred)\n",
    "\n",
    "    mask = tf.cast(mask, dtype=loss_.dtype)\n",
    "    loss_ *= mask\n",
    "    \n",
    "    return tf.reduce_mean(loss_)\n",
    "\n",
    "def accuracy_function(real, pred):\n",
    "    accuracies = tf.equal(tf.cast(real, dtype=tf.int32), tf.cast(tf.argmax(pred, axis=2), dtype=tf.int32))\n",
    "\n",
    "    mask = tf.math.logical_not(tf.math.equal(tf.cast(real, dtype=tf.int32), 0))\n",
    "    accuracies = tf.math.logical_and(mask, accuracies)\n",
    "\n",
    "    accuracies = tf.cast(accuracies, dtype=tf.float32)\n",
    "    mask = tf.cast(mask, dtype=tf.float32)\n",
    "    return tf.reduce_sum(accuracies)/tf.reduce_sum(mask)"
   ]
  },
  {
   "cell_type": "code",
   "execution_count": 50,
   "metadata": {
    "id": "OtHkQd9upXZn"
   },
   "outputs": [],
   "source": [
    "train_loss = tf.keras.metrics.Mean(name='train_loss')\n",
    "train_accuracy = tf.keras.metrics.SparseCategoricalAccuracy(name='train_accuracy')\n",
    "train_accuracy_mean = tf.keras.metrics.Mean(name='train_accuracy_mean')"
   ]
  },
  {
   "cell_type": "code",
   "execution_count": 51,
   "metadata": {
    "id": "f30JUsWjs7Qz"
   },
   "outputs": [],
   "source": [
    "transformer = Transformer(num_layers, d_model, num_heads, dff,\n",
    "                          X_vocabulary_size, Y_vocabulary_size, \n",
    "                          pe_input=X_vocabulary_size, \n",
    "                          pe_target=Y_vocabulary_size,\n",
    "                          rate=dropout_rate)"
   ]
  },
  {
   "cell_type": "code",
   "execution_count": 52,
   "metadata": {
    "id": "le7iVpqA-9Hj"
   },
   "outputs": [],
   "source": [
    "def create_masks(inp, tar):\n",
    "    # Encoder padding mask (Used in the 2nd attention block in the decoder too.)\n",
    "    enc_padding_mask = create_padding_mask(inp)\n",
    "    dec_padding_mask = create_padding_mask(inp)\n",
    "\n",
    "    # Used in the 1st attention block in the decoder.\n",
    "    # It is used to pad and mask future tokens in the input received by\n",
    "    # the decoder.\n",
    "    # Look ahead mask (for hiding the rest of the sequence in the 1st decoder attention layer)\n",
    "    look_ahead_mask = create_look_ahead_mask(tf.shape(tar)[1])\n",
    "    dec_target_padding_mask = create_padding_mask(tar)\n",
    "    look_ahead_mask = tf.maximum(dec_target_padding_mask, look_ahead_mask)\n",
    "\n",
    "    return enc_padding_mask, look_ahead_mask, dec_padding_mask"
   ]
  },
  {
   "cell_type": "code",
   "execution_count": 53,
   "metadata": {
    "id": "5SGgQoolykUT"
   },
   "outputs": [],
   "source": [
    "# !rm -r /content/drive/MyDrive/MLProject/checkpoints/training_checkpoints/moops_transformer"
   ]
  },
  {
   "cell_type": "code",
   "execution_count": 54,
   "metadata": {
    "id": "ZbQEtUIr0gTK"
   },
   "outputs": [],
   "source": [
    "drive_root = '/content/drive/MyDrive/'"
   ]
  },
  {
   "cell_type": "markdown",
   "metadata": {
    "id": "JFhMzaE_h9uK"
   },
   "source": [
    "Retrieve last saved checkpoint."
   ]
  },
  {
   "cell_type": "code",
   "execution_count": 55,
   "metadata": {
    "colab": {
     "base_uri": "https://localhost:8080/"
    },
    "id": "HOcu1N_0z99Y",
    "outputId": "1d7c92a6-3ca7-4fa6-a172-e63c1ed4f449"
   },
   "outputs": [
    {
     "name": "stdout",
     "output_type": "stream",
     "text": [
      "Checkpoints directory is /content/drive/MyDrive/MLProject/checkpoints/training_checkpoints/moops_transfomer\n",
      "Checkpoints folder already exists!\n"
     ]
    }
   ],
   "source": [
    "checkpoint_directory = os.path.join(drive_root, \"MLProject/checkpoints\")\n",
    "checkpoint_directory = os.path.join(checkpoint_directory, \"training_checkpoints/moops_transfomer\")\n",
    "\n",
    "print(\"Checkpoints directory is\", checkpoint_directory)\n",
    "if os.path.exists(checkpoint_directory):\n",
    "    print(\"Checkpoints folder already exists!\")\n",
    "else:\n",
    "    print(\"Creating a checkpoints directory...\")\n",
    "    os.makedirs(checkpoint_directory)\n",
    "\n",
    "\n",
    "checkpoint = tf.train.Checkpoint(transformer=transformer, optimizer=optimizer)\n",
    "\n",
    "ckpt_manager = tf.train.CheckpointManager(checkpoint, checkpoint_directory, max_to_keep=None)"
   ]
  },
  {
   "cell_type": "code",
   "execution_count": 56,
   "metadata": {
    "colab": {
     "base_uri": "https://localhost:8080/",
     "height": 36
    },
    "id": "2qh0Nvo926C2",
    "outputId": "110a6bb4-5ea5-4f7c-faaf-3a3a4efff5c2"
   },
   "outputs": [
    {
     "data": {
      "application/vnd.google.colaboratory.intrinsic+json": {
       "type": "string"
      },
      "text/plain": [
       "'/content/drive/MyDrive/MLProject/checkpoints/training_checkpoints/moops_transfomer/ckpt-17'"
      ]
     },
     "execution_count": 56,
     "metadata": {},
     "output_type": "execute_result"
    }
   ],
   "source": [
    "last_checkpoint = ckpt_manager.latest_checkpoint\n",
    "last_checkpoint"
   ]
  },
  {
   "cell_type": "code",
   "execution_count": 57,
   "metadata": {
    "colab": {
     "base_uri": "https://localhost:8080/"
    },
    "id": "l5zQsYTX3XW_",
    "outputId": "5f708632-212d-4e63-8101-0f682b7baf9e"
   },
   "outputs": [
    {
     "name": "stdout",
     "output_type": "stream",
     "text": [
      "Last checkpoint has been restored!\n"
     ]
    }
   ],
   "source": [
    "if last_checkpoint:\n",
    "    current_epoch_num = int(last_checkpoint.split('/')[-1].split('-')[-1])\n",
    "    checkpoint.restore(last_checkpoint)\n",
    "    print('Last checkpoint has been restored!')\n",
    "else:\n",
    "    current_epoch_num = 0"
   ]
  },
  {
   "cell_type": "code",
   "execution_count": 58,
   "metadata": {
    "colab": {
     "base_uri": "https://localhost:8080/"
    },
    "id": "63xUolWn4bss",
    "outputId": "42c9cee4-a063-44e2-b074-a3f232b6c8d5"
   },
   "outputs": [
    {
     "name": "stdout",
     "output_type": "stream",
     "text": [
      "17\n"
     ]
    }
   ],
   "source": [
    "print(current_epoch_num)"
   ]
  },
  {
   "cell_type": "markdown",
   "metadata": {
    "id": "CA7calRRiGby"
   },
   "source": [
    "# Training"
   ]
  },
  {
   "cell_type": "code",
   "execution_count": 59,
   "metadata": {
    "id": "B503FqbQ4npl"
   },
   "outputs": [],
   "source": [
    "EPOCHS = 17"
   ]
  },
  {
   "cell_type": "code",
   "execution_count": 60,
   "metadata": {
    "id": "l1zz01hs47G5"
   },
   "outputs": [],
   "source": [
    "def train_step(inp, tar):\n",
    "    tar_inp = tar[:, :-1]\n",
    "    tar_real = tar[:, 1:]\n",
    "    \n",
    "    enc_padding_mask, look_ahead_mask, dec_padding_mask = create_masks(inp, tar_inp)\n",
    "    \n",
    "    with tf.GradientTape() as tape:\n",
    "        predictions, _ = transformer(inp, tar_inp, \n",
    "                                    True, \n",
    "                                    enc_padding_mask, \n",
    "                                    look_ahead_mask, \n",
    "                                    dec_padding_mask)\n",
    "        loss = loss_function(tar_real, predictions)\n",
    "\n",
    "    gradients = tape.gradient(loss, transformer.trainable_variables)    \n",
    "    optimizer.apply_gradients(zip(gradients, transformer.trainable_variables))\n",
    "    \n",
    "    train_loss(loss)\n",
    "    train_accuracy(tar_real, predictions)\n",
    "    train_accuracy_mean(accuracy_function(tar_real, predictions))"
   ]
  },
  {
   "cell_type": "code",
   "execution_count": 61,
   "metadata": {
    "id": "rkXI7vQn7V9E"
   },
   "outputs": [],
   "source": [
    "for epoch in range(current_epoch_num, EPOCHS):\n",
    "    start = time.time()\n",
    "    \n",
    "    train_loss.reset_states()\n",
    "    train_accuracy.reset_states()\n",
    "    train_accuracy_mean.reset_states()\n",
    "    \n",
    "    # inp -> math problem, tar -> expression\n",
    "    for (batch, (inp, tar)) in enumerate(data):\n",
    "        train_step(inp, tar)\n",
    "        \n",
    "        if batch % 50 == 0:\n",
    "            print (f'Epoch {epoch + 1}, Batch {batch}, Loss {train_loss.result():.5f},\\\n",
    "             SC Accuracy {train_accuracy.result():.5f}, Mean Accuracy {train_accuracy_mean.result():.5f}')\n",
    "        \n",
    "    ckpt_save_path = ckpt_manager.save()\n",
    "    print (f'Saving checkpoint for epoch {epoch+1} at {ckpt_save_path}')\n",
    "        \n",
    "    print (f'Epoch {epoch + 1}, Loss {train_loss.result():.5f},\\\n",
    "     SC Accuracy {train_accuracy.result():.5f}, Mean Accuracy {train_accuracy_mean.result():.5f}')\n",
    "\n",
    "    print (f'Training time for this epoch: {(time.time() - start):.5f} seconds\\n')"
   ]
  },
  {
   "cell_type": "code",
   "execution_count": 62,
   "metadata": {
    "id": "EZdUBXoDTf7x"
   },
   "outputs": [],
   "source": [
    "MAX_LENGTH = 40"
   ]
  },
  {
   "cell_type": "code",
   "execution_count": 63,
   "metadata": {
    "id": "0lpmz-bO95jE"
   },
   "outputs": [],
   "source": [
    "def evaluate(input_problem):\n",
    "    start_token = [len(X_lang_tokenizer.word_index)+1]\n",
    "    end_token = [len(X_lang_tokenizer.word_index)+2]\n",
    "    \n",
    "    # input_problem is the word problem, hence adding the start and end token\n",
    "    input_problem = start_token + [X_lang_tokenizer.word_index[i] for i in preprocess_X(input_problem).split(' ')] + end_token\n",
    "    encoder_input = tf.expand_dims(input_problem, 0)\n",
    "    \n",
    "    # start with expression's start token\n",
    "    decoder_input = [previous_length+1]\n",
    "    output = tf.expand_dims(decoder_input, 0)\n",
    "        \n",
    "    for i in range(MAX_LENGTH):\n",
    "        enc_padding_mask, look_ahead_mask, dec_padding_mask = create_masks(encoder_input, output)\n",
    "    \n",
    "        predictions, attention_weights = transformer(encoder_input, \n",
    "                                                    output,\n",
    "                                                    False,\n",
    "                                                    enc_padding_mask,\n",
    "                                                    look_ahead_mask,\n",
    "                                                    dec_padding_mask)\n",
    "        \n",
    "        # select the last word from the seq_len dimension\n",
    "        predictions = predictions[: ,-1:, :] \n",
    "        predicted_id = tf.cast(tf.argmax(predictions, axis=-1), dtype=tf.int32)\n",
    "        \n",
    "        # return the result if the predicted_id is equal to the end token\n",
    "        if predicted_id == previous_length + 2:\n",
    "            return tf.squeeze(output, axis=0), attention_weights\n",
    "        \n",
    "        # concatenate the predicted_id to the output which is given to the decoder\n",
    "        # as its input.\n",
    "        output = tf.concat([output, predicted_id], axis=-1)\n",
    "    return tf.squeeze(output, axis=0), attention_weights"
   ]
  },
  {
   "cell_type": "code",
   "execution_count": 64,
   "metadata": {
    "id": "79ulo1EYUyBe"
   },
   "outputs": [],
   "source": [
    "def plot_attention_weights(attention, problem, result, layer):\n",
    "    fig = plt.figure(figsize=(8, 16))\n",
    "    \n",
    "    sentence = preprocess_X(problem)\n",
    "    \n",
    "    attention = tf.squeeze(attention[layer], axis=0)\n",
    "    \n",
    "    for head in range(attention.shape[0]):\n",
    "        ax = fig.add_subplot(4, 2, head+1)\n",
    "        \n",
    "        # plot the attention weights\n",
    "        ax.matshow(attention[head][:-1, :], cmap='viridis')\n",
    "        \n",
    "        fontdict = {'fontsize': 11}\n",
    "        \n",
    "        ax.set_xticks(range(len(sentence.split(' '))+2))\n",
    "        ax.set_yticks(range(len([Y_lang_tokenizer.index_word[i] for i in list(result.numpy()) \n",
    "                            if i < len(Y_lang_tokenizer.word_index) and i not in [0,previous_length+1,previous_length+2]])+3))\n",
    "        \n",
    "        \n",
    "        ax.set_ylim(len([Y_lang_tokenizer.index_word[i] for i in list(result.numpy()) \n",
    "                            if i < len(Y_lang_tokenizer.word_index) and i not in [0,previous_length+1,previous_length+2]]), -0.5)\n",
    "            \n",
    "        ax.set_xticklabels(\n",
    "            ['<start>']+sentence.split(' ')+['<end>'], \n",
    "            fontdict=fontdict, rotation=90)\n",
    "        \n",
    "        ax.set_yticklabels([Y_lang_tokenizer.index_word[i] for i in list(result.numpy()) \n",
    "                            if i < len(Y_lang_tokenizer.word_index) and i not in [0,previous_length+1,previous_length+2]], \n",
    "                        fontdict=fontdict)\n",
    "        \n",
    "        ax.set_xlabel(f'Head {head+1}')\n",
    "    \n",
    "    plt.tight_layout()\n",
    "    plt.show()"
   ]
  },
  {
   "cell_type": "code",
   "execution_count": 65,
   "metadata": {
    "id": "XmpPLXynViSN"
   },
   "outputs": [],
   "source": [
    "def solve(problem, plot='', plot_Attention_Weights=False):\n",
    "    prediction, attention_weights = evaluate(problem)\n",
    "    predicted_expression = [Y_lang_tokenizer.index_word[i] \\\n",
    "                          for i in list(prediction.numpy()) \\\n",
    "                          if (i < len(Y_lang_tokenizer.word_index) and i not in [0,46,47])]\n",
    "    print(f'Input: {problem}')\n",
    "    print('Predicted translation: {}'.format(' '.join(predicted_expression)))\n",
    "    \n",
    "    if plot_Attention_Weights:\n",
    "        plot_attention_weights(attention_weights, problem, prediction, plot)"
   ]
  },
  {
   "cell_type": "code",
   "execution_count": 66,
   "metadata": {
    "id": "brdISGV3YYdG"
   },
   "outputs": [],
   "source": [
    "def evaluate_testset(input_problem):\n",
    "    start_token = [len(X_lang_tokenizer.word_index)+1]\n",
    "    end_token = [len(X_lang_tokenizer.word_index)+2]\n",
    "    \n",
    "    # input_problem is the word problem, hence adding the start and end token\n",
    "    input_problem = start_token + list(input_problem.numpy()[0]) + end_token\n",
    "    encoder_input = tf.expand_dims(input_problem, 0)\n",
    "    \n",
    "    # start with expression's start token\n",
    "    decoder_input = [previous_length+1]\n",
    "    output = tf.expand_dims(decoder_input, 0)\n",
    "        \n",
    "    for i in range(MAX_LENGTH):\n",
    "        enc_padding_mask, look_ahead_mask, dec_padding_mask = create_masks(encoder_input, output)\n",
    "    \n",
    "        predictions, attention_weights = transformer(encoder_input, \n",
    "                                                    output,\n",
    "                                                    False,\n",
    "                                                    enc_padding_mask,\n",
    "                                                    look_ahead_mask,\n",
    "                                                    dec_padding_mask)\n",
    "        \n",
    "        # select the last word from the seq_len dimension\n",
    "        predictions = predictions[: ,-1:, :] \n",
    "        predicted_id = tf.cast(tf.argmax(predictions, axis=-1), dtype=tf.int32)\n",
    "        \n",
    "        # return the result if the predicted_id is equal to the end token\n",
    "        if predicted_id == previous_length + 2:\n",
    "            return tf.squeeze(output, axis=0), attention_weights\n",
    "        \n",
    "        # concatenate the predicted_id to the output which is given to the decoder\n",
    "        # as its input.\n",
    "        output = tf.concat([output, predicted_id], axis=-1)\n",
    "    return tf.squeeze(output, axis=0), attention_weights"
   ]
  },
  {
   "cell_type": "code",
   "execution_count": 67,
   "metadata": {
    "id": "crjqMr2qZ4bN"
   },
   "outputs": [],
   "source": [
    "data_test = tf.data.Dataset.from_tensor_slices((X_tensor_test, Y_tensor_test)).shuffle(len(X_tensor_test))\n",
    "data_test = data_test.batch(1, drop_remainder=True)"
   ]
  },
  {
   "cell_type": "code",
   "execution_count": 68,
   "metadata": {
    "colab": {
     "base_uri": "https://localhost:8080/"
    },
    "id": "Tb1sVqiXau7f",
    "outputId": "3e3f440a-73bb-40d7-8627-7688f6514f6f"
   },
   "outputs": [
    {
     "name": "stdout",
     "output_type": "stream",
     "text": [
      "Samples tested: 10, Correctly solved: 5\n",
      "Samples tested: 20, Correctly solved: 13\n",
      "Samples tested: 30, Correctly solved: 20\n",
      "Samples tested: 40, Correctly solved: 29\n",
      "Samples tested: 50, Correctly solved: 34\n",
      "Samples tested: 60, Correctly solved: 44\n",
      "Samples tested: 70, Correctly solved: 52\n",
      "Samples tested: 80, Correctly solved: 60\n",
      "Samples tested: 90, Correctly solved: 67\n",
      "Samples tested: 100, Correctly solved: 75\n",
      "Samples tested: 110, Correctly solved: 81\n",
      "Samples tested: 120, Correctly solved: 90\n",
      "Samples tested: 130, Correctly solved: 99\n",
      "Samples tested: 140, Correctly solved: 106\n",
      "Samples tested: 150, Correctly solved: 114\n",
      "Samples tested: 160, Correctly solved: 119\n",
      "Samples tested: 170, Correctly solved: 124\n",
      "Samples tested: 180, Correctly solved: 131\n",
      "Samples tested: 190, Correctly solved: 137\n",
      "Samples tested: 200, Correctly solved: 143\n",
      "Samples tested: 210, Correctly solved: 150\n",
      "Samples tested: 220, Correctly solved: 156\n",
      "Samples tested: 230, Correctly solved: 166\n",
      "Samples tested: 240, Correctly solved: 173\n",
      "Samples tested: 250, Correctly solved: 182\n",
      "Samples tested: 260, Correctly solved: 189\n",
      "Samples tested: 270, Correctly solved: 195\n",
      "Samples tested: 280, Correctly solved: 203\n",
      "Samples tested: 290, Correctly solved: 210\n",
      "Samples tested: 300, Correctly solved: 217\n",
      "Samples tested: 310, Correctly solved: 225\n",
      "Samples tested: 320, Correctly solved: 234\n",
      "Samples tested: 330, Correctly solved: 240\n",
      "Samples tested: 340, Correctly solved: 249\n",
      "Samples tested: 350, Correctly solved: 257\n",
      "Samples tested: 360, Correctly solved: 265\n",
      "Samples tested: 370, Correctly solved: 269\n",
      "Samples tested: 380, Correctly solved: 275\n",
      "Samples tested: 390, Correctly solved: 281\n",
      "Samples tested: 400, Correctly solved: 288\n",
      "Samples tested: 410, Correctly solved: 294\n",
      "Samples tested: 420, Correctly solved: 300\n",
      "Samples tested: 430, Correctly solved: 305\n",
      "Samples tested: 440, Correctly solved: 313\n",
      "Samples tested: 450, Correctly solved: 323\n",
      "Samples tested: 460, Correctly solved: 333\n",
      "Samples tested: 470, Correctly solved: 339\n",
      "Samples tested: 480, Correctly solved: 346\n",
      "Samples tested: 490, Correctly solved: 355\n",
      "Samples tested: 500, Correctly solved: 362\n",
      "Samples tested: 510, Correctly solved: 369\n",
      "Samples tested: 520, Correctly solved: 378\n",
      "Samples tested: 530, Correctly solved: 386\n",
      "Samples tested: 540, Correctly solved: 393\n",
      "Samples tested: 550, Correctly solved: 402\n",
      "Samples tested: 560, Correctly solved: 408\n",
      "Samples tested: 570, Correctly solved: 417\n",
      "Samples tested: 580, Correctly solved: 425\n",
      "Samples tested: 590, Correctly solved: 432\n",
      "Samples tested: 600, Correctly solved: 439\n",
      "Samples tested: 610, Correctly solved: 447\n",
      "Samples tested: 620, Correctly solved: 455\n",
      "Samples tested: 630, Correctly solved: 459\n",
      "Samples tested: 640, Correctly solved: 467\n",
      "Samples tested: 650, Correctly solved: 471\n",
      "Samples tested: 660, Correctly solved: 480\n",
      "Samples tested: 670, Correctly solved: 488\n",
      "Samples tested: 680, Correctly solved: 497\n",
      "Samples tested: 690, Correctly solved: 507\n",
      "Samples tested: 700, Correctly solved: 514\n",
      "Samples tested: 710, Correctly solved: 520\n",
      "Samples tested: 720, Correctly solved: 527\n",
      "Samples tested: 730, Correctly solved: 536\n",
      "Samples tested: 740, Correctly solved: 542\n",
      "Samples tested: 750, Correctly solved: 549\n",
      "Samples tested: 760, Correctly solved: 555\n",
      "Samples tested: 770, Correctly solved: 561\n",
      "Samples tested: 780, Correctly solved: 567\n",
      "Samples tested: 790, Correctly solved: 575\n",
      "Samples tested: 800, Correctly solved: 582\n",
      "Samples tested: 810, Correctly solved: 590\n",
      "Samples tested: 820, Correctly solved: 599\n",
      "Samples tested: 830, Correctly solved: 606\n",
      "Samples tested: 840, Correctly solved: 611\n",
      "Samples tested: 850, Correctly solved: 620\n",
      "Samples tested: 860, Correctly solved: 628\n",
      "Samples tested: 870, Correctly solved: 636\n",
      "Samples tested: 880, Correctly solved: 642\n",
      "Samples tested: 890, Correctly solved: 652\n",
      "Samples tested: 900, Correctly solved: 658\n",
      "Samples tested: 910, Correctly solved: 664\n",
      "Samples tested: 920, Correctly solved: 670\n",
      "Samples tested: 930, Correctly solved: 678\n",
      "Samples tested: 940, Correctly solved: 686\n",
      "Samples tested: 950, Correctly solved: 692\n",
      "Samples tested: 960, Correctly solved: 700\n",
      "Samples tested: 970, Correctly solved: 709\n",
      "Samples tested: 980, Correctly solved: 716\n",
      "Samples tested: 990, Correctly solved: 724\n",
      "Samples tested: 1000, Correctly solved: 732\n",
      "Samples tested: 1010, Correctly solved: 741\n",
      "Samples tested: 1020, Correctly solved: 747\n",
      "Samples tested: 1030, Correctly solved: 752\n",
      "Samples tested: 1040, Correctly solved: 759\n",
      "Samples tested: 1050, Correctly solved: 767\n",
      "Samples tested: 1060, Correctly solved: 774\n",
      "Samples tested: 1070, Correctly solved: 782\n",
      "Samples tested: 1080, Correctly solved: 790\n",
      "Samples tested: 1090, Correctly solved: 795\n",
      "Samples tested: 1100, Correctly solved: 801\n",
      "Samples tested: 1110, Correctly solved: 807\n",
      "Samples tested: 1120, Correctly solved: 815\n",
      "Samples tested: 1130, Correctly solved: 822\n",
      "Samples tested: 1140, Correctly solved: 829\n",
      "Samples tested: 1150, Correctly solved: 834\n",
      "Samples tested: 1160, Correctly solved: 841\n",
      "Samples tested: 1170, Correctly solved: 847\n",
      "Samples tested: 1180, Correctly solved: 854\n",
      "Samples tested: 1190, Correctly solved: 863\n",
      "Samples tested: 1200, Correctly solved: 873\n",
      "Samples tested: 1210, Correctly solved: 881\n",
      "Samples tested: 1220, Correctly solved: 886\n",
      "Samples tested: 1230, Correctly solved: 894\n",
      "Samples tested: 1240, Correctly solved: 902\n",
      "Samples tested: 1250, Correctly solved: 908\n",
      "Samples tested: 1260, Correctly solved: 918\n",
      "Samples tested: 1270, Correctly solved: 928\n",
      "Samples tested: 1280, Correctly solved: 933\n",
      "Samples tested: 1290, Correctly solved: 940\n",
      "Samples tested: 1300, Correctly solved: 949\n",
      "Samples tested: 1310, Correctly solved: 954\n",
      "Samples tested: 1320, Correctly solved: 960\n",
      "Samples tested: 1330, Correctly solved: 967\n",
      "Samples tested: 1340, Correctly solved: 974\n",
      "Samples tested: 1350, Correctly solved: 982\n",
      "Samples tested: 1360, Correctly solved: 988\n",
      "Samples tested: 1370, Correctly solved: 994\n",
      "Samples tested: 1380, Correctly solved: 1001\n",
      "Samples tested: 1390, Correctly solved: 1008\n",
      "Samples tested: 1400, Correctly solved: 1015\n",
      "Samples tested: 1410, Correctly solved: 1025\n",
      "Samples tested: 1420, Correctly solved: 1034\n",
      "Samples tested: 1430, Correctly solved: 1042\n",
      "Samples tested: 1440, Correctly solved: 1050\n",
      "Samples tested: 1450, Correctly solved: 1058\n",
      "Samples tested: 1460, Correctly solved: 1062\n",
      "Samples tested: 1470, Correctly solved: 1071\n",
      "Samples tested: 1480, Correctly solved: 1080\n",
      "Samples tested: 1490, Correctly solved: 1087\n",
      "Samples tested: 1500, Correctly solved: 1096\n",
      "Samples tested: 1510, Correctly solved: 1102\n",
      "Samples tested: 1520, Correctly solved: 1108\n",
      "Samples tested: 1530, Correctly solved: 1117\n",
      "Samples tested: 1540, Correctly solved: 1122\n",
      "Samples tested: 1550, Correctly solved: 1131\n",
      "Samples tested: 1560, Correctly solved: 1137\n",
      "Samples tested: 1570, Correctly solved: 1145\n",
      "Samples tested: 1580, Correctly solved: 1150\n",
      "Samples tested: 1590, Correctly solved: 1158\n",
      "Samples tested: 1600, Correctly solved: 1164\n",
      "Samples tested: 1610, Correctly solved: 1170\n",
      "Samples tested: 1620, Correctly solved: 1176\n",
      "Samples tested: 1630, Correctly solved: 1184\n",
      "Samples tested: 1640, Correctly solved: 1193\n",
      "Samples tested: 1650, Correctly solved: 1202\n",
      "Samples tested: 1660, Correctly solved: 1209\n",
      "Samples tested: 1670, Correctly solved: 1216\n",
      "Samples tested: 1680, Correctly solved: 1225\n",
      "Samples tested: 1690, Correctly solved: 1233\n",
      "Samples tested: 1700, Correctly solved: 1240\n",
      "Samples tested: 1710, Correctly solved: 1248\n",
      "Samples tested: 1720, Correctly solved: 1255\n",
      "Samples tested: 1730, Correctly solved: 1265\n",
      "Samples tested: 1740, Correctly solved: 1273\n",
      "Samples tested: 1750, Correctly solved: 1280\n",
      "Samples tested: 1760, Correctly solved: 1289\n",
      "Samples tested: 1770, Correctly solved: 1297\n",
      "Samples tested: 1780, Correctly solved: 1304\n",
      "Samples tested: 1790, Correctly solved: 1311\n",
      "Samples tested: 1800, Correctly solved: 1319\n",
      "Samples tested: 1810, Correctly solved: 1328\n",
      "Samples tested: 1820, Correctly solved: 1336\n",
      "Samples tested: 1830, Correctly solved: 1345\n",
      "Samples tested: 1840, Correctly solved: 1352\n",
      "Samples tested: 1850, Correctly solved: 1361\n",
      "Samples tested: 1860, Correctly solved: 1370\n",
      "Samples tested: 1870, Correctly solved: 1376\n",
      "Samples tested: 1880, Correctly solved: 1384\n",
      "Samples tested: 1890, Correctly solved: 1393\n",
      "Samples tested: 1900, Correctly solved: 1399\n"
     ]
    }
   ],
   "source": [
    "Y_true = []\n",
    "Y_pred = []\n",
    "correctCount = 0\n",
    "\n",
    "idx = 0\n",
    "for(X_test_batch, Y_test_batch) in iter(data_test):\n",
    "    idx += 1\n",
    "    if idx % 10 == 0:\n",
    "        print(f'Samples tested: {idx}, Correctly solved: {correctCount}')\n",
    "    ground_truth_expression = ''\n",
    "    for i in Y_test_batch.numpy()[0]:\n",
    "        if i not in [0, previous_length + 1, previous_length + 2]:\n",
    "            ground_truth_expression += (Y_lang_tokenizer.index_word[i] + ' ')\n",
    "\n",
    "    Y_true.append([ground_truth_expression.split(' ')[:-1]])\n",
    "\n",
    "    prediction, attention_weights = evaluate_testset(X_test_batch)\n",
    "    predicted_expression = [Y_lang_tokenizer.index_word[i] \\\n",
    "                            for i in list(prediction.numpy()) \\\n",
    "                            if (i < len(Y_lang_tokenizer.word_index) and i not in [0, previous_length + 1, previous_length + 2])]\n",
    "    Y_pred.append(predicted_expression)\n",
    "    if ground_truth_expression.split(' ')[:-1] == predicted_expression:\n",
    "        correctCount += 1"
   ]
  },
  {
   "cell_type": "code",
   "execution_count": 69,
   "metadata": {
    "colab": {
     "base_uri": "https://localhost:8080/"
    },
    "id": "CP1-xGKxd4kK",
    "outputId": "0bb3b802-82ed-46eb-924b-36bb62d0de88"
   },
   "outputs": [
    {
     "name": "stdout",
     "output_type": "stream",
     "text": [
      "1908 1908\n"
     ]
    }
   ],
   "source": [
    "print(len(Y_true), len(Y_pred))"
   ]
  },
  {
   "cell_type": "markdown",
   "metadata": {
    "id": "pmCAuPKSle3z"
   },
   "source": [
    "# Results\n",
    "• Training-set Accuracy → $98.4\\%$\n",
    "\n",
    "• Test-set Accuracy → $73.7\\%$\n",
    "\n",
    "• Corpus BLEU (BiLingual Evaluation Understudy) → $87.2\\%$"
   ]
  },
  {
   "cell_type": "code",
   "execution_count": 70,
   "metadata": {
    "colab": {
     "base_uri": "https://localhost:8080/"
    },
    "id": "MhVCiyNjwCY0",
    "outputId": "e374a30a-681b-4d14-a6a4-3ab80fb1c916"
   },
   "outputs": [
    {
     "name": "stdout",
     "output_type": "stream",
     "text": [
      "Corpus BLEU score of the model:  0.8718046101593423\n"
     ]
    }
   ],
   "source": [
    "print('Corpus BLEU score of the model: ', corpus_bleu(Y_true, Y_pred))"
   ]
  },
  {
   "cell_type": "code",
   "execution_count": 71,
   "metadata": {
    "colab": {
     "base_uri": "https://localhost:8080/"
    },
    "id": "fWgm-EeJwOd2",
    "outputId": "56257486-6d42-4cb5-ca78-6c2945c6ad36"
   },
   "outputs": [
    {
     "name": "stdout",
     "output_type": "stream",
     "text": [
      "Accuracy of the model: 73.74213836477988%\n"
     ]
    }
   ],
   "source": [
    "print(f'Accuracy of the model: {(correctCount/len(X_tensor_test))*100}%')"
   ]
  },
  {
   "cell_type": "code",
   "execution_count": 72,
   "metadata": {
    "id": "2AVgCngvwU1d"
   },
   "outputs": [],
   "source": [
    "sample_problem = ' '.join([X_lang_tokenizer.index_word[i] \\\n",
    "                           for i in X_tensor_test[69] \\\n",
    "                           if i not in [0, len(X_lang_tokenizer.word_index)+1, len(X_lang_tokenizer.word_index)+2]])"
   ]
  },
  {
   "cell_type": "code",
   "execution_count": 73,
   "metadata": {
    "colab": {
     "base_uri": "https://localhost:8080/",
     "height": 36
    },
    "id": "ngMEnNvPxpVT",
    "outputId": "56511c54-fdf5-405e-dfc6-d28e94a30ae0"
   },
   "outputs": [
    {
     "data": {
      "application/vnd.google.colaboratory.intrinsic+json": {
       "type": "string"
      },
      "text/plain": [
       "'sarah wants to diverge 7 6 4 plums among 2 3 friends . how many would each friend experience ?'"
      ]
     },
     "execution_count": 73,
     "metadata": {},
     "output_type": "execute_result"
    }
   ],
   "source": [
    "sample_problem"
   ]
  },
  {
   "cell_type": "code",
   "execution_count": 74,
   "metadata": {
    "colab": {
     "base_uri": "https://localhost:8080/",
     "height": 1000
    },
    "id": "qRoETvsGxqw-",
    "outputId": "88f23d36-8532-4b71-b71b-ab31e5ca0d5f"
   },
   "outputs": [
    {
     "name": "stdout",
     "output_type": "stream",
     "text": [
      "Input: sarah wants to diverge 7 6 4 plums among 2 3 friends . how many would each friend experience ?\n",
      "Predicted translation: x = 7 6 4 / 2 3\n"
     ]
    },
    {
     "data": {
      "image/png": "[encoded data removed]",
      "text/plain": [
       "<Figure size 576x1152 with 8 Axes>"
      ]
     },
     "metadata": {
      "needs_background": "light"
     },
     "output_type": "display_data"
    }
   ],
   "source": [
    "solve(sample_problem, plot='decoder_layer4_block2', plot_Attention_Weights=True)"
   ]
  },
  {
   "cell_type": "code",
   "execution_count": 75,
   "metadata": {
    "colab": {
     "base_uri": "https://localhost:8080/"
    },
    "id": "J5ZgLpGNx7pO",
    "outputId": "46f521ff-fa0f-442c-fb73-42dabc608a75"
   },
   "outputs": [
    {
     "name": "stdout",
     "output_type": "stream",
     "text": [
      "Input: A painter needed to paint 12 rooms in a building. Each room takes 7 hours to paint. If he already painted 5 rooms, how much longer will he take to paint the rest?\n",
      "Predicted translation: x = ( 7 . 0 * ( 1 2 . 0 - 5 . 0 ) )\n"
     ]
    }
   ],
   "source": [
    "solve('A painter needed to paint 12 rooms in a building. Each room takes 7 hours to paint.\\\n",
    " If he already painted 5 rooms, how much longer will he take to paint the rest?'\\\n",
    " , plot='', plot_Attention_Weights=False)"
   ]
  },
  {
   "cell_type": "code",
   "execution_count": 76,
   "metadata": {
    "colab": {
     "base_uri": "https://localhost:8080/"
    },
    "id": "AAIbxvwFyndE",
    "outputId": "1753d7a3-383a-4406-f9ac-29f88977fe6b"
   },
   "outputs": [
    {
     "name": "stdout",
     "output_type": "stream",
     "text": [
      "Input: Rachel bought two coloring books. One had 23 pictures and the other had 32. After one week she had colored 19 of the pictures. How many pictures does she still have to color?\n",
      "Predicted translation: x = ( ( 2 3 . 0 + 3 2 . 0 ) - 1 9 . 0 )\n"
     ]
    }
   ],
   "source": [
    "solve('Rachel bought two coloring books. One had 23 pictures and the other had 32. After one week she had colored 19 of the pictures. How many pictures does she still have to color?', plot='', plot_Attention_Weights=False)"
   ]
  },
  {
   "cell_type": "code",
   "execution_count": 77,
   "metadata": {
    "colab": {
     "base_uri": "https://localhost:8080/"
    },
    "id": "xNj15Lz8zQ5U",
    "outputId": "e47825a3-a1a4-4024-de24-63972e2fa038"
   },
   "outputs": [
    {
     "name": "stdout",
     "output_type": "stream",
     "text": [
      "Input: Jerry had 135 pens. John took 19 pens from him. How many pens Jerry have left?\n",
      "Predicted translation: x = 1 3 5 - 1 9\n"
     ]
    }
   ],
   "source": [
    "solve('Jerry had 135 pens. John took 19 pens from him. How many pens Jerry have left?')"
   ]
  },
  {
   "cell_type": "code",
   "execution_count": 80,
   "metadata": {
    "colab": {
     "base_uri": "https://localhost:8080/"
    },
    "id": "SxQrG4X8z6Gc",
    "outputId": "1499c5a3-71e0-48e4-89bb-469b947d9c52"
   },
   "outputs": [
    {
     "name": "stdout",
     "output_type": "stream",
     "text": [
      "Input: Donald had some apples. Hillary took 69 apples from him. Now Donald has 100 apples. How many apples Donald had before?\n",
      "Predicted translation: x = 1 0 0 + 6 9\n"
     ]
    }
   ],
   "source": [
    "solve('Donald had some apples. Hillary took 69 apples from him. Now Donald has 100 apples. How many apples Donald had before?')"
   ]
  },
  {
   "cell_type": "markdown",
   "metadata": {
    "id": "Ad5dyrmXjEN7"
   },
   "source": [
    "### Our model has been deployed publicly in Hugging Face!\n",
    "Click here to check it out → https://huggingface.co/spaces/Casio991ms/MathBot"
   ]
  },
  {
   "cell_type": "markdown",
   "metadata": {
    "id": "fV4yRm9Ej14b"
   },
   "source": [
    "## Helpful links for more details\n",
    "• Vaswani, Ashish, et al. \"[Attention is all you need](https://proceedings.neurips.cc/paper/2017/file/3f5ee243547dee91fbd053c1c4a845aa-Paper.pdf).\" Advances in neural information processing systems 30 (2017).\n",
    "\n",
    "• TensorFlow tutorial on Transformers:\n",
    "\n",
    "> https://www.tensorflow.org/text/tutorials/transformer\n",
    "\n",
    "> https://www.youtube.com/watch?v=LE3NfEULV6k\n",
    "\n"
   ]
  },
  {
   "cell_type": "code",
   "execution_count": null,
   "metadata": {
    "id": "dfbVPrL82BjY"
   },
   "outputs": [],
   "source": [
    "! pip install gradio\n",
    "import gradio as gr\n",
    "\n",
    "def Solve(input):\n",
    "    return solve(input)\n",
    "\n",
    "interface = gr.Interface(fn = Solve, inputs = 'text', outputs = 'text')\n",
    "interface.launch()"
   ]
  },
  {
   "cell_type": "code",
   "execution_count": null,
   "metadata": {
    "id": "uCjqQmVyFIyd"
   },
   "outputs": [],
   "source": []
  }
 ],
 "metadata": {
  "accelerator": "GPU",
  "colab": {
   "collapsed_sections": [],
   "name": "mathbot.ipynb",
   "provenance": []
  },
  "kernelspec": {
   "display_name": "Python 3 (ipykernel)",
   "language": "python",
   "name": "python3"
  },
  "language_info": {
   "codemirror_mode": {
    "name": "ipython",
    "version": 3
   },
   "file_extension": ".py",
   "mimetype": "text/x-python",
   "name": "python",
   "nbconvert_exporter": "python",
   "pygments_lexer": "ipython3",
   "version": "3.10.0"
  }
 },
 "nbformat": 4,
 "nbformat_minor": 1
}
